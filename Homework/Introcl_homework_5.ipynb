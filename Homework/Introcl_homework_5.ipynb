{
 "cells": [
  {
   "cell_type": "markdown",
   "metadata": {},
   "source": [
    "# LIN 353C: Introduction to Computational Linguistics,  Fall 2022, Erk\n",
    "\n",
    "# Homework 5:  Logistic regression, and word similarities\n",
    "\n",
    "## Due: Wednesday October 19, 3pm right before class\n",
    "\n",
    "## Your name: Eloragh Espie\n",
    "## Your EID: eae2273\n",
    "\n",
    "This homework comes with the following files:\n",
    "\n",
    "* Introcl_homework_5.ipynb: this notebook, which has the homework problems. **Please put your answers into this same notebook.**\n",
    "* `trainreviews.txt`, `trainlabels.txt`, `testreviews.txt`, `testlabels.txt`: Data to be used for the sentiment analysis classifier\n",
    "\n",
    "\n",
    "Please record all your answers in the appropriate place in this notebook, and **do not forget to put your name and EID at the top of this notebook**.\n",
    "\n",
    "For the part of the homework that requires you to write Python code,\n",
    "we need to see the code.\n",
    "You can omit statements that\n",
    "produced an error or that did not form part of the eventual solution,\n",
    "but please include all the Python code that formed part of your\n",
    "solution. \n",
    "\n",
    "Please use comments to explain what your code does. Any code that seems complicated to you, or goes on for more than 2 lines, can probably use a comment. Just practice commenting more than you think the code needs. As you will see once you pull out an old piece of code you wrote and try to figure out what you were doing, code always needs more comments than you think.\n",
    "\n",
    "### Important note: Please hit the fast-forward button on this notebook, and confirm \"Restart and Run all cells\", so the code included in this notebook will be executed on your machine. However, there is one command below (loading a gensim space) that may take a while, please plan for that. \n",
    "\n",
    "\n",
    "**If any of these instructions do not make sense to you, please get in\n",
    " touch with the instructor right away.**\n",
    "\n",
    "\n",
    "A perfect solution to this homework will be worth *100* points. \n",
    "\n"
   ]
  },
  {
   "cell_type": "markdown",
   "metadata": {},
   "source": [
    "# Problem 1: Sentiment Analysis with Logistic Regression \n",
    "\n",
    "In this problem, you will do classification, again for sentiment analysis: You will train a classifier to tell apart positive and negative  reviews. But this time, you will not use Naive Bayes but Logistic Regression.\n",
    "\n",
    "## Training and test data\n",
    "\n",
    "The data we use is from http://www.cs.jhu.edu/~mdredze/datasets/sentiment/index2.html. They have reviews in four different areas; we only use the DVD movie reviews. We have split the reviews into a training set and a test set; the files are included with this homework. \n",
    "\n",
    "Here is how to read in the reviews, and their gold labels. We have used 1 for positive reviews, and 0 for negative reviews:"
   ]
  },
  {
   "cell_type": "code",
   "execution_count": 1,
   "metadata": {},
   "outputs": [
    {
     "name": "stdout",
     "output_type": "stream",
     "text": [
      "number of training datapoints:  1800\n",
      "number of test datapoints:  199\n"
     ]
    }
   ],
   "source": [
    "# training data\n",
    "trainingdocs = open(\"trainreviews.txt\").readlines()\n",
    "# training labels: convert to integers\n",
    "traininglabels = [int(v) for v in open(\"trainlabels.txt\").read().split()]\n",
    "\n",
    "# test data\n",
    "testdocs = open(\"testreviews.txt\").readlines()\n",
    "# test labels: convert to integer\n",
    "testlabels = [int(v) for v in open(\"testlabels.txt\").read().split()]\n",
    "\n",
    "print(\"number of training datapoints: \", len(trainingdocs))\n",
    "print(\"number of test datapoints: \", len(testdocs))"
   ]
  },
  {
   "cell_type": "markdown",
   "metadata": {},
   "source": [
    "## 1.1 Preprocessing (20 points)\n",
    "\n",
    "In the Jupyter Notebook on Naive Bayes with scikit-learn, you learned how to use sklearn's feature extraction datatypes to transform text data into the vectors of numbers that sklearn takes as input. \n",
    "\n",
    "For this problem, use again the text transformation datatype `CountVectorizer`. Please check the notebook on Naive Bayes on how to get an object of this type. To remind you, `CountVectorizer` takes as input a list of documents and turns them into a matrix of counts.\n",
    "\n",
    "In the Naive Bayes notebook, we used the `CountVectorizer` object with all its default values. But it can be customized. If you like, you can experiment with some settings, for example the `CountVectorizer` can also remove stopwords, or count bigrams instead of unigrams only. You can find information on this here:\n",
    "* Here is the documentation page: https://scikit-learn.org/stable/modules/generated/sklearn.feature_extraction.text.CountVectorizer.html\n",
    "* Here is a tutorial: https://scikit-learn.org/stable/modules/feature_extraction.html#text-feature-extraction\n",
    "\n",
    "If you experiment with the settings, document clearly what settings you used and what they do.\n",
    "\n",
    "Use a `CountVectorizer` object to transform both the training and the test data from above. Please store the `CountVectorizer` object in a variable called `feature_extractor`.\n",
    "\n"
   ]
  },
  {
   "cell_type": "code",
   "execution_count": 2,
   "metadata": {},
   "outputs": [],
   "source": [
    "# place your code here\n",
    "\n",
    "from sklearn.feature_extraction.text import CountVectorizer\n",
    "\n",
    "# initialize the CountVectorizer object\n",
    "\n",
    "feature_extractor = CountVectorizer()\n",
    "\n",
    "# fit transform to the training docs\n",
    "\n",
    "trans_trainingdocs = feature_extractor.fit_transform(trainingdocs)\n",
    "\n",
    "# transform test data for later\n",
    " \n",
    "trans_testdocs = feature_extractor.transform(testdocs)"
   ]
  },
  {
   "cell_type": "markdown",
   "metadata": {},
   "source": [
    "## 1.2 Training and test (20 points)\n",
    "\n",
    "For this problem, make a logistic regression object using `sklearn`, train it on the training data, and apply it to the test data. \n",
    "\n",
    "This works exactly like for Naive Bayes, except that you need a `LogisticRegression` object, as described here:\n",
    "https://scikit-learn.org/stable/modules/generated/sklearn.linear_model.LogisticRegression.html\n",
    "\n",
    "You will need to import it from `sklearn.linear_model`. Please store the classifier itself in a variable called `lmodel`. And store the classification results for the test data in a variable called `result`.\n"
   ]
  },
  {
   "cell_type": "code",
   "execution_count": 3,
   "metadata": {},
   "outputs": [],
   "source": [
    "# space for your code here\n",
    "\n",
    "from sklearn.linear_model import LogisticRegression\n",
    "\n",
    "# initialize the LogisitcRegression object\n",
    "# I upped the max iterations from 100 to 200\n",
    "# because I kept getting an error that I was surpassing the max\n",
    "\n",
    "lmodel = LogisticRegression(max_iter = 200)\n",
    "\n",
    "# fit the model using the transformed training docs and labels\n",
    "\n",
    "lmodel.fit(trans_trainingdocs, traininglabels)\n",
    "\n",
    "# store the models predictions for the test docs in result\n",
    "\n",
    "result = lmodel.predict(trans_testdocs)"
   ]
  },
  {
   "cell_type": "markdown",
   "metadata": {},
   "source": [
    "You can now make a list that pairs each prediction with the true label by using the function `zip()`. This function takes two lists of equal length and \"zips\" them into a list of pairs, like so:"
   ]
  },
  {
   "cell_type": "code",
   "execution_count": 4,
   "metadata": {},
   "outputs": [
    {
     "data": {
      "text/plain": [
       "[('a', 100), ('b', 200), ('c', 300)]"
      ]
     },
     "execution_count": 4,
     "metadata": {},
     "output_type": "execute_result"
    }
   ],
   "source": [
    "list1 = [\"a\", \"b\", \"c\"]\n",
    "list2 = [100, 200, 300]\n",
    "list(zip(list1, list2))"
   ]
  },
  {
   "cell_type": "markdown",
   "metadata": {},
   "source": [
    "You will need to use this command:\n",
    "\n",
    "`predicted_and_gold = list(zip(result, testlabels))`\n",
    "\n",
    "This will produce a list of pairs. The first member of each pair is the model's guess, and the second member of the pair is the true label.\n",
    "\n",
    "When you inspect the first elements of `predicted_and_gold` with the command\n",
    "`predicted_and_gold[:5]`\n",
    "you should see something like this:\n",
    "`[(1, 1), (1, 1), (1, 1), (1, 1), (0, 1)]`\n",
    "\n",
    "Please compute the *accuracy* of your model as the fraction of test datapoint where it got the prediction right:\n",
    "* Count the number of correct guesses: Iterate over the pairs of labels in `predicted_and_gold`. Whenever the predicted label is the same as the gold label, add one to the number of correct guesses.\n",
    "* Afterwards, you can compute the accuracy as the number of correct guesses divided by the number of test labels."
   ]
  },
  {
   "cell_type": "code",
   "execution_count": 5,
   "metadata": {},
   "outputs": [
    {
     "name": "stdout",
     "output_type": "stream",
     "text": [
      "Confidence score: 79.899%\n"
     ]
    }
   ],
   "source": [
    "# space for your code here\n",
    "\n",
    "# create the zip list that matches\n",
    "# the models result to the correct label\n",
    "\n",
    "predicted_and_gold = list(zip(result, testlabels))\n",
    "\n",
    "#get the length of the labels for later\n",
    "\n",
    "test_length = len(testlabels)\n",
    "\n",
    "# set a counter variable\n",
    "\n",
    "correct_guesses = 0\n",
    "\n",
    "# loop through the tuples in the zip list\n",
    "# every time the two items in the tuple match\n",
    "# add one to the counter variable\n",
    "\n",
    "for tup in predicted_and_gold:\n",
    "    if tup[0] == tup[1]:\n",
    "        correct_guesses += 1\n",
    "\n",
    "# the confidence score is the number of correct guesses\n",
    "# divided by the number of labels\n",
    "\n",
    "print(f\"Confidence score: {correct_guesses/test_length:.3%}\")"
   ]
  },
  {
   "cell_type": "markdown",
   "metadata": {},
   "source": [
    "## 1.3 Inspecting weights (20 points)\n",
    "\n",
    "As we discussed in class, logistic regression learns a weight for each feature. Features with a high positive weight are the features that are most typical of positive reviews. Features with a high negative weight are the features that are most typical of negative reviews. \n",
    "\n",
    "For this problem, you will inspect the weights to see which features the model found particularly indicative. \n",
    "\n",
    "We will again use the function `zip()` that we used in the previous problem. We will also make use of the fact that a logistic regression model in sklearn stores a matrix of all its feature weights in `coef_` (with the underscore). The features are in the same order as in the list of feature names in `feature_extractor`. You can make a list of all feature/weight pairs with the following command:\n",
    "\n",
    "`words_and_weights= zip(feature_extractor.get_feature_names(), \n",
    "                       lmodel.coef_.tolist()[0])`\n",
    "                       \n",
    "Please inspect indicative features as follows:\n",
    "* Sort the list `words_and_weights` of word/weight pairs by the weights.\n",
    "* Display the 10 words with the highest positive weight.\n",
    "* Display the 10 words with the lowest negative weight."
   ]
  },
  {
   "cell_type": "code",
   "execution_count": 6,
   "metadata": {},
   "outputs": [
    {
     "name": "stdout",
     "output_type": "stream",
     "text": [
      "Highest Positive Weights: \n",
      "[('great', 1.1277303727556864), ('best', 1.0546522117197992), ('loved', 0.9508785491487797), ('enjoy', 0.8659458996932532), ('must', 0.8396422305054788), ('hope', 0.78735262599987), ('wonderful', 0.7817901450264934), ('love', 0.7708058637963479), ('season', 0.7393045911319344), ('still', 0.7196901962186345)]\n",
      "\n",
      "Lowest Negative Weights: \n",
      "[('awful', -0.7817036522318183), ('lame', -0.79306275902006), ('minutes', -0.8474214890082965), ('stupid', -0.8753677109871152), ('waste', -0.9735051993875623), ('sucks', -0.9740612830515655), ('bad', -1.0131718571944097), ('terrible', -1.0994148312025132), ('horrible', -1.137012493011319), ('boring', -1.338391951585316)]\n"
     ]
    },
    {
     "name": "stderr",
     "output_type": "stream",
     "text": [
      "/Library/Frameworks/Python.framework/Versions/3.10/lib/python3.10/site-packages/sklearn/utils/deprecation.py:87: FutureWarning: Function get_feature_names is deprecated; get_feature_names is deprecated in 1.0 and will be removed in 1.2. Please use get_feature_names_out instead.\n",
      "  warnings.warn(msg, category=FutureWarning)\n"
     ]
    }
   ],
   "source": [
    "# space for your code here\n",
    "\n",
    "#TODO: Ask about weights -\n",
    "## Do they correlate to the positive and negative reviews?\n",
    "\n",
    "# use zip again to create tuples of the feature names and their weights\n",
    "\n",
    "words_and_weights = zip(feature_extractor.get_feature_names(), lmodel.coef_.tolist()[0])\n",
    "\n",
    "# sort by weight, highest to lowest\n",
    "\n",
    "words_and_weights_sorted = sorted(words_and_weights, key = lambda x: x[1], reverse = True)\n",
    "\n",
    "# print the 10 features with the highest positive weight\n",
    "# and the 10 features with the lowest negative weight\n",
    "\n",
    "print(f\"Highest Positive Weights: \\n{words_and_weights_sorted[:10]}\\n\\n\\\n",
    "Lowest Negative Weights: \\n{words_and_weights_sorted[-11:-1]}\")"
   ]
  },
  {
   "cell_type": "markdown",
   "metadata": {},
   "source": [
    "Comment on your findings: Do the features intuitively make sense?"
   ]
  },
  {
   "cell_type": "markdown",
   "metadata": {},
   "source": [
    "*space for your text answer here*\n",
    "\n",
    "The features do make sense. The features with the highest positive weights are very positive English words, meaning that the model correctly interpretted them"
   ]
  },
  {
   "cell_type": "markdown",
   "metadata": {},
   "source": [
    "# Problem 2: Words in semantic space \n",
    "\n",
    "In the rest of this homework, you will explore pre-computed word embeddings, context-based representations of word meaning. For this, you will need the following Python packages:\n",
    "\n",
    "* gensim, https://pypi.org/project/gensim/\n",
    "* matplotlib, https://matplotlib.org/users/installing.html\n",
    "* sklearn, https://scikit-learn.org/stable/install.html#installation-instructions\n",
    "* numpy, https://www.scipy.org/install.html\n",
    "\n",
    "\n",
    "The *gensim* package comes with a number of pre-computed embeddings. For this homework, we will use the smallest one to make sure you can run the homework on your computer. If you want to use pre-computed word embeddings for your own work, please use embeddings that have more dimensions and that provide a better fit to human similarity ratings! (As a rule of thumb, higher-dimensional vectors will often give you better meaning representations, but they will also be a larger dataset.)\n",
    "\n",
    "Here is the code that loads pre-computed GloVE embeddings that have been learned from Wikipedia and Gigaword, where each word is represented by a 50-dimensional vector. *Note*: The first time you execute the `load()` command, it downloads the embedding\n",
    "dataset and stores it on your computer. If you execute the `load()` command a second time, the data will be loaded locally from your computer, it is not downloaded a second time."
   ]
  },
  {
   "cell_type": "code",
   "execution_count": 7,
   "metadata": {},
   "outputs": [],
   "source": [
    "# loading the gensim package : \n",
    "# we only need the downloader\n",
    "import gensim.downloader as gensim_api\n",
    "gensim_api.info()[\"models\"].keys()\n",
    "\n",
    "# getting the smallest space\n",
    "space = gensim_api.load(\"glove-wiki-gigaword-50\")"
   ]
  },
  {
   "cell_type": "markdown",
   "metadata": {},
   "source": [
    "The data structure we have stored in `space` comes with a number of methods defined by Gensim. Here are some of the most important ones:"
   ]
  },
  {
   "cell_type": "code",
   "execution_count": 8,
   "metadata": {},
   "outputs": [
    {
     "name": "stdout",
     "output_type": "stream",
     "text": [
      "10 most similar words to 'dog': [('cat', 0.9218004941940308), ('dogs', 0.8513158559799194), ('horse', 0.7907583713531494), ('puppy', 0.7754920721054077), ('pet', 0.7724708318710327), ('rabbit', 0.7720814347267151), ('pig', 0.7490062117576599), ('snake', 0.7399188876152039), ('baby', 0.7395570278167725), ('bite', 0.7387937307357788)]\n",
      "\n",
      "Cosine similarity of 'cat' and 'dog': 0.9218005\n",
      "\n",
      "here is the vector for 'rhino': [-0.47675  -0.90334  -0.22451   0.24039   0.45649   0.10803  -0.99265\n",
      " -1.5533    1.6991    0.39065   0.75083  -0.029712  0.73762  -0.18474\n",
      "  0.42353   0.10064   0.53984   0.22226  -0.81498   0.4811   -1.0921\n",
      " -0.060861  0.11872  -0.35688  -0.55111   0.22513  -0.32886   0.22122\n",
      " -0.088048 -1.0982    0.62585  -0.19342  -0.068856  0.59042   0.11721\n",
      "  0.83193   0.54431  -1.8303   -0.36146  -0.59634  -0.37526  -0.10193\n",
      " -0.41323  -0.5087    0.53766   0.28345   0.10833  -0.050318 -0.6323\n",
      " -0.88698 ]\n",
      "\n"
     ]
    }
   ],
   "source": [
    "# This retrieves the top N (in this case 10)\n",
    "# most similar words to ’dog ’ in this\n",
    "# embedding space , with cosine similarities to ’dog ’\n",
    "print(\"10 most similar words to 'dog':\", \n",
    "      space.most_similar (\"dog\" , topn = 10))\n",
    "print()\n",
    "\n",
    "# This computes the cosine similarity between # the vectors for ’cat’ and ’dog’\n",
    "print(\"Cosine similarity of 'cat' and 'dog':\",\n",
    "      space.similarity (\"cat\" , \"dog\"))\n",
    "print()\n",
    "\n",
    "# this returns the vector for the word ’rhino ’\n",
    "print(\"here is the vector for 'rhino':\",\n",
    "      space [\"rhino\"])\n",
    "print()"
   ]
  },
  {
   "cell_type": "markdown",
   "metadata": {},
   "source": [
    "\n",
    "## 2.1 Inspecting nearest neighbors (20 points)\n",
    "\n",
    "Use the method `most_similar()`, as demonstrated above, to determine the 10 nearest neighbors of:\n",
    "* three nouns of your choice that have more than one sense (like \"bank\" or \"bat\")\n",
    "* three verbs of your choice\n",
    "* three adjectives of your choice\n",
    "* three words that describe professions"
   ]
  },
  {
   "cell_type": "code",
   "execution_count": 9,
   "metadata": {},
   "outputs": [
    {
     "name": "stdout",
     "output_type": "stream",
     "text": [
      "Nouns:\n",
      " 10 most similar words to 'ball': [('kick', 0.864284873008728), ('catch', 0.8190028667449951), ('off', 0.8133060336112976), ('kicking', 0.8079286813735962), ('got', 0.8033515214920044), ('throw', 0.7966356873512268), ('missed', 0.7893549799919128), ('back', 0.7857473492622375), ('throws', 0.7807802557945251), ('caught', 0.7794879674911499)]\n",
      "\n",
      " 10 most similar words to 'change': [('changes', 0.9336544275283813), ('this', 0.8859972953796387), ('future', 0.8816928863525391), ('should', 0.8759328126907349), ('reason', 0.8728045225143433), ('changing', 0.869964599609375), ('follow', 0.8681372404098511), ('not', 0.8624958992004395), ('step', 0.860984742641449), ('mean', 0.8609804511070251)]\n",
      "\n",
      " 10 most similar words to 'train': [('bus', 0.9016344547271729), ('trains', 0.8934577703475952), ('buses', 0.8183972835540771), ('traveling', 0.8002660870552063), ('passenger', 0.797989010810852), ('travelling', 0.7891693115234375), ('commuter', 0.7786431908607483), ('taxi', 0.7693893313407898), ('passengers', 0.769314706325531), ('traffic', 0.7667640447616577)]\n",
      "\n",
      "Verbs:\n",
      " 10 most similar words to 'walk': [('walking', 0.9026178121566772), ('walks', 0.8258365988731384), ('walked', 0.7914988994598389), ('ride', 0.7764880657196045), ('waiting', 0.773319661617279), ('go', 0.7616651058197021), ('sit', 0.7587370872497559), ('going', 0.7516139149665833), ('just', 0.7488577961921692), ('halfway', 0.7466045618057251)]\n",
      "\n",
      " 10 most similar words to 'jump': [('jumps', 0.8670732975006104), ('jumping', 0.8335473537445068), ('drop', 0.7878157496452332), ('leap', 0.7775766849517822), ('climb', 0.761256217956543), ('finish', 0.7465822100639343), ('dropping', 0.7418968677520752), ('fastest', 0.7409392595291138), ('climbing', 0.7303062081336975), ('straight', 0.7195446491241455)]\n",
      "\n",
      " 10 most similar words to 'ignore': [('ought', 0.8340659737586975), ('cannot', 0.8203456401824951), ('acknowledge', 0.8182746171951294), ('understand', 0.8114844560623169), ('excuse', 0.8096165657043457), ('argue', 0.806831955909729), ('dictate', 0.8063534498214722), ('insist', 0.80462247133255), ('criticize', 0.8038389682769775), ('hesitate', 0.7994267344474792)]\n",
      "\n",
      "Adjectives:\n",
      " 10 most similar words to 'aloof': [('perpetually', 0.7656285762786865), ('impassive', 0.7508364915847778), ('fixated', 0.745178759098053), ('distrustful', 0.7386513352394104), ('uninterested', 0.7376158237457275), ('sullen', 0.7313997745513916), ('demeanor', 0.7309276461601257), ('uncomfortably', 0.729522705078125), ('unruffled', 0.7292666435241699), ('unconcerned', 0.7290184497833252)]\n",
      "\n",
      " 10 most similar words to 'great': [('greatest', 0.8162122964859009), ('good', 0.7982692718505859), ('perhaps', 0.7948641180992126), ('life', 0.7842895984649658), ('well', 0.7827135920524597), ('little', 0.7802039384841919), ('much', 0.7801195979118347), ('inspiration', 0.7777776718139648), ('luck', 0.7774538993835449), ('experience', 0.771788477897644)]\n",
      "\n",
      " 10 most similar words to 'soft': [('thin', 0.833330512046814), ('smooth', 0.7696985006332397), ('stiff', 0.7679731249809265), ('mix', 0.750785231590271), ('hot', 0.7462472915649414), ('cool', 0.7453752756118774), ('flat', 0.7436902523040771), ('lean', 0.740821123123169), ('thick', 0.7355251312255859), ('cream', 0.729607105255127)]\n",
      "\n",
      "Profession Words:\n",
      " 10 most similar words to 'executive': [('ceo', 0.911155641078949), ('chairman', 0.9009609818458557), ('chief', 0.8721069693565369), ('vice', 0.8265426158905029), ('director', 0.8079127669334412), ('managing', 0.7996167540550232), ('co', 0.7803943753242493), ('board', 0.764125406742096), ('general', 0.7613184452056885), ('directors', 0.7444108724594116)]\n",
      "\n",
      " 10 most similar words to 'report': [('reports', 0.908750057220459), ('cited', 0.8635913133621216), ('according', 0.8569211363792419), ('citing', 0.8553104400634766), ('reported', 0.8315337896347046), ('agency', 0.818430483341217), ('press', 0.815492570400238), ('reporting', 0.8092586398124695), ('official', 0.8070169687271118), ('concluded', 0.8039052486419678)]\n",
      "\n",
      " 10 most similar words to 'meeting': [('conference', 0.9094429612159729), ('meetings', 0.8820489048957825), ('talks', 0.8670185208320618), ('discuss', 0.8639705181121826), ('meet', 0.8616299629211426), ('summit', 0.8573991060256958), ('ministers', 0.8558546900749207), ('delegation', 0.8443616628646851), ('met', 0.8387518525123596), ('visit', 0.8328627347946167)]\n",
      "\n"
     ]
    }
   ],
   "source": [
    "# space for your code here\n",
    "\n",
    "# create a nested dict with a key for each \"class\"\n",
    "# create a key for each word in the class\n",
    "# the value of the nested key are the 10 most similar words\n",
    "\n",
    "three_dict = {\"Nouns\": {\"ball\": space.most_similar(\"ball\", topn = 10), \"change\": space.most_similar(\"change\", topn = 10), \"train\": space.most_similar(\"train\", topn = 10)}, \n",
    "              \"Verbs\": {\"walk\": space.most_similar(\"walk\", topn = 10), \"jump\": space.most_similar(\"jump\", topn = 10), \"ignore\": space.most_similar(\"ignore\", topn = 10)},\n",
    "              \"Adjectives\": {\"aloof\": space.most_similar(\"aloof\", topn = 10), \"great\": space.most_similar(\"great\", topn = 10), \"soft\": space.most_similar(\"soft\", topn = 10)},\n",
    "              \"Profession Words\": {\"executive\": space.most_similar(\"executive\", topn = 10), \"report\": space.most_similar(\"report\", topn = 10), \"meeting\": space.most_similar(\"meeting\", topn = 10)}}\n",
    "\n",
    "# loop through the dictionary\n",
    "\n",
    "for key, value in three_dict.items():\n",
    "    # print the class\n",
    "\n",
    "    print(f\"{key}:\")\n",
    "\n",
    "    # print the word and it's 10 most similar words\n",
    "\n",
    "    for word in value:\n",
    "        print(f\" 10 most similar words to '{word}': {three_dict[key][word]}\\n\")"
   ]
  },
  {
   "cell_type": "markdown",
   "metadata": {},
   "source": [
    "Please note down at least three observations about the nearest neighbors that you computed:"
   ]
  },
  {
   "cell_type": "markdown",
   "metadata": {},
   "source": [
    "*space for your text answer*"
   ]
  },
  {
   "cell_type": "markdown",
   "metadata": {},
   "source": [
    "## 2.2 Visualization (5 points)\n",
    "\n",
    "Below is a piece of code that projects word embeddings to a two-dimensional space in a way that, as far as possible, preserves relative location between points. It then visualizes the given points. "
   ]
  },
  {
   "cell_type": "code",
   "execution_count": 10,
   "metadata": {},
   "outputs": [],
   "source": [
    "import numpy as np\n",
    "import matplotlib.pyplot as plt\n",
    "from sklearn.decomposition import PCA\n",
    "\n",
    "# This function takes as input a list of words,\n",
    "# and a gensim KeyedVectors object,\n",
    "# and uses Principal Component Analysis\n",
    "# to project all the words to a 2-dimensional space,\n",
    "# which is visualized using pyplot.\n",
    "def visualize_words(words, space):\n",
    "    # get the vectors for all the words,\n",
    "    # and store in an array\n",
    "    word_vectors = np.array([space[w] for w in words])\n",
    "    \n",
    "    # use Principal Component Analysis \n",
    "    # to reduce the vectors for all the words to\n",
    "    # only two coordinates each\n",
    "    # while retaining as much of the information\n",
    "    # as possible\n",
    "    twodim = PCA().fit_transform(word_vectors)[:,:2]\n",
    "\n",
    "    # set up the canvas\n",
    "    plt.figure(figsize=(6,6))\n",
    "    # add a scatter plot of the two-D embeddings\n",
    "    plt.scatter(twodim[:,0], twodim[:,1], edgecolors='k', c='r')\n",
    "    # add each of the words to the plot, a bit above and to the right\n",
    "    # of the 2-D dot it goes with\n",
    "    for word, (x,y) in zip(words, twodim):\n",
    "        plt.text(x+0.05, y+0.05, word)\n",
    "\n",
    "    # now show the canvas\n",
    "    plt.show()\n"
   ]
  },
  {
   "cell_type": "markdown",
   "metadata": {},
   "source": [
    "To use the code, call `visualize_words()` with two arguments: a list of words, and a space. Here is an example:"
   ]
  },
  {
   "cell_type": "code",
   "execution_count": 11,
   "metadata": {},
   "outputs": [
    {
     "data": {
      "image/png": "[encoded data removed]",
      "text/plain": [
       "<Figure size 600x600 with 1 Axes>"
      ]
     },
     "metadata": {},
     "output_type": "display_data"
    }
   ],
   "source": [
    "visualize_words([\"dog\", \"cat\", \"mouse\", \"gerbil\", \"canary\"], space)"
   ]
  },
  {
   "cell_type": "markdown",
   "metadata": {},
   "source": [
    "For *three* of the words you inspected in 2.1, make visualizions that include the word and its 10 nearest neighbors as determined in 2.1. "
   ]
  },
  {
   "cell_type": "code",
   "execution_count": 12,
   "metadata": {},
   "outputs": [
    {
     "data": {
      "image/png": "[encoded data removed]",
      "text/plain": [
       "<Figure size 600x600 with 1 Axes>"
      ]
     },
     "metadata": {},
     "output_type": "display_data"
    },
    {
     "data": {
      "image/png": "[encoded data removed]",
      "text/plain": [
       "<Figure size 600x600 with 1 Axes>"
      ]
     },
     "metadata": {},
     "output_type": "display_data"
    },
    {
     "data": {
      "image/png": "[encoded data removed]",
      "text/plain": [
       "<Figure size 600x600 with 1 Axes>"
      ]
     },
     "metadata": {},
     "output_type": "display_data"
    }
   ],
   "source": [
    "# space for your code here. \n",
    "\n",
    "# create a list for each word\n",
    "# the first word in the list is the original word\n",
    "# the rest are it's ten most similar words\n",
    "\n",
    "aloof_list = [\"aloof\",]\n",
    "\n",
    "change_list = [\"change\",]\n",
    "\n",
    "ignore_list = [\"ignore\",]\n",
    "\n",
    "# loop through the dictionary made for 2.1\n",
    "\n",
    "for key, value in three_dict.items():\n",
    "    for val in value:\n",
    "        for i in range(10):\n",
    "\n",
    "            # append each similar word to it's respective list\n",
    "\n",
    "            if val == \"aloof\":\n",
    "                aloof_list.append(three_dict[key][val][i][0])\n",
    "            elif val == \"change\": \n",
    "                change_list.append(three_dict[key][val][i][0])\n",
    "            elif val == \"ignore\":\n",
    "                ignore_list.append(three_dict[key][val][i][0])\n",
    "\n",
    "# create a scatter plot for each of them\n",
    "\n",
    "aloof_visual = visualize_words(aloof_list, space)\n",
    "\n",
    "change_visual = visualize_words(change_list, space)\n",
    "\n",
    "ignore_visual = visualize_words(ignore_list, space)"
   ]
  },
  {
   "cell_type": "markdown",
   "metadata": {},
   "source": [
    "Please write down at least two observations about the visualizations you obtained:"
   ]
  },
  {
   "cell_type": "markdown",
   "metadata": {},
   "source": [
    "*space for your text answer here*\n",
    "\n",
    "Aloof is the most aloof word of the bunch."
   ]
  },
  {
   "cell_type": "markdown",
   "metadata": {},
   "source": [
    "## 2.3 Computing cosine similarity (15 points)\n",
    "\n",
    "The cosine similarity of two vectors $\\vec a = \\langle a_1, \\ldots, a_n\\rangle$ and $\\vec b = \\langle b_1, \\ldots, b_n\\rangle$ is defined as \n",
    "\n",
    "$cos(\\vec a, \\vec b) = \\frac{\n",
    "\\sum_i a_i b_i}{\\sqrt{\\sum_i a_i^2} \\sqrt{\\sum_i b_i^2}}$\n",
    "\n",
    "That is, for the numerator we get: $a_1b_1 + a_2b_2 + \\ldots + a_nb_n$. \n",
    "In the denominator, we get this for $\\vec a$: $\\sqrt{a_1a_1 + a_2a_2 + \\ldots + a_na_n}$, and anlogously for $\\vec b$. \n",
    "\n",
    "Please compute the cosine similarity by hand for the following two vectors, and show your work: \n",
    "\n",
    "* $\\langle 5, 12, 2\\rangle$\n",
    "* $\\langle 7, 2, 9\\rangle$"
   ]
  },
  {
   "cell_type": "markdown",
   "metadata": {},
   "source": [
    "*space for your text answer here*\n",
    "\n",
    "### Cosine Function\n",
    "- $cos(\\vec a, \\vec b) = \\frac{\n",
    "\\sum_i a_i b_i}{\\sqrt{\\sum_i a_i^2} \\sqrt{\\sum_i b_i^2}}$\n",
    "\n",
    "### Vectors\n",
    "\n",
    "- $\\vec a = \\langle 5, 12, 2\\rangle$\n",
    "\n",
    "- $\\vec b = \\langle 7, 2, 9\\rangle$\n",
    "\n",
    "### Use the Cosine Function on the vectors\n",
    "\n",
    "- $cos(\\langle 5, 12, 2\\rangle, \\langle 7, 2, 9\\rangle ) = \\frac{(5 \\cdot 7) + (12 \\cdot 2) + (2 \\cdot 9)}{\\sqrt{5^2 + 12^2 + 2^2} \\cdot {\\sqrt{7^2 + 2^2 + 9^2}}}$\n",
    "\n",
    "- $cos(\\langle 5, 12, 2\\rangle, \\langle 7, 2, 9\\rangle ) = \\frac{(35) + (24) + (18)}{\\sqrt{5^2 + 12^2 + 2^2} \\cdot {\\sqrt{7^2 + 2^2 + 9^2}}}$\n",
    "\n",
    "- $cos(\\langle 5, 12, 2\\rangle, \\langle 7, 2, 9\\rangle ) = \\frac{77}{\\sqrt{ 5^2 + 12^2 + 2^2} \\cdot {\\sqrt{7^2 + 2^2 + 9^2}}}$\n",
    "\n",
    "- $cos(\\langle 5, 12, 2\\rangle, \\langle 7, 2, 9\\rangle ) = \\frac{77}{\\sqrt{25 + 144 + 4} \\cdot {\\sqrt{49 + 4 + 81}}}$\n",
    "\n",
    "- $cos(\\langle 5, 12, 2\\rangle, \\langle 7, 2, 9\\rangle ) = \\frac{77}{\\sqrt{173} \\cdot {\\sqrt{134}}}$\n",
    "\n",
    "- $cos(\\langle 5, 12, 2\\rangle, \\langle 7, 2, 9\\rangle ) = \\frac{77}{152.2563}$\n",
    "\n",
    "- $cos(\\langle 5, 12, 2\\rangle, \\langle 7, 2, 9\\rangle ) = 0.50573$"
   ]
  },
  {
   "cell_type": "markdown",
   "metadata": {},
   "source": [
    "Now write Python code that will compute cosine similarity, without using gensim's `similarity`. You will need to load the `math` package and use `math.sqrt()` for the square root. Apply your code to the two vectors from above.\n",
    " "
   ]
  },
  {
   "cell_type": "code",
   "execution_count": 13,
   "metadata": {},
   "outputs": [
    {
     "data": {
      "text/plain": [
       "'0.50573'"
      ]
     },
     "execution_count": 13,
     "metadata": {},
     "output_type": "execute_result"
    }
   ],
   "source": [
    "# space for your code here\n",
    "from math import sqrt\n",
    "\n",
    "# a and b are the vectors\n",
    "\n",
    "def homemade_cosine_similarity(a, b):\n",
    "\n",
    "    #set variables for numerator and denominator\n",
    "\n",
    "    numerator = 0\n",
    "\n",
    "    a_denom = 0\n",
    "    \n",
    "    b_denom = 0\n",
    "\n",
    "    # we only need 1 for loop for both the numerator and denominator\n",
    "    # a and b should be the same size, so it's safe to just use the len of a\n",
    "\n",
    "    for i in range(len(a)):\n",
    "        \n",
    "        new_numer = a[i] * b[i]\n",
    "        \n",
    "        numerator += new_numer\n",
    "\n",
    "        a_denom += a[i]**2\n",
    "\n",
    "        b_denom += b[i]**2\n",
    "\n",
    "    # the denominator variable will calculate the final denominator\n",
    "\n",
    "    denominator = sqrt(a_denom) * sqrt(b_denom)\n",
    "\n",
    "    return (f\"{numerator/denominator:.5}\")\n",
    "\n",
    "a = [5, 12, 2]\n",
    "b = [7, 2, 9]\n",
    "\n",
    "homemade_cosine_similarity(a, b)"
   ]
  }
 ],
 "metadata": {
  "kernelspec": {
   "display_name": "Python 3.10.6 64-bit",
   "language": "python",
   "name": "python3"
  },
  "language_info": {
   "codemirror_mode": {
    "name": "ipython",
    "version": 3
   },
   "file_extension": ".py",
   "mimetype": "text/x-python",
   "name": "python",
   "nbconvert_exporter": "python",
   "pygments_lexer": "ipython3",
   "version": "3.10.6"
  },
  "vscode": {
   "interpreter": {
    "hash": "aee8b7b246df8f9039afb4144a1f6fd8d2ca17a180786b69acc140d282b71a49"
   }
  }
 },
 "nbformat": 4,
 "nbformat_minor": 4
}
