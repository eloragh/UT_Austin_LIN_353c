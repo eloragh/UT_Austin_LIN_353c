{
 "cells": [
  {
   "cell_type": "markdown",
   "metadata": {},
   "source": [
    "# LIN 353C: Introduction to Computational Linguistics,  Fall 2022, Erk\n",
    "\n",
    "# Homework 1: First steps in Python, and regular expressions\n",
    "\n",
    "## Due: Wednesday September 7, 3pm right before class\n",
    "\n",
    "## Your name:\n",
    "## Your EID:\n",
    "\n",
    "This homework comes with the following files:\n",
    "\n",
    "* Introcl_homework_1.ipynb: this notebook, which has the homework problems. **Please put your answers into this same notebook.**\n",
    "\n",
    "\n",
    "Please record all your answers in the appropriate place in this notebook, and **do not forget to put your name and EID at the top of this notebook**.\n",
    "\n",
    "For the part of the homework that requires you to write Python code,\n",
    "we need to see the code.\n",
    "Best omit statements that\n",
    "produced an error or that did not form part of the eventual solution,\n",
    "but please include all the Python code that formed part of your\n",
    "solution. \n",
    "\n",
    "Please use comments to explain what your code does. Any code that seems complicated to you, or goes on for more than 2 lines, can probably use a comment. Just practice commenting more than you think the code needs. As you will see once you pull out an old piece of code you wrote and try to figure out what you were doing, code always needs more comments than you think.\n",
    "\n",
    "### Important note: Before you do anything else, please hit the fast-forward button on this notebook, and confirm \"Restart and Run all cells\", so the code included in this notebook will be executed on your machine. \n",
    "\n",
    "### Also, after completing the homework assignment, please hit the fast-forward button again to run the homework top to bottom, and make sure that it runs.\n",
    "\n",
    "\n",
    "**If any of these instructions do not make sense to you, please get in\n",
    " touch with the instructor right away.**\n",
    "\n",
    "\n",
    "A perfect solution to this homework will be worth *100* points. \n",
    "\n"
   ]
  },
  {
   "cell_type": "markdown",
   "metadata": {},
   "source": [
    "# Problem 1: Variable names in Python (5 points)\n",
    "\n",
    "Which of the following are not valid variable names in Python? Give a\n",
    "short explanation why. \n",
    "\n",
    "    a. this is a variable \n",
    "    b. mylist123\n",
    "    c. my-string\n",
    "    d. 123list \n",
    "    e. if\n",
    "    f. sum\n",
    "    g. VAR\n",
    "    h. my string\n",
    "    i. another_variable \n",
    "    j. var_1005\n",
    "  "
   ]
  },
  {
   "cell_type": "markdown",
   "metadata": {},
   "source": [
    "*(your text answer here: double-click to edit)*"
   ]
  },
  {
   "cell_type": "markdown",
   "metadata": {},
   "source": [
    "**Extra credit question (2 points).** There is also one that is a valid variable name in Python, but you shouldn’t use it anyway. Which is it, and why is it a good idea not to assign something to it?"
   ]
  },
  {
   "cell_type": "markdown",
   "metadata": {},
   "source": [
    "*(your text answer here: double-click to edit)*"
   ]
  },
  {
   "cell_type": "markdown",
   "metadata": {},
   "source": [
    "# Problem 2: Anagrams (10 points)\n",
    "\n",
    "In this problem, you get to make new words from the letters in ``alphabet``: select letters and letter sequences using string indices and slices, and paste them together. For example, to make the word *heal* you could do\n",
    "\n",
    "      a = \"alphabet\"\n",
    "      a[3] + a[-2] + a[0:2]\n",
    "      \n",
    "Do the same for the following words: \n",
    "\n",
    "**a.** thee\n",
    "\n",
    "**b.** aleph\n",
    "\n",
    "**c.** athlete\n",
    "\n",
    "**d.** \n",
    "Find another word you can make out of the letters in \"alphabet\"\n",
    "\n",
    "It is okay to use the same letter more than once."
   ]
  },
  {
   "cell_type": "code",
   "execution_count": 1,
   "metadata": {},
   "outputs": [],
   "source": [
    "# your code here. "
   ]
  },
  {
   "cell_type": "markdown",
   "metadata": {},
   "source": [
    "# Problem 4: isdigit, isalpha, and regular expressions (10 points)\n",
    "\n",
    "Python has some string methods that do the same as particular regular expressions. Please give the regular expressions that correspond to the  string methods\n",
    "\n",
    "    isdigit()\n",
    "\n",
    "and\n",
    "\n",
    "    isalpha()\n",
    "\n",
    "You can find documentation of the two string methods at https://docs.python.org/3/library/stdtypes.html#text-sequence-type-str\n",
    "\n",
    "Hint: All these methods check whether the *whole string* has a particular form. You can do this in regular expressions by saying that your pattern starts at the beginning of the string, and ends at the end of the string -- remember your anchors. \n",
    "\n"
   ]
  },
  {
   "cell_type": "code",
   "execution_count": 2,
   "metadata": {},
   "outputs": [
    {
     "name": "stdout",
     "output_type": "stream",
     "text": [
      "True\n",
      "False\n",
      "True\n",
      "False\n"
     ]
    }
   ],
   "source": [
    "# Here are examples of isdigit and isalpha\n",
    "\n",
    "print(\"12345\".isdigit())\n",
    "print(\"123a\".isdigit())\n",
    "print(\"AbCDe\".isalpha())\n",
    "print(\"abc,d\".isalpha())"
   ]
  },
  {
   "cell_type": "code",
   "execution_count": 3,
   "metadata": {},
   "outputs": [],
   "source": [
    "# your code here: \n",
    "# regular expression that matches whenever isdigit() returns True,\n",
    "# and does not match otherwise\n",
    "\n",
    "# regular expression that matches whenever isalpha() returns True,\n",
    "# and does not match otherwise\n"
   ]
  },
  {
   "cell_type": "markdown",
   "metadata": {},
   "source": [
    "# Problem 6: Finding smileys, again (20 points)\n",
    "\n",
    "For this problem, we will revisit the problem of finding smileys. Please make regular expression patterns as follows: \n",
    "\n",
    "**a.** Find faces that are\n",
    "* smiling or frowning: mouth is a round parenthesis in either direction, \n",
    "* or that are skeptical: mouth is a forward slash / \n",
    "* with or without a nose, which is a dash. \n",
    "\n",
    "**b.** Add to the pattern of a) to allow for faces that either have both eyes open (colon), or one winking eye (semicolon), or glasses (8).\n",
    "\n",
    "**c.** From https://en.wikipedia.org/wiki/List_of_emoticons, pick at least two more types of smileys, and add them to your pattern from b.\n",
    "\n",
    "For part a, try your regular expression pattern on at least 3 of the sample tweets below, and likewise for b. For part c, make three tweet-like texts of your own to test the smileys of your choice. \n"
   ]
  },
  {
   "cell_type": "code",
   "execution_count": 2,
   "metadata": {},
   "outputs": [],
   "source": [
    "tweet1 = \"#FollowFriday for being top engaged members in my community this week :)\"\n",
    "tweet2 = \"@Lamb2ja Hey James! How odd :-/ Please call our Contact Centre on 02392441234 and we will be able to assist you :) Many thanks!\"\n",
    "tweet3 = \"@DespiteOfficial we had a listen last night ;)\"\n",
    "tweet4 = \"@97sides CONGRATS 8-)\"\n",
    "tweet5 = \"5 yeaaaah yippppy!!!  ;-))\"\n",
    "tweet6 = \"@s0ulfl0wr When's your birthday ? :-(\"\n",
    "tweet7 = \"@jameswheeler that was the worst part 8-/\"\n",
    "tweet8 = \"All these sushi pics on my tl are driving me craaaazzyy :-(\"\n",
    "tweet9 = \"Popped like a helium balloon..  :-(\" \n",
    "\n",
    "# your code here\n",
    "import re"
   ]
  },
  {
   "cell_type": "markdown",
   "metadata": {},
   "source": [
    "# Problem 7: Stemming (20 points)"
   ]
  },
  {
   "cell_type": "markdown",
   "metadata": {},
   "source": [
    "Stemming is the process of mapping word forms to an approximation of their base form, the stem. Stemming is a simplified version of lemmatization. Stemming or lemmatization is often useful as a preprocessing step, for example when you want to count how often each word appears in a text, and you don't want to count different word forms separately. For more information see https://en.wikipedia.org/wiki/Stemming\n",
    "\n",
    "For this problem, you will implement a simple stemmer using Python's ``re.sub()``. Here is a text passage, from C. S. Lewis' \"The Lion, the Witch, and the Wardrobe\":"
   ]
  },
  {
   "cell_type": "code",
   "execution_count": 5,
   "metadata": {},
   "outputs": [],
   "source": [
    "llw = \"\"\"And Peter with his sword still drawn in his hand went with \n",
    "the Lion to the eastern edge of the hill-top.  There a beautiful \n",
    "sight met their eyes.  The sun was setting behind their backs.  \n",
    "That meant that the whole country below them lay in the evening \n",
    "light--forest and hills and valleys and, winding away like a \n",
    "silver snake, the lower part of the great river.  And beyond \n",
    "all this, miles away, was the sea, and beyond\n",
    "the sea the sky, full of clouds which were just turning rose colour\n",
    "with the reflection of the sunset.  But just where the land of Narnia\n",
    "met the sea--in fact, at the mouth of the great river--there was\n",
    "something on a little hill, shining.  It was shining because it was a\n",
    "castle and of course the sunlight was reflected from all the windows\n",
    "which looked towards Peter and the sunset; but to Peter it looked like\n",
    "a great star resting on the seashore.\"\"\""
   ]
  },
  {
   "cell_type": "markdown",
   "metadata": {},
   "source": [
    "Please use Python's ``re.sub()`` to remove (replace by an empty string) word endings that are \"ing\", \"ed\", \"ion\", or \"s\". Make a single pattern that does this. Try the pattern on the string stored in ``llw``."
   ]
  },
  {
   "cell_type": "code",
   "execution_count": 6,
   "metadata": {},
   "outputs": [],
   "source": [
    "# your code here"
   ]
  },
  {
   "cell_type": "markdown",
   "metadata": {},
   "source": [
    "When you look at the result, you will see some problems. Notably, the word \"Lion\" has been replaced by \"L\". Also, you have changed \"his\" to \"hi\" and \"was\" to \"wa\". \n",
    "\n",
    "Make a pattern that replaces \"ion\" by nothing, but only if there is more than one letter ahead of it. (This pattern does not have to remove \"ing\", \"ed\", or \"s\".)\n",
    "\n",
    "Similarly, make a pattern that replaces \"s\" by nothing, but only if there are at least three letters ahead of it. (This pattern does not have to remove \"ing\", \"ed\", or \"ion\".)\n",
    "\n",
    "Try each of the two new patterns on the string stored in ``llw``."
   ]
  },
  {
   "cell_type": "code",
   "execution_count": 7,
   "metadata": {},
   "outputs": [],
   "source": [
    "# your code here"
   ]
  },
  {
   "cell_type": "markdown",
   "metadata": {},
   "source": [
    "# Problem 8: Anonymization (20 points)\n",
    "\n",
    "Working with medical data, for example automatically summarizing or cleaning up doctors' notes, is an important natural language processing application. However, people who develop systems for medical data cannot work with original data that contains patients' names and treatment dates, that would be a horrible breach of those patients' privacy. So automatic anonymization of medical data has become a task in itself. \n",
    "\n",
    "For this problem, you will construct a simple kind of anonymizer that attempts to replace people's names by ``<PERSON>``, and dates by ``<DATE>``, using Python regular expression patterns. \n",
    "    \n",
    "Here are two sample texts:"
   ]
  },
  {
   "cell_type": "code",
   "execution_count": 5,
   "metadata": {},
   "outputs": [],
   "source": [
    "text1 = \"\"\"Aurora Borealis, 23 years old, presents with complaint \n",
    "of allergies. She used to have allergies when she lived in \n",
    "Seattle but she thinks they are worse here. \n",
    "In the past, she has tried Claritin, and Zyrtec. \n",
    "Both worked for short time but then seemed to lose effectiveness. \n",
    "Ms. Borealis used that last summer and she began using it again on \n",
    "Jan. 5, 2020.\"\"\"\n",
    "\n",
    "text2 = \"\"\"Mr. Paracelsus is 41 years of age, who lives in Houston. \n",
    "He was playing basketball in Houston\n",
    "back last Wednesday, 04-22-2018, when he was driving toward the \n",
    "basket and felt a pop in his posterior leg. \n",
    "He was seen locally and diagnosed with an Achilles tendon rupture. \n",
    "He has been on crutches and has been nonweightbearing since that time. \n",
    "Mr. Paracelsus had no pain prior to his injury. \n",
    "He has had some swelling that is mild. \n",
    "He has just been on Aspirin a day due to his traveling time. \n",
    "Pain currently is minimal.\"\"\""
   ]
  },
  {
   "cell_type": "markdown",
   "metadata": {},
   "source": [
    "Please use ``re.sub()`` to replace text for anonymization, as follows:     \n",
    "    \n",
    "\n",
    "**a.** Replace names by ``<PERSON>``, where you identify person names simply as a word boundary followed by a capital letter followed by one or more lower-case letters, followed by a word boundary.  \n",
    "    \n",
    "**b.** Your method from part a also removes words like \"Claritin\" and \"Achilles\", and words like \"He\" and \"In\" in the beginning of sentences. Improve your regular expression pattern such that it does not replace those words anymore. (Your method need not be perfect. Good anonymization is not an easy thing to do.)\n",
    "\n",
    "*In order to get credit, you need to make a pattern that works on person names in general, not only on the particular person names in the two texts from above.*\n",
    "\n",
    "**c.** Replace dates by ``<DATE>``. You should catch at least dates in the form  \"Aug. 27, 2020\" (three-letter month, period, one or two digit day, comma, 4-digit year), and dates in the form \"08-27-2020\" (two digit month, dash, two digit day, dash, year). \n",
    "    \n",
    "In all cases, test your regular expression patterns on the two texts from above.\n",
    "\n"
   ]
  },
  {
   "cell_type": "code",
   "execution_count": 155,
   "metadata": {},
   "outputs": [
    {
     "name": "stdout",
     "output_type": "stream",
     "text": [
      "a. TEXT ONE \n",
      "\n",
      "<PERSON> <PERSON>, 23 years old, presents with complaint \n",
      "of allergies. <PERSON> used to have allergies when she lived in \n",
      "<PERSON> but she thinks they are worse here. \n",
      "<PERSON> the past, she has tried <PERSON>, and <PERSON>. \n",
      "<PERSON> worked for short time but then seemed to lose effectiveness. \n",
      "<PERSON>. <PERSON> used that last summer and she began using it again on \n",
      "<PERSON>. 5, 2020. \n",
      "\n",
      "a.TEXT TWO \n",
      "\n",
      "<PERSON>. <PERSON> is 41 years of age, who lives in <PERSON>. \n",
      "<PERSON> was playing basketball in <PERSON>\n",
      "back last <PERSON>, 04-22-2018, when he was driving toward the \n",
      "basket and felt a pop in his posterior leg. \n",
      "<PERSON> was seen locally and diagnosed with an <PERSON> tendon rupture. \n",
      "<PERSON> has been on crutches and has been nonweightbearing since that time. \n",
      "<PERSON>. <PERSON> had no pain prior to his injury. \n",
      "<PERSON> has had some swelling that is mild. \n",
      "<PERSON> has just been on <PERSON> a day due to his traveling time. \n",
      "<PERSON> currently is minimal. \n",
      "\n",
      "b. TEXT ONE \n",
      "\n",
      "<PERSON>, 23 years old, presents with complaint \n",
      "of allergies. She used to have allergies when she lived in \n",
      "Seattle but she thinks they are worse here. \n",
      "In the past, she has tried Claritin, and Zyrtec. \n",
      "Both worked for short time but then seemed to lose effectiveness. \n",
      "<PERSON> used that last summer and she began using it again on \n",
      "Jan. 5, 2020. \n",
      "\n",
      "b. TEXT TWO \n",
      "\n",
      "<PERSON> is 41 years of age, who lives in Houston. \n",
      "He was playing basketball in Houston\n",
      "back last Wednesday, 04-22-2018, when he was driving toward the \n",
      "basket and felt a pop in his posterior leg. \n",
      "He was seen locally and diagnosed with an Achilles tendon rupture. \n",
      "He has been on crutches and has been nonweightbearing since that time. \n",
      "<PERSON> had no pain prior to his injury. \n",
      "He has had some swelling that is mild. \n",
      "He has just been on Aspirin a day due to his traveling time. \n",
      "Pain currently is minimal. \n",
      "\n",
      "c. TEXT ONE \n",
      "\n",
      "Aurora Borealis, 23 years old, presents with complaint \n",
      "of allergies. She used to have allergies when she lived in \n",
      "Seattle but she thinks they are worse here. \n",
      "In the past, she has tried Claritin, and Zyrtec. \n",
      "Both worked for short time but then seemed to lose effectiveness. \n",
      "Ms. Borealis used that last summer and she began using it again on \n",
      "<DATE>. \n",
      "\n",
      "c. TEXT TWO \n",
      "\n",
      "Mr. Paracelsus is 41 years of age, who lives in Houston. \n",
      "He was playing basketball in Houston\n",
      "back last Wednesday, <DATE>, when he was driving toward the \n",
      "basket and felt a pop in his posterior leg. \n",
      "He was seen locally and diagnosed with an Achilles tendon rupture. \n",
      "He has been on crutches and has been nonweightbearing since that time. \n",
      "Mr. Paracelsus had no pain prior to his injury. \n",
      "He has had some swelling that is mild. \n",
      "He has just been on Aspirin a day due to his traveling time. \n",
      "Pain currently is minimal.\n"
     ]
    }
   ],
   "source": [
    "# your code here.\n",
    "\n",
    "#NOTE: I wrote this with the improved name anonymization\n",
    "#with the assumption that the names provided would be the first and last names.\n",
    "\n",
    "#a.\n",
    "#first name anonymization\n",
    "\n",
    "print(\"a. TEXT ONE\", \"\\n\")\n",
    "print(re.sub(r\"\\b[A-Z][a-z]*\\b\", \"<PERSON>\", text1), \"\\n\")\n",
    "\n",
    "print(\"a.TEXT TWO\", \"\\n\")\n",
    "print(re.sub(r\"\\b[A-Z][a-z]*\\b\", \"<PERSON>\", text2), \"\\n\")\n",
    "\n",
    "#b.\n",
    "#improved name anonymization\n",
    "\n",
    "print(\"b. TEXT ONE\", \"\\n\")\n",
    "print(re.sub(r\"\\b[A-Z][a-z]*\\b\\W?\\s?[A-Z][a-z]*\", \"<PERSON>\", text1), \"\\n\")\n",
    "\n",
    "print(\"b. TEXT TWO\", \"\\n\")\n",
    "print(re.sub(r\"\\b[A-Z][a-z]*\\b\\W?\\s?[A-Z][a-z]*\", \"<PERSON>\", text2), \"\\n\")\n",
    "\n",
    "#c.\n",
    "#date removal\n",
    "\n",
    "print(\"c. TEXT ONE\", \"\\n\")\n",
    "print(re.sub(r\"[0-9][0-9]-[0-9][0-9]-[0-9][0-9][0-9][0-9]|[A-Z][a-z][a-z].\\s[0-9][0-9]?,\\s[0-9][0-9][0-9][0-9]\", \"<DATE>\", text1), \"\\n\")\n",
    "\n",
    "print(\"c. TEXT TWO\", \"\\n\")\n",
    "print(re.sub(r\"[0-9][0-9]-[0-9][0-9]-[0-9][0-9][0-9][0-9]|[A-Z][a-z][a-z].\\s[0-9][0-9]?,\\s[0-9][0-9][0-9][0-9]\", \"<DATE>\", text2))"
   ]
  },
  {
   "cell_type": "markdown",
   "metadata": {},
   "source": [
    "## Problem 9: Trying out Machine Translation (15 pts.)\n",
    "\n",
    "Machine translation systems\n",
    "  translate text from one language to another.\n",
    "\n",
    "  For this option, try out an online\n",
    "  machine translation tool like Google Translate, available at https://translate.google.com/\n",
    "\n",
    "  How well does the tool do with just random news text? Copy text from\n",
    "  some newspaper in another language, ideally one you speak, and\n",
    "  translate it to English. Do you notice any bumps in the translation?\n",
    "\n",
    "  How does the tool do with long sentences with complex structure?\n",
    "\n",
    "  What if you try to translate a  pun? Find a pun webpage, and try at\n",
    "  least two puns. Say what happened.\n",
    "\n",
    "  Also feel free to come up with your own ways of probing a machine\n",
    "  translation system.\n",
    "  "
   ]
  },
  {
   "cell_type": "markdown",
   "metadata": {},
   "source": [
    "*Box for your text answer here. Double click to write.*"
   ]
  },
  {
   "cell_type": "code",
   "execution_count": null,
   "metadata": {},
   "outputs": [],
   "source": []
  }
 ],
 "metadata": {
  "kernelspec": {
   "display_name": "Python 3.10.6 64-bit",
   "language": "python",
   "name": "python3"
  },
  "language_info": {
   "codemirror_mode": {
    "name": "ipython",
    "version": 3
   },
   "file_extension": ".py",
   "mimetype": "text/x-python",
   "name": "python",
   "nbconvert_exporter": "python",
   "pygments_lexer": "ipython3",
   "version": "3.10.6"
  },
  "vscode": {
   "interpreter": {
    "hash": "aee8b7b246df8f9039afb4144a1f6fd8d2ca17a180786b69acc140d282b71a49"
   }
  }
 },
 "nbformat": 4,
 "nbformat_minor": 2
}
