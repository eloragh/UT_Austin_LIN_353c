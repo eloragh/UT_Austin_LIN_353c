{
 "cells": [
  {
   "cell_type": "markdown",
   "id": "ca1f2086-79ad-48a9-8b22-dadb0f03c48b",
   "metadata": {},
   "source": [
    "# Text processing issues\n",
    "\n",
    "## Writing systems\n",
    "\n",
    "You can use the `codecs` package to access text in different writing systems. It has an `open()` method, just like normal opening of files.\n",
    "\n",
    "You need to find out the encoding system for the file, and name it as an argument to `open()`. Here is an example, using the Project Gutenberg e-book Pride and Prejudice, available here: https://www.gutenberg.org/ebooks/42671 (use the plain text, save into the same directory as your notebook)."
   ]
  },
  {
   "cell_type": "code",
   "execution_count": 1,
   "id": "9d3cfd0d-77ed-44e7-8258-8ec581bd4c5b",
   "metadata": {},
   "outputs": [
    {
     "name": "stdout",
     "output_type": "stream",
     "text": [
      "The Project Gutenberg eBook, Pride and Prejudice, by Jane Austen, Edited\n",
      "by R. W. (Robert William) Chapman\n",
      "\n",
      "\n",
      "This eBook is for the use of anyone anywhere at no cost and with\n",
      "almost no restrictio\n"
     ]
    }
   ],
   "source": [
    "import codecs\n",
    "\n",
    "f = codecs.open(\"pg42671.txt\", encoding = \"utf-8\")\n",
    "content = f.read()\n",
    "print(content[:200])"
   ]
  },
  {
   "cell_type": "markdown",
   "id": "122c63e8-41e1-46af-91b2-c38269fcbd6a",
   "metadata": {},
   "source": [
    "## Reading from a URL\n",
    "\n",
    "The Python ```urllib``` package lets you read the content of a webpage as if you were reading a file. \n",
    "\n",
    "Here is how to read the content of a webpage into a string. This code uses the Wikipedia page about the programming language Python as an example.\n",
    "\n",
    "As you can see, opening and reading a web page works in almost the same way as opening and reading a local file: We start with\n",
    "\n",
    "```f = urllib.request.urlopen(...)```\n",
    "\n",
    "and then we can access the data with ```f.read()```, as if it were a local file."
   ]
  },
  {
   "cell_type": "code",
   "execution_count": 2,
   "id": "c4360e8b-466c-4dcf-b0db-6366c678e5e2",
   "metadata": {},
   "outputs": [
    {
     "name": "stdout",
     "output_type": "stream",
     "text": [
      "b'ventions\",\"Dynamically typed programming languages\",\"Educational programming languages\",\"High-level programming languages\",\\n\"Information technology in the Netherlands\",\"Multi-paradigm programming languages\",\"Object-oriented programming languages\",\"Programming languages\",\"Programming languages created in 1991\",\"Scripting languages\",\"Text-oriented programming languages\"],\"wgPageContentLanguage\":\"en\",\"wgPageContentModel\":\"wikitext\",\"wgRelevantPageName\":\"Python_(programming_language)\",\"wgRelevantArticleId\":23862,\"wgIsProbablyEditable\":true,\"wgRelevantPageIsProbablyEditable\":true,\"wgRestrictionEdit\":[],\"wgRestrictionMove\":[],\"wgFlaggedRevsParams\":{\"tags\":{\"status\":{\"levels\":1}}},\"wgVisualEditor\":{\"pageLanguageCode\":\"en\",\"pageLanguageDir\":\"ltr\",\"pageVariantFallbacks\":\"en\"},\"wgMFDisplayWikibaseDescriptions\":{\"search\":true,\"watchlist\":true,\"tagline\":false,\"nearby\":true},\"wgWMESchemaEditAttemptStepOversample\":false,\"wgWMEPageLength\":100000,\"wgNoticeProject\":\"wikipedia\",\"wgVector2022PreviewPages'\n"
     ]
    }
   ],
   "source": [
    "import urllib\n",
    "url = \"https://en.wikipedia.org/wiki/Python_(programming_language)\"\n",
    "f = urllib.request.urlopen(url)\n",
    "contents = f.read()\n",
    "f.close()\n",
    "print(contents[2000:3000])"
   ]
  },
  {
   "cell_type": "markdown",
   "id": "c31464b1-1307-4197-92e8-cbc8f062505d",
   "metadata": {},
   "source": [
    "You can also access the contents of a webpage and store it directly to a file on your computer. The following code again accesses the Wikipedia page about Python, and stores it as a file in the same directory as this notebook."
   ]
  },
  {
   "cell_type": "code",
   "execution_count": 3,
   "id": "991a1390-66df-43e9-83a1-dcb90b0250dd",
   "metadata": {},
   "outputs": [
    {
     "data": {
      "text/plain": [
       "('python.html', <http.client.HTTPMessage at 0x1035b8f10>)"
      ]
     },
     "execution_count": 3,
     "metadata": {},
     "output_type": "execute_result"
    }
   ],
   "source": [
    "import urllib\n",
    "\n",
    "url = \"https://en.wikipedia.org/wiki/Python_(programming_language)\"\n",
    "\n",
    "# download the text, and store on my \n",
    "# computer as \"python.html\"\n",
    "urllib.request.urlretrieve(url, \"python.html\")"
   ]
  },
  {
   "cell_type": "markdown",
   "id": "65d7b90d-b3b7-481c-aa38-cbbfde274c30",
   "metadata": {},
   "source": [
    "## Getting rid of HTML formatting\n",
    "\n",
    "Web pages are usually a mixture of actual texts, and formatting commands. For example, the Wikipedia page we downloaded starts thus:"
   ]
  },
  {
   "cell_type": "code",
   "execution_count": 4,
   "id": "a95aad80-3805-4516-9d62-3bd389e73427",
   "metadata": {},
   "outputs": [
    {
     "data": {
      "text/plain": [
       "b'<!DOCTYPE html>\\n<html class=\"client-nojs\" lang=\"en\" dir=\"ltr\">\\n<head>\\n<meta charset=\"UTF-8\"/>\\n<title>Python (programming language) - Wikipedia</title>\\n<script>document.documentElement.className=\"client-js\";RLCONF={\"wgBreakFrames\":false,\"wgSeparatorTransformTable\":[\"\",\"\"],\"wgDigitTransformTable\":[\"\",\"\"],\"wgDefaultDateFormat\":\"dmy\",\"wgMonthNames\":[\"\",\"January\",\"February\",\"March\",\"April\",\"May\",\"June\",\"July\",\"August\",\"September\",\"October\",\"November\",\"December\"],\"wgRequestId\":\"b6b7baac-1453-4f7a-8660'"
      ]
     },
     "execution_count": 4,
     "metadata": {},
     "output_type": "execute_result"
    }
   ],
   "source": [
    "contents[:500]"
   ]
  },
  {
   "cell_type": "markdown",
   "id": "43b8f820-5d50-481c-8c7a-0068e1fac138",
   "metadata": {},
   "source": [
    "The Python package BeautifulSoup can be used to remove the formatting commands and get at the plan text of the retrieved webpage. It is not perfect, but it does remove a lot of the formatting. Here it is applied to the Wikipedia page about Python:"
   ]
  },
  {
   "cell_type": "code",
   "execution_count": 5,
   "id": "f126601a-0aff-499c-a09e-4baf83df9a7f",
   "metadata": {},
   "outputs": [
    {
     "name": "stdout",
     "output_type": "stream",
     "text": [
      "\n",
      "\n",
      "\n",
      "\n",
      "Python (programming language) - Wikipedia\n",
      "\n",
      "\n",
      "\n",
      "\n",
      "\n",
      "\n",
      "\n",
      "\n",
      "\n",
      "\n",
      "\n",
      "\n",
      "\n",
      "\n",
      "\n",
      "\n",
      "\n",
      "\n",
      "\n",
      "\n",
      "\n",
      "\n",
      "\n",
      "\n",
      "\n",
      "\n",
      "\n",
      "\n",
      "\n",
      "\n",
      "\n",
      "\n",
      "\n",
      "\n",
      "\n",
      "\n",
      "\n",
      "\n",
      "\n",
      "\n",
      "\n",
      "\n",
      "\n",
      "Python (programming language)\n",
      "\n",
      "From Wikipedia, the free encyclopedia\n",
      "\n",
      "\n",
      "\n",
      "Jump to navigation\n",
      "Jump to search\n",
      "General-purpose programming language\n",
      "\n",
      "\n",
      "PythonParadigmMulti-paradigm: object-oriented,[1] procedural (imperative), functional, structured, reflectiveDesigned byGuido van RossumDeveloperPython Software FoundationFirst appeared20 February 1991; 31 years ago (1991-02-20)[2]Stable release3.10.7[3] \n",
      "   / 7 September 2022; 34 days ago (7 September 2022)Preview release3.11.0rc2[4] \n",
      "   / 12 September 2022; 29 days ago (12 September 2022)\n",
      "Typing disciplineDuck, dynamic, strong typing;[5] gradual (since 3.5, but ignored in CPython)[6]OSWindows, macOS, Linux/UNIX, Android[7][8] and more[9]LicensePython Software Foundation LicenseFilename extensions.py, .pyi, .pyc, .pyd, .pyw, .pyz (since 3.5),[10] .pyo (prior to 3.5)[11]Websitepython.orgMajor implementationsCPython, PyPy, Stackless Python, MicroPython, CircuitPython, IronPython, JythonDialectsCython, RPython, Starlark[12]Influenced byABC,[13] Ada,[14] ALGOL 68,[15] APL,[16] C,[17] C++,[18] CLU,[19] Dylan,[20] Haskell,[21][16] Icon,[22] Lisp,[23] Modula-3,[15][18] Perl,[24] Standard ML[16]InfluencedApache Groovy, Boo, Cobra, CoffeeScript,[25] D, F#, Genie,[26] Go, JavaScript,[27][28] Julia,[29] Nim, Ring,[30] Ruby,[31] Swift[32]\n",
      " Python Programming at Wikibooks\n",
      "\n",
      "Python is a high-level, general-purpose programming language. Its design philosophy emphasizes code readability with the use of significant indentation.[33]\n",
      "Python is dynamically-typed and garbage-collected. It supports multiple programming paradigms, including structured (particularly procedural), object-oriented and functional programming. It is often described as a \"batteries included\" language due to its comprehensive standard library.[34][35]\n",
      "Guido van Rossum began working on Python in the late 1980s as a successor to the ABC programming language and first released it in 1991 as Python 0.9.0.[36] Python 2.0 was released in 2000 and introduced new features such as list comprehensions, cycle-detecting garbage collection, reference counting, and Unicode support. Python 3.0, released in 2008, was a major revision that is not completely backward-compatible with earlier versions. Python 2 was discontinued with version 2.7.18 in 2020.[37]\n",
      "Python consistently ranks as one of the most popular programming languages.[38][39][40][41]\n",
      "\n",
      "Contents\n",
      "\n",
      "1 History\n",
      "2 Design philosophy and features\n",
      "3 Syntax and semantics\n",
      "\n",
      "3.1 Indentation\n",
      "3.2 Statements and control flow\n",
      "3.3 Expressions\n",
      "3.4 Methods\n",
      "3.5 Typing\n",
      "3.6 Arithmetic operations\n",
      "\n",
      "\n",
      "4 Programming examples\n",
      "5 Libraries\n",
      "6 Development environments\n",
      "7 Implementations\n",
      "\n",
      "7.1 Reference implementation\n",
      "7.2 Other implementations\n",
      "7.3 Unsupported implementations\n",
      "7.4 Cross-compilers to other languages\n",
      "7.5 Performance\n",
      "\n",
      "\n",
      "8 Development\n",
      "9 API documentation generators\n",
      "10 Naming\n",
      "11 Popularity\n",
      "12 Uses\n",
      "13 Languages influenced by Python\n",
      "14 See also\n",
      "15\n"
     ]
    }
   ],
   "source": [
    "from bs4 import BeautifulSoup\n",
    "\n",
    "soup = BeautifulSoup(contents)\n",
    "text = soup.get_text()\n",
    "print(text[:3000])"
   ]
  },
  {
   "cell_type": "markdown",
   "id": "9e603ef7-2e58-4466-9085-56c8b9984f90",
   "metadata": {},
   "source": [
    "## Accessing XML files\n",
    "\n",
    "We use the file `crocodile.xml`, which contains the following poem from Alice in Wonderland, as xml code:\n",
    "\n",
    "```<anthology>\n",
    "  <poem><title>How doth the little</title>\n",
    "    <author>Lewis Carroll</author>\n",
    "    <stanza>\n",
    "      <line>How doth the little crocodile</line>\n",
    "       <line>Improve his shining tail,</line> \n",
    "       <line>And pour the waters of the Nile</line>\n",
    "       <line>On every golden scale! </line>\n",
    "    </stanza>\n",
    "    <stanza>\n",
    "       <line>How cheerfully he seems to grin,</line>\n",
    "       <line>How neatly spread his claws, </line>\n",
    "       <line>And welcome little fishes in</line>\n",
    "       <line>With gently smiling jaws! </line>\n",
    "    </stanza> \n",
    "  </poem>\n",
    "</anthology>\n",
    "```\n",
    "\n",
    "Using the ElementTree package, we access an xml file using the `parse()` method.\n",
    "\n",
    "ElementTree views an xml file as an inverted \"tree\" whose \"root\" is the outermost xml tag, here \"anthology\".  "
   ]
  },
  {
   "cell_type": "code",
   "execution_count": 6,
   "id": "154bea3e-3666-40d9-a020-4353c5699cc3",
   "metadata": {},
   "outputs": [
    {
     "data": {
      "text/plain": [
       "<Element 'anthology' at 0x104a50c20>"
      ]
     },
     "execution_count": 6,
     "metadata": {},
     "output_type": "execute_result"
    }
   ],
   "source": [
    "# small demo of the ElementTree package\n",
    "# see http://docs.python.org/2/library/xml.etree.elementtree.html\n",
    "# and http://effbot.org/zone/element.htm\n",
    "import xml.etree.ElementTree as ET\n",
    "\n",
    "# tree will be an ElementTree\n",
    "tree = ET.parse(\"crocodile.xml\")\n",
    "\n",
    "# getting the root: this is an Element data structure\n",
    "root = tree.getroot()\n",
    "root"
   ]
  },
  {
   "cell_type": "markdown",
   "id": "7ab81c29-f0ca-4476-ab22-55c09d7d8570",
   "metadata": {},
   "source": [
    "Each element has a tag, the name of the element."
   ]
  },
  {
   "cell_type": "code",
   "execution_count": 7,
   "id": "d6892787-9f54-42a1-a84d-c6cc7948bcb4",
   "metadata": {},
   "outputs": [
    {
     "name": "stdout",
     "output_type": "stream",
     "text": [
      "anthology\n"
     ]
    }
   ],
   "source": [
    "# Elements have tags\n",
    "print(root.tag)"
   ]
  },
  {
   "cell_type": "markdown",
   "id": "5de4c04c-069b-4699-b269-7dc3f3f6da21",
   "metadata": {},
   "source": [
    "The \"children\" of the root element are the tags that are nested directly within \"anthology\". "
   ]
  },
  {
   "cell_type": "code",
   "execution_count": 8,
   "id": "15c08797-cd1c-428e-8de8-3f8a838660ce",
   "metadata": {},
   "outputs": [
    {
     "name": "stdout",
     "output_type": "stream",
     "text": [
      "first child of root <Element 'poem' at 0x104a50cc0>\n",
      "third child of first child of root <Element 'stanza' at 0x104a5a270>\n"
     ]
    }
   ],
   "source": [
    "# We can access children like list elements\n",
    "print(\"first child of root\", root[0])\n",
    "print(\"third child of first child of root\", root[0][2])"
   ]
  },
  {
   "cell_type": "code",
   "execution_count": 9,
   "id": "296893c1-b50b-4f36-b904-920b5088b2eb",
   "metadata": {},
   "outputs": [
    {
     "name": "stdout",
     "output_type": "stream",
     "text": [
      "info\n",
      "stanza\n",
      "stanza\n"
     ]
    }
   ],
   "source": [
    "# We can iterate over children of a node\n",
    "poem = root[0]\n",
    "for child in poem:\n",
    "    print(child.tag)"
   ]
  },
  {
   "cell_type": "markdown",
   "id": "071b9ea0-f5b6-4d25-b394-481f6656cde8",
   "metadata": {},
   "source": [
    "Knowing the structure of the xml document, we can then take the document apart:"
   ]
  },
  {
   "cell_type": "code",
   "execution_count": 10,
   "id": "1b3983d3-1165-4131-a0f2-37129ba083e5",
   "metadata": {},
   "outputs": [
    {
     "name": "stdout",
     "output_type": "stream",
     "text": [
      "<Element 'info' at 0x104a5cef0>\n"
     ]
    }
   ],
   "source": [
    "poem = root[0]\n",
    "info = poem[0]\n",
    "\n",
    "print(info)"
   ]
  },
  {
   "cell_type": "markdown",
   "id": "ab3d46c0-8b99-4537-827a-8ac16812b15d",
   "metadata": {},
   "source": [
    "Elements sometimes come with attribute/value\n",
    "pairs. ElementTree makes them available as `attrib`, a dictionary of key/value pairs "
   ]
  },
  {
   "cell_type": "code",
   "execution_count": 11,
   "id": "6d401511-4c90-47a4-96ee-60439956c77b",
   "metadata": {},
   "outputs": [
    {
     "data": {
      "text/plain": [
       "'How doth the little'"
      ]
     },
     "execution_count": 11,
     "metadata": {},
     "output_type": "execute_result"
    }
   ],
   "source": [
    "info.attrib[\"title\"]"
   ]
  },
  {
   "cell_type": "code",
   "execution_count": 12,
   "id": "0a4a7781-7d09-4468-981e-9107273c1c25",
   "metadata": {},
   "outputs": [
    {
     "data": {
      "text/plain": [
       "'Lewis Carroll'"
      ]
     },
     "execution_count": 12,
     "metadata": {},
     "output_type": "execute_result"
    }
   ],
   "source": [
    "info.attrib[\"author\"]"
   ]
  },
  {
   "cell_type": "markdown",
   "id": "c5ae2db3-51ac-44a3-8a35-34a2676d812d",
   "metadata": {},
   "source": [
    "The text of an element is the plain text \n",
    "enclosed between the tag and its /tag \n",
    "counterpart. We can access it as `text`."
   ]
  },
  {
   "cell_type": "code",
   "execution_count": 13,
   "id": "e28336ed-6060-48cc-855f-58e8252f7886",
   "metadata": {},
   "outputs": [
    {
     "name": "stdout",
     "output_type": "stream",
     "text": [
      "How doth the little crocodile\n",
      "Improve his shining tail,\n",
      "And pour the waters of the Nile\n",
      "On every golden scale! \n",
      "\n",
      "How cheerfully he seems to grin,\n",
      "How neatly spread his claws, \n",
      "And welcome little fishes in\n",
      "With gently smiling jaws! \n",
      "\n"
     ]
    }
   ],
   "source": [
    "for pcomponent in poem:\n",
    "    if pcomponent.tag == \"stanza\":\n",
    "        for line in pcomponent:\n",
    "            print(line.text)\n",
    "        print()"
   ]
  }
 ],
 "metadata": {
  "kernelspec": {
   "display_name": "Python 3 (ipykernel)",
   "language": "python",
   "name": "python3"
  },
  "language_info": {
   "codemirror_mode": {
    "name": "ipython",
    "version": 3
   },
   "file_extension": ".py",
   "mimetype": "text/x-python",
   "name": "python",
   "nbconvert_exporter": "python",
   "pygments_lexer": "ipython3",
   "version": "3.8.9"
  }
 },
 "nbformat": 4,
 "nbformat_minor": 5
}
