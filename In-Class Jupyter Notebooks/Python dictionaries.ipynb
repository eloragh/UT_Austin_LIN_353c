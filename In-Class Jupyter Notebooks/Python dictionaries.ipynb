{
 "cells": [
  {
   "cell_type": "markdown",
   "metadata": {},
   "source": [
    "# Python dictionaries:\n",
    "# Mapping keys to values\n",
    "\n",
    "In our initial example of \"how do I count how often each word appears in a newspaper article\", the central data structure was a \"sheet of counts\": For each word, we kept a sequence of dashes indicating how often we had seen that word.\n",
    "\n",
    "Another way to look at it is that we *connected* each word to a count (a sequence of dashes), or that we *mapped* each word to a count. In Python, you can do things like this with a *dictionary*, a data structure that maps *keys* to *values*. \n",
    "\n",
    "One example of how you could use a dictionary is to map words (the keys) to counts (the values):\n",
    "\n",
    "```\n",
    "{\n",
    "\"the\" : 3,\n",
    "\"recent\" : 1,\n",
    "\"development\" : 1,\n",
    "\"that\" : 2\n",
    "}\n",
    "```\n",
    "\n",
    "Here is another example: an actual translation dictionary, mapping English words (the keys) to their German translations (the values):\n",
    "\n",
    "```\n",
    "{\n",
    "\"dog\" : \"Hund\",\n",
    "\"cat\" : \"Katze\",\n",
    "\"rhino\" : \"Nashorn\"\n",
    "}```\n",
    "\n",
    "In the first case, the keys were strings, and the values were numbers. In the second case, the keys were again strings, and the values were also strings. Dictionaries are flexible about this. (And the keys could be numbers, or other data types.)\n",
    "\n",
    "Here is how to construct a Python dictionary from scratch:"
   ]
  },
  {
   "cell_type": "code",
   "execution_count": 1,
   "metadata": {},
   "outputs": [
    {
     "name": "stdout",
     "output_type": "stream",
     "text": [
      "Step 1 mydict is {}\n",
      "Step 2 mydict is {'dog': 'Hund'}\n",
      "Step 3 mydict is {'dog': 'Hund', 'cat': 'Katze'}\n",
      "Step 4 mydict is {'dog': 'Hund', 'cat': 'Katze', 'rhino': 'Nashorn'}\n"
     ]
    }
   ],
   "source": [
    "mydict = {}\n",
    "print(\"Step 1 mydict is\", mydict)\n",
    "mydict[\"dog\"] = \"Hund\"\n",
    "print(\"Step 2 mydict is\", mydict)\n",
    "mydict[\"cat\"] = \"Katze\"\n",
    "print(\"Step 3 mydict is\", mydict)\n",
    "mydict[\"rhino\"] = \"Nashorn\"\n",
    "print(\"Step 4 mydict is\", mydict)"
   ]
  },
  {
   "cell_type": "markdown",
   "metadata": {},
   "source": [
    "Or you can make a dictionary with several entries in one go, like this:"
   ]
  },
  {
   "cell_type": "code",
   "execution_count": 2,
   "metadata": {},
   "outputs": [
    {
     "name": "stdout",
     "output_type": "stream",
     "text": [
      "result of dictionary making: {'dog': 'canis', 'cat': 'felis', 'rhino': 'rhinoceros', 'mouse': 'mus'}\n"
     ]
    }
   ],
   "source": [
    "latindict = { \"dog\": \"canis\", \"cat\":\"felis\", \"rhino\": \"rhinoceros\", \n",
    "            \"mouse\": \"mus\"}\n",
    "\n",
    "print(\"result of dictionary making:\", latindict)"
   ]
  },
  {
   "cell_type": "markdown",
   "metadata": {},
   "source": [
    "Here is how you can access a dictionary. Give the key to get the corresponsing value:"
   ]
  },
  {
   "cell_type": "code",
   "execution_count": 3,
   "metadata": {},
   "outputs": [
    {
     "data": {
      "text/plain": [
       "'Hund'"
      ]
     },
     "execution_count": 3,
     "metadata": {},
     "output_type": "execute_result"
    }
   ],
   "source": [
    "mydict[\"dog\"]"
   ]
  },
  {
   "cell_type": "code",
   "execution_count": 4,
   "metadata": {},
   "outputs": [
    {
     "data": {
      "text/plain": [
       "'mus'"
      ]
     },
     "execution_count": 4,
     "metadata": {},
     "output_type": "execute_result"
    }
   ],
   "source": [
    "latindict[\"mouse\"]"
   ]
  },
  {
   "cell_type": "markdown",
   "metadata": {},
   "source": [
    "Note that when you make a new dictionary, you need to use curly brackets, as in:\n",
    "\n",
    "```mydict = { }```\n",
    "\n",
    "But when you access the dictionary, or when you add a single entry to a dictionary, you use straight brackets, as in:\n",
    "\n",
    "```latindict[\"mouse\"]```"
   ]
  },
  {
   "cell_type": "markdown",
   "metadata": {},
   "source": [
    "## Comparing Python dictionaries and Python lists\n",
    "\n",
    "Let's compare notation across dictionaries and lists.\n",
    "\n",
    "Initializing to an empty data structure:\n",
    "```\n",
    "mylist = []       # empty list: straight brackets\n",
    "mydict = {}    # empty dictionary: curly brackets\n",
    "```\n",
    "\n",
    "Initializing to a nonempty data structure:\n",
    "```\n",
    "# initializing a list:straight brackets\n",
    "mylist = [“dog”, “cat”, “rhinoceros”]\n",
    "# initializing a dictionary: curly brackets, key-colon-value\n",
    "mydict = {\"dog\":\"Hund\", \"cat\":\"Katze\",  \"rhinoceros\":\"Nashorn\"}\n",
    "```\n",
    "\n",
    "Accessing items on a list: index in straight brackets. A list “maps” indices to items.\n",
    "\n",
    "```\n",
    "mylist[1]  ### will yield 'cat'\n",
    "```\n",
    "\n",
    "Accessing items on a dictionary: key in straight brackets. A dictionary maps keys to values.\n",
    "\n",
    "```\n",
    "mydict['cat'] ### will yield 'Katze'\n",
    "```\n",
    "\n",
    "The standard way to modify a list is via ```append()```"
   ]
  },
  {
   "cell_type": "code",
   "execution_count": 5,
   "metadata": {},
   "outputs": [
    {
     "name": "stdout",
     "output_type": "stream",
     "text": [
      "changed list ['dog', 'cat', 'rhinoceros', 'armadillo']\n"
     ]
    }
   ],
   "source": [
    "mylist = [\"dog\", \"cat\", \"rhinoceros\"]\n",
    "mylist.append(\"armadillo\")\n",
    "print(\"changed list\", mylist)"
   ]
  },
  {
   "cell_type": "markdown",
   "metadata": {},
   "source": [
    "The standard way to modify a dictionary is to store a value under a key. If you had a key/value pair before and change the value, the previous value is gone."
   ]
  },
  {
   "cell_type": "code",
   "execution_count": 6,
   "metadata": {},
   "outputs": [
    {
     "name": "stdout",
     "output_type": "stream",
     "text": [
      "original dictionary {'dog': 'Hund', 'cat': 'Katze'}\n",
      "dictionary after adding an item {'dog': 'Hund', 'cat': 'Katze', 'armadillo': 'Guerteltier'}\n",
      "dictionary after changing the value {'dog': 'Hund', 'cat': 'felis', 'armadillo': 'Guerteltier'}\n"
     ]
    }
   ],
   "source": [
    "mydict = {\"dog\":\"Hund\", \"cat\":\"Katze\"}\n",
    "print(\"original dictionary\", mydict)\n",
    "# adding an item \n",
    "# (the German word for 'armadillo' means literally belt-animal)\n",
    "mydict[\"armadillo\"] = \"Guerteltier\"\n",
    "print(\"dictionary after adding an item\", mydict)\n",
    "# changing a value. \n",
    "# the previous value is gone.\n",
    "mydict[\"cat\"] = \"felis\"\n",
    "print(\"dictionary after changing the value\", mydict)"
   ]
  },
  {
   "cell_type": "markdown",
   "metadata": {},
   "source": [
    "In a list, you get an error when you try to access a list index that isn't there. In the same way, in a dictionary, you get an error when you try to access a key that isn't there."
   ]
  },
  {
   "cell_type": "code",
   "execution_count": 7,
   "metadata": {},
   "outputs": [],
   "source": [
    "mylist = [\"dog\", \"cat\", \"rhinoceros\"]\n",
    "# remove the hash in the beginning of the 'print' line\n",
    "# that is, \"uncomment\" the 'print' line,\n",
    "# to get an IndexError.\n",
    "# print(\"this will get you an error\", mylist[10])"
   ]
  },
  {
   "cell_type": "code",
   "execution_count": 8,
   "metadata": {},
   "outputs": [],
   "source": [
    "mydict = {'dog':'Hund', 'rhinoceros':'Nashorn'}\n",
    "# remove the hash in the beginning of the 'print' line\n",
    "# that is, \"uncomment\" the 'print' line,\n",
    "# to get a KeyError.\n",
    "# print('this will get you an error', mydict['cat'])"
   ]
  },
  {
   "cell_type": "markdown",
   "metadata": {},
   "source": [
    "## Dictionary keys and dictionary values\n",
    "\n",
    "**What can be a dictionary key?**\n",
    "\n",
    "Strings can be dictionary keys:\n",
    "```mydict = {\"dog\":\"Hund\", \"rhinoceros\":\"Nashorn\"}```\n",
    "\n",
    "Integers can be dictionary keys, for example: \n",
    "\n",
    "```prime_nums = {2:1, 3:2, 5:3, 7:4, 11:5}```\n",
    "\n",
    "Floating point numbers can be dictionary keys as well:\n",
    "```mydict = {3.1415 : \"pi\", 2.71828 : \"e\" }```\n",
    "\n",
    "Not everything can be a dictionary key, for example lists cannot. (If you're interested in the details: It's because lists are \"mutable\", that is, you can change individual items on a list, and that would mess up the way dictionaries are represented internally in Python.)\n",
    "\n",
    "**What can be a dictionary value?**\n",
    "\n",
    "Any data type can be a dictionary value. Even a dictionary can be a dictionary value.\n",
    "\n",
    "## Checking whether a key is present\n",
    "\n",
    "You can use ```in``` to check whether a key is in a dictionary:"
   ]
  },
  {
   "cell_type": "code",
   "execution_count": 9,
   "metadata": {},
   "outputs": [
    {
     "name": "stdout",
     "output_type": "stream",
     "text": [
      "is 'mouse' present? False\n",
      "is 'armadillo' present? True\n"
     ]
    }
   ],
   "source": [
    "mydict = {\"dog\":\"Hund\", \"cat\":\"Katze\", \"armadillo\":\"Guerteltier\"}\n",
    "print(\"is 'mouse' present?\", 'mouse' in mydict)\n",
    "print(\"is 'armadillo' present?\", \"armadillo\" in mydict)"
   ]
  },
  {
   "cell_type": "markdown",
   "metadata": {},
   "source": [
    "The Boolean expression with ```in``` checks keys, it does not check values:"
   ]
  },
  {
   "cell_type": "code",
   "execution_count": 10,
   "metadata": {},
   "outputs": [
    {
     "data": {
      "text/plain": [
       "False"
      ]
     },
     "execution_count": 10,
     "metadata": {},
     "output_type": "execute_result"
    }
   ],
   "source": [
    "mydict = {\"dog\":\"Hund\", \"cat\":\"Katze\", \"armadillo\":\"Guerteltier\"}\n",
    "'Katze' in mydict"
   ]
  },
  {
   "cell_type": "markdown",
   "metadata": {},
   "source": [
    "**Try it for yourself**\n",
    "\n",
    "* Say we have the following dictionary:"
   ]
  },
  {
   "cell_type": "code",
   "execution_count": 11,
   "metadata": {},
   "outputs": [],
   "source": [
    "dict1 = { \"dog\" : \"Hund\", \"armadillo\" : \"Guerteltier\"}"
   ]
  },
  {
   "cell_type": "markdown",
   "metadata": {},
   "source": [
    "Please add to this dictionary the translation of platypus, which is Schnabeltier (literally, beak animal)."
   ]
  },
  {
   "cell_type": "code",
   "execution_count": 12,
   "metadata": {},
   "outputs": [
    {
     "data": {
      "text/plain": [
       "{'dog': 'Hund', 'armadillo': 'Guerteltier', 'platypus': 'Schnabeltier'}"
      ]
     },
     "execution_count": 12,
     "metadata": {},
     "output_type": "execute_result"
    }
   ],
   "source": [
    "dict1[\"platypus\"] = \"Schnabeltier\"\n",
    "dict1"
   ]
  },
  {
   "cell_type": "markdown",
   "metadata": {},
   "source": [
    "* Say we have the following dictionary: "
   ]
  },
  {
   "cell_type": "code",
   "execution_count": 13,
   "metadata": {},
   "outputs": [],
   "source": [
    "dict2 = { \"the\" : 1, \"a\" : 2}"
   ]
  },
  {
   "cell_type": "markdown",
   "metadata": {},
   "source": [
    "Please change the entry for \"the\" to be two instead of one."
   ]
  },
  {
   "cell_type": "code",
   "execution_count": 14,
   "metadata": {},
   "outputs": [
    {
     "data": {
      "text/plain": [
       "{'the': 2, 'a': 2}"
      ]
     },
     "execution_count": 14,
     "metadata": {},
     "output_type": "execute_result"
    }
   ],
   "source": [
    "dict2[\"the\"] = 2\n",
    "\n",
    "dict2"
   ]
  },
  {
   "cell_type": "markdown",
   "metadata": {},
   "source": [
    "Here is a use case of a dictionary where we iterate over a list and retrieve the right value for each list item:"
   ]
  },
  {
   "cell_type": "code",
   "execution_count": 15,
   "metadata": {},
   "outputs": [
    {
     "name": "stdout",
     "output_type": "stream",
     "text": [
      "function word counts\n",
      "the 21\n",
      "and 3\n",
      "a 15\n"
     ]
    }
   ],
   "source": [
    "mylist = [ \"the\", \"and\", \"a\"]\n",
    "dictionary_of_counts = { \"house\" : 2, \"armadillo\" : 1, \n",
    "                         \"the\" : 21, \"recent\" : 2, \n",
    "                         \"said\": 3, \"a\" : 15,\n",
    "                         \"went\": 2, \"and\": 3,\n",
    "                         \"yellow\": 1}\n",
    "print(\"function word counts\")\n",
    "for word in mylist:\n",
    "    print(word, dictionary_of_counts[word])"
   ]
  },
  {
   "cell_type": "markdown",
   "metadata": {},
   "source": [
    "**Try it for yourself** \n",
    "\n",
    "Here is a mini German/English dictionary: "
   ]
  },
  {
   "cell_type": "code",
   "execution_count": 16,
   "metadata": {},
   "outputs": [],
   "source": [
    "mydict = {\"befreit\":\"liberated\", \"baeche\":\"brooks\", \n",
    "          \"eise\":\"ice\", \"sind\":\"are\", \"strom\":\"river\", \n",
    "          \"und\":\"and\", \"vom\":\"from\"}"
   ]
  },
  {
   "cell_type": "markdown",
   "metadata": {},
   "source": [
    "Can you use this dictionary to do a bad translation of the following German sentence? (Hint: this should look a lot like the use case above\n",
    "where we iterated over a list and printed out dictionary values \n",
    "for items on the list.)"
   ]
  },
  {
   "cell_type": "code",
   "execution_count": 17,
   "metadata": {},
   "outputs": [
    {
     "name": "stdout",
     "output_type": "stream",
     "text": [
      "from ice liberated are river and brooks \n",
      "\n",
      "vom : from\n",
      "eise : ice\n",
      "befreit : liberated\n",
      "sind : are\n",
      "strom : river\n",
      "und : and\n",
      "baeche : brooks\n"
     ]
    }
   ],
   "source": [
    "mysent = \"vom eise befreit sind strom und baeche\"\n",
    "\n",
    "for word in mysent.split(\" \"):\n",
    "    word = mydict[word]\n",
    "    print(word, end = \" \")\n",
    "\n",
    "print(\"\\n\")\n",
    "\n",
    "for word in mysent.split(\" \"):\n",
    "    print(word, \":\", mydict[word])\n"
   ]
  },
  {
   "cell_type": "markdown",
   "metadata": {},
   "source": [
    "*Warning:* Solution below, don't read on if you want to solve the \"bad translation\" problem for youself.\n",
    "\n",
    "...\n",
    "\n",
    "...\n",
    "\n",
    "...\n",
    "\n",
    "...\n",
    "\n",
    "...\n",
    "\n",
    "...\n",
    "\n",
    "...\n",
    "\n",
    "...\n",
    "\n",
    "\n",
    "\n",
    "\n",
    "\n",
    "\n",
    "\n",
    "\n",
    "\n",
    "Here is a solution.(Note that this is not how you want your machine translation to work! The translations that you get this way are terrible.)"
   ]
  },
  {
   "cell_type": "code",
   "execution_count": 18,
   "metadata": {},
   "outputs": [
    {
     "name": "stdout",
     "output_type": "stream",
     "text": [
      "from ice liberated are river and brooks \n"
     ]
    }
   ],
   "source": [
    "mydict = {\"befreit\":\"liberated\", \"baeche\":\"brooks\", \"eise\":\"ice\", \"sind\":\"are\", \"strom\":\"river\", \"und\":\"and\", \"vom\":\"from\"}\n",
    "mysent = \"vom eise befreit sind strom und baeche\"\n",
    "for german_word in mysent.split():\n",
    "    print( mydict[ german_word], end = \" \")\n",
    "print()"
   ]
  },
  {
   "cell_type": "markdown",
   "metadata": {},
   "source": [
    "Adding the parameter ```end = \" \"``` puts a space instead of a linebreak at the end of what is printed. That way, multiple \"print\" outputs land on the same line."
   ]
  },
  {
   "cell_type": "markdown",
   "metadata": {},
   "source": [
    "# A dictionary as a collection of variables/containers\n",
    "\n",
    "In a way, you can view a dictionary as a collection of containers, each of which you address by the key. Here is how you access the content of a container:"
   ]
  },
  {
   "cell_type": "code",
   "execution_count": 19,
   "metadata": {},
   "outputs": [
    {
     "data": {
      "text/plain": [
       "'Schnabeltier'"
      ]
     },
     "execution_count": 19,
     "metadata": {},
     "output_type": "execute_result"
    }
   ],
   "source": [
    "mydict = {\"cat\":\"Katze\", \"platypus\":\"Schnabeltier\"}\n",
    "mydict[\"platypus\"]"
   ]
  },
  {
   "cell_type": "markdown",
   "metadata": {},
   "source": [
    "Here is how you can add a container:"
   ]
  },
  {
   "cell_type": "code",
   "execution_count": 20,
   "metadata": {},
   "outputs": [
    {
     "data": {
      "text/plain": [
       "{'the': 1, 'and': 1, 'of': 1}"
      ]
     },
     "execution_count": 20,
     "metadata": {},
     "output_type": "execute_result"
    }
   ],
   "source": [
    "mydict = {\"the\":1, \"and\": 1}\n",
    "mydict[\"of\"] = 1\n",
    "mydict"
   ]
  },
  {
   "cell_type": "markdown",
   "metadata": {},
   "source": [
    "Here is how you can change the contents of a container:"
   ]
  },
  {
   "cell_type": "code",
   "execution_count": 21,
   "metadata": {},
   "outputs": [
    {
     "data": {
      "text/plain": [
       "{'the': 2, 'and': 1, 'of': 1}"
      ]
     },
     "execution_count": 21,
     "metadata": {},
     "output_type": "execute_result"
    }
   ],
   "source": [
    "mydict = {\"the\":1, \"and\": 1, \"of\": 1}\n",
    "mydict[\"the\"] = mydict[\"the\"] + 1\n",
    "mydict"
   ]
  },
  {
   "cell_type": "markdown",
   "metadata": {},
   "source": [
    "Compare this to how you would change the contents of an individual variable/container:"
   ]
  },
  {
   "cell_type": "code",
   "execution_count": 22,
   "metadata": {},
   "outputs": [
    {
     "data": {
      "text/plain": [
       "2"
      ]
     },
     "execution_count": 22,
     "metadata": {},
     "output_type": "execute_result"
    }
   ],
   "source": [
    "counter = 0\n",
    "mylist = [\"a\", \"b\", 'a']\n",
    "for item in mylist:\n",
    "    if item == \"a\":\n",
    "        counter = counter + 1\n",
    "      \n",
    "counter"
   ]
  },
  {
   "cell_type": "markdown",
   "metadata": {},
   "source": [
    "**Try it for yourself**:\n",
    "\n",
    "* Say you have a dictionary of counts, as shown below. Now you see the following additional words: \"watch\", \"the\",  \"monkey\". Add these counts. (Watch out: You need to do something different for the words that are already in the dictionary, in this case \"the\", than for the words that are not there yet, in this case \"watch\" and \"monkey\".)"
   ]
  },
  {
   "cell_type": "code",
   "execution_count": 23,
   "metadata": {},
   "outputs": [],
   "source": [
    "mydict = { \"the\": 1, \"and\":1, \"of\": 1}\n",
    "# now update with the counts for \"watch\", \"the\", \"monkey\".\n"
   ]
  },
  {
   "cell_type": "markdown",
   "metadata": {},
   "source": [
    "## Counting words in a text\n",
    "\n",
    "We can use this idea of a dictionary as a collection of variables/containers to count occurrences of words in a text.\n",
    "\n",
    "First, here is how you can count occurrences of just one word (here: \"to\") in a text:"
   ]
  },
  {
   "cell_type": "code",
   "execution_count": 24,
   "metadata": {},
   "outputs": [
    {
     "name": "stdout",
     "output_type": "stream",
     "text": [
      "3\n"
     ]
    }
   ],
   "source": [
    "# paragraph from the Onion, March 04\n",
    "paragraph = \"\"\"While dieters are accustomed to exercises of will, \n",
    "a new English translation of Germany's most popular diet book \n",
    "takes the concept to a new philosophical level. \n",
    "The Nietzschean diet, which commands its adherents to eat \n",
    "superhuman amounts of whatever they most fear, \n",
    "is developing a strong following in America.\"\"\"\n",
    "\n",
    "count_to = 0\n",
    "for word in paragraph.split():\n",
    "    if word == \"to\":\n",
    "        count_to = count_to + 1\n",
    "\n",
    "print( count_to )"
   ]
  },
  {
   "cell_type": "markdown",
   "metadata": {},
   "source": [
    "Now suppose we want to count occurrences of all words at the same time. \n",
    "Then we can use a Python dictionary as a collection of containers, one for each word. The words are the keys, and their counts as the values. Every time we encounter a word, we add one to its value in the dictionary."
   ]
  },
  {
   "cell_type": "code",
   "execution_count": 25,
   "metadata": {},
   "outputs": [
    {
     "name": "stdout",
     "output_type": "stream",
     "text": [
      "{'While': 1, 'dieters': 1, 'are': 1, 'accustomed': 1, 'to': 3, 'exercises': 1, 'of': 3, 'will,': 1, 'a': 3, 'new': 2, 'English': 1, 'translation': 1, \"Germany's\": 1, 'most': 2, 'popular': 1, 'diet': 1, 'book': 1, 'takes': 1, 'the': 1, 'concept': 1, 'philosophical': 1, 'level.': 1, 'The': 1, 'Nietzschean': 1, 'diet,': 1, 'which': 1, 'commands': 1, 'its': 1, 'adherents': 1, 'eat': 1, 'superhuman': 1, 'amounts': 1, 'whatever': 1, 'they': 1, 'fear,': 1, 'is': 1, 'developing': 1, 'strong': 1, 'following': 1, 'in': 1, 'America.': 1}\n"
     ]
    }
   ],
   "source": [
    "# paragraph from the Onion, March 04\n",
    "paragraph = \"\"\"While dieters are accustomed to exercises of \n",
    "will, a new English translation of Germany's most popular \n",
    "diet book takes the concept to a new philosophical level. \n",
    "The Nietzschean diet, which commands its adherents to eat \n",
    "superhuman amounts of whatever they most fear, \n",
    "is developing a strong following in America.\"\"\"\n",
    "\n",
    "counts = { }\n",
    "\n",
    "for word in paragraph.split():\n",
    "    if  word not in counts:\n",
    "            counts[word] = 0\n",
    "    counts[ word ] = counts[ word ] + 1\n",
    "\n",
    "print( counts )"
   ]
  },
  {
   "cell_type": "markdown",
   "metadata": {},
   "source": [
    "The condition ```if word not in counts``` is true if the content of the variable word is not a key in the dictionary counts.\n",
    "\n",
    "Note that this is a variant of the \"accumulation\" code pattern that you have seen before. We initialize counts to an empty dictionary. Then we iterate over the words in the paragraph, adding numbers to the dictionary as we go along. The first time we encounter a word, we initialize its count to zero. We know we encounter it for the first time because there is no dictionary key for them yet.\n",
    "\n",
    "**Try it for yourself**:\n",
    "* In the code above, each word is counted \"as is\", which means that \"the\" and \"The\" are counted separately. Modify the code such that it lowercases each word before counting."
   ]
  },
  {
   "cell_type": "code",
   "execution_count": 26,
   "metadata": {},
   "outputs": [
    {
     "name": "stdout",
     "output_type": "stream",
     "text": [
      "{'while': 1, 'dieters': 1, 'are': 1, 'accustomed': 1, 'to': 3, 'exercises': 1, 'of': 3, 'will,': 1, 'a': 3, 'new': 2, 'english': 1, 'translation': 1, \"germany's\": 1, 'most': 2, 'popular': 1, 'diet': 1, 'book': 1, 'takes': 1, 'the': 2, 'concept': 1, 'philosophical': 1, 'level.': 1, 'nietzschean': 1, 'diet,': 1, 'which': 1, 'commands': 1, 'its': 1, 'adherents': 1, 'eat': 1, 'superhuman': 1, 'amounts': 1, 'whatever': 1, 'they': 1, 'fear,': 1, 'is': 1, 'developing': 1, 'strong': 1, 'following': 1, 'in': 1, 'america.': 1}\n"
     ]
    }
   ],
   "source": [
    "# paragraph from the Onion, March 04\n",
    "paragraph = \"\"\"While dieters are accustomed to exercises of \n",
    "will, a new English translation of Germany's most popular \n",
    "diet book takes the concept to a new philosophical level. \n",
    "The Nietzschean diet, which commands its adherents to eat \n",
    "superhuman amounts of whatever they most fear, \n",
    "is developing a strong following in America.\"\"\"\n",
    "\n",
    "counts = { }\n",
    "\n",
    "for word in paragraph.split():\n",
    "    word = word.lower()\n",
    "    if word not in counts:\n",
    "            counts[word] = 0\n",
    "    counts[ word ] = counts[ word ] + 1\n",
    "\n",
    "print( counts )"
   ]
  },
  {
   "cell_type": "markdown",
   "metadata": {},
   "source": [
    "# Counting words using NLTK\n",
    "\n",
    "Word counting is a task that we often need to do when we analyze texts. It is surprising for how many different analyses this is the first step! And because this is such a frequent task, the Natural Language Toolkit has a specialized type of dictionary just for counting (of words, or of other items). \n",
    "\n",
    "This is a trick you will see often with Python packages: They define specialized data types that come with their own methods. "
   ]
  },
  {
   "cell_type": "code",
   "execution_count": 27,
   "metadata": {},
   "outputs": [
    {
     "name": "stdout",
     "output_type": "stream",
     "text": [
      "The words are ['``', 'You', 'are', 'old', ',', 'Father', 'William', ',', \"''\", 'the', 'young', 'man', 'said', ',', '``', 'And', 'your', 'hair', 'has', 'become', 'very', 'white', ';', 'And', 'yet', 'you', 'incessantly', 'stand', 'on', 'your', 'head—', 'Do', 'you', 'think', ',', 'at', 'your', 'age', ',', 'it', 'is', 'right', '?', \"''\", '``', 'In', 'my', 'youth', ',', \"''\", 'Father', 'William', 'replied', 'to', 'his', 'son', ',', '``', 'I', 'feared', 'it', 'might', 'injure', 'the', 'brain', ';', 'But', 'now', 'that', 'I', \"'m\", 'perfectly', 'sure', 'I', 'have', 'none', ',', 'Why', ',', 'I', 'do', 'it', 'again', 'and', 'again', '.', \"''\", '``', 'You', 'are', 'old', ',', \"''\", 'said', 'the', 'youth', ',', '``', 'as', 'I', 'mentioned', 'before', ',', 'And', 'have', 'grown', 'most', 'uncommonly', 'fat', ';', 'Yet', 'you', 'turned', 'a', 'back-somersault', 'in', 'at', 'the', 'door—', 'Pray', ',', 'what', 'is', 'the', 'reason', 'of', 'that', '?', \"''\", '``', 'In', 'my', 'youth', ',', \"''\", 'said', 'the', 'sage', ',', 'as', 'he', 'shook', 'his', 'grey', 'locks', ',', '``', 'I', 'kept', 'all', 'my', 'limbs', 'very', 'supple', 'By', 'the', 'use', 'of', 'this', 'ointment—one', 'shilling', 'the', 'box—', 'Allow', 'me', 'to', 'sell', 'you', 'a', 'couple', '.', \"''\", '``', 'You', 'are', 'old', ',', \"''\", 'said', 'the', 'youth', ',', '``', 'and', 'your', 'jaws', 'are', 'too', 'weak', 'For', 'anything', 'tougher', 'than', 'suet', ';', 'Yet', 'you', 'finished', 'the', 'goose', ',', 'with', 'the', 'bones', 'and', 'the', 'beak—', 'Pray', ',', 'how', 'did', 'you', 'manage', 'to', 'do', 'it', '?', \"''\", '``', 'In', 'my', 'youth', ',', \"''\", 'said', 'his', 'father', ',', '``', 'I', 'took', 'to', 'the', 'law', ',', 'And', 'argued', 'each', 'case', 'with', 'my', 'wife', ';', 'And', 'the', 'muscular', 'strength', ',', 'which', 'it', 'gave', 'to', 'my', 'jaw', ',', 'Has', 'lasted', 'the', 'rest', 'of', 'my', 'life', '.', \"''\", '``', 'You', 'are', 'old', ',', \"''\", 'said', 'the', 'youth', ',', '``', 'one', 'would', 'hardly', 'suppose', 'That', 'your', 'eye', 'was', 'as', 'steady', 'as', 'ever', ';', 'Yet', 'you', 'balanced', 'an', 'eel', 'on', 'the', 'end', 'of', 'your', 'nose—', 'What', 'made', 'you', 'so', 'awfully', 'clever', '?', \"''\", '``', 'I', 'have', 'answered', 'three', 'questions', ',', 'and', 'that', 'is', 'enough', ',', \"''\", 'Said', 'his', 'father', ';', '``', 'do', \"n't\", 'give', 'yourself', 'airs', '!', 'Do', 'you', 'think', 'I', 'can', 'listen', 'all', 'day', 'to', 'such', 'stuff', '?', 'Be', 'off', ',', 'or', 'I', \"'ll\", 'kick', 'you', 'down', 'stairs', '!']\n"
     ]
    }
   ],
   "source": [
    "import nltk\n",
    "\n",
    "# a poem from Alice in Wonderland\n",
    "data = \"\"\"\"You are old, Father William,\" the young man said,\n",
    "    \"And your hair has become very white;\n",
    "And yet you incessantly stand on your head—\n",
    "    Do you think, at your age, it is right?\"\n",
    "\n",
    "\"In my youth,\" Father William replied to his son,\n",
    "    \"I feared it might injure the brain;\n",
    "But now that I'm perfectly sure I have none,\n",
    "    Why, I do it again and again.\"\n",
    "\n",
    "\"You are old,\" said the youth, \"as I mentioned before,\n",
    "    And have grown most uncommonly fat;\n",
    "Yet you turned a back-somersault in at the door—\n",
    "    Pray, what is the reason of that?\"\n",
    "\n",
    "\"In my youth,\" said the sage, as he shook his grey locks,\n",
    "    \"I kept all my limbs very supple\n",
    "By the use of this ointment—one shilling the box—\n",
    "    Allow me to sell you a couple.\"\n",
    "\n",
    "\"You are old,\" said the youth, \"and your jaws are too weak\n",
    "    For anything tougher than suet;\n",
    "Yet you finished the goose, with the bones and the beak—\n",
    "    Pray, how did you manage to do it?\"\n",
    "\n",
    "\"In my youth,\" said his father, \"I took to the law,\n",
    "    And argued each case with my wife;\n",
    "And the muscular strength, which it gave to my jaw,\n",
    "    Has lasted the rest of my life.\"\n",
    "\n",
    "\"You are old,\" said the youth, \"one would hardly suppose\n",
    "    That your eye was as steady as ever;\n",
    "Yet you balanced an eel on the end of your nose—\n",
    "    What made you so awfully clever?\"\n",
    "\n",
    "\"I have answered three questions, and that is enough,\"\n",
    "    Said his father; \"don't give yourself airs!\n",
    "Do you think I can listen all day to such stuff?\n",
    "    Be off, or I'll kick you down stairs!\"\"\"\n",
    "\n",
    "# we use the Natural Language Toolkit to split this poem into words\n",
    "# in a way that also splits off punctuation\n",
    "words = nltk.word_tokenize(data)\n",
    "print(\"The words are\", words)"
   ]
  },
  {
   "cell_type": "code",
   "execution_count": 28,
   "metadata": {},
   "outputs": [
    {
     "data": {
      "text/plain": [
       "FreqDist({',': 30, 'the': 17, '``': 16, \"''\": 15, 'you': 10, 'I': 10, ';': 7, 'my': 7, 'said': 6, 'your': 6, ...})"
      ]
     },
     "execution_count": 28,
     "metadata": {},
     "output_type": "execute_result"
    }
   ],
   "source": [
    "# Here is the item counting dictionary\n",
    "# You initialize it with the list of items to be counted\n",
    "fd = nltk.FreqDist(words)\n",
    "# When you inspect this, you see\n",
    "# the words with the highest counts first\n",
    "fd"
   ]
  },
  {
   "cell_type": "code",
   "execution_count": 29,
   "metadata": {},
   "outputs": [
    {
     "data": {
      "text/plain": [
       "[(',', 30),\n",
       " ('the', 17),\n",
       " ('``', 16),\n",
       " (\"''\", 15),\n",
       " ('you', 10),\n",
       " ('I', 10),\n",
       " (';', 7),\n",
       " ('my', 7),\n",
       " ('said', 6),\n",
       " ('your', 6)]"
      ]
     },
     "execution_count": 29,
     "metadata": {},
     "output_type": "execute_result"
    }
   ],
   "source": [
    "# the 10 most common words and their counts\n",
    "fd.most_common(10)"
   ]
  },
  {
   "cell_type": "code",
   "execution_count": 30,
   "metadata": {},
   "outputs": [
    {
     "data": {
      "text/plain": [
       "6"
      ]
     },
     "execution_count": 30,
     "metadata": {},
     "output_type": "execute_result"
    }
   ],
   "source": [
    "# the counts for a particular word: \n",
    "# ask this like you would a dictionary\n",
    "fd[\"youth\"]"
   ]
  },
  {
   "cell_type": "markdown",
   "metadata": {},
   "source": [
    "**Try it for yourself**:\n",
    "\n",
    "Get a short text passage from some webpage, and store it as a Python string. Split it into words using either ```split()``` or ```nltk.word_tokenize()```. Then make a new ```nltk.FreqDist``` and use it to count words in the passage.\n",
    "\n",
    "* What are the 5 most frequent words in the passage, and what are their counts?\n",
    "\n",
    "* Is the word \"and\" in the passage? If so, what is its count?"
   ]
  },
  {
   "cell_type": "code",
   "execution_count": 49,
   "metadata": {},
   "outputs": [
    {
     "data": {
      "text/plain": [
       "[(',', 11), ('.', 9), ('the', 9), ('and', 4), ('of', 3)]"
      ]
     },
     "execution_count": 49,
     "metadata": {},
     "output_type": "execute_result"
    }
   ],
   "source": [
    "marthas_vineyard = \"\"\"VINEYARD HAVEN, Mass. — On Friday morning, the dozens of migrants who landed on Martha’s Vineyard this week filed out of the church they’d been sleeping in for two nights to hugs from the local volunteers.\n",
    "\n",
    "They now had full bags and new cellphones. As they boarded the three white buses that would take them to the ferry, many cried. Eliomar Aguero, 30, put up a peace sign, smiling and thanking the dozens of volunteers waving him on. “Thank you all,” Aguero said in Spanish.\n",
    "\n",
    "Soon, he and his wife, Maria, would board a ferry. Massachusetts authorities announced Friday that the 50 migrants would be moved from Martha’s Vineyard to a military base in Cape Cod so they can find shelter and chart next steps. The move is voluntary for the migrants, the state said. \"\"\"\n",
    "\n",
    "mv_tokens = nltk.word_tokenize(marthas_vineyard)\n",
    "\n",
    "fd1 = nltk.FreqDist(mv_tokens)\n",
    "\n",
    "fd1.most_common(5)"
   ]
  },
  {
   "cell_type": "code",
   "execution_count": 51,
   "metadata": {},
   "outputs": [
    {
     "name": "stdout",
     "output_type": "stream",
     "text": [
      "       ,        .      the      and       of migrants        ’     they       in       to    would        a \n",
      "      11        9        9        4        3        3        3        3        3        3        3        3 \n"
     ]
    }
   ],
   "source": [
    "fd1.tabulate(12)"
   ]
  },
  {
   "cell_type": "markdown",
   "metadata": {},
   "source": [
    "## ConditionalFreqDist\n",
    "\n",
    "### A frequency distribution object (dictionary) that can tell you the occurences of different words after a key"
   ]
  },
  {
   "cell_type": "code",
   "execution_count": 59,
   "metadata": {},
   "outputs": [
    {
     "data": {
      "text/plain": [
       "FreqDist({'dozens': 2, 'church': 1, 'local': 1, 'three': 1, 'ferry': 1, '50': 1, 'migrants': 1, 'state': 1})"
      ]
     },
     "execution_count": 59,
     "metadata": {},
     "output_type": "execute_result"
    }
   ],
   "source": [
    "mv_bigrams = list(nltk.bigrams(nltk.word_tokenize(marthas_vineyard)))\n",
    "mv_bigrams_fd = nltk.ConditionalFreqDist(mv_bigrams)\n",
    "\n",
    "mv_bigrams_fd[\"the\"]"
   ]
  },
  {
   "cell_type": "markdown",
   "metadata": {},
   "source": [
    "# All keys, all values, all pairs\n",
    "\n",
    "\n",
    "You can retrieve all the keys of a dictionary:"
   ]
  },
  {
   "cell_type": "code",
   "execution_count": 32,
   "metadata": {},
   "outputs": [
    {
     "data": {
      "text/plain": [
       "dict_keys(['dog', 'cat', 'armadillo'])"
      ]
     },
     "execution_count": 32,
     "metadata": {},
     "output_type": "execute_result"
    }
   ],
   "source": [
    "mydict = {\"dog\":\"Hund\", \"cat\":\"Katze\", \"armadillo\":\"Guerteltier\"}\n",
    "mydict.keys()"
   ]
  },
  {
   "cell_type": "markdown",
   "metadata": {},
   "source": [
    "These keys are almost the same as a list, and you can iterate through them like through a list, using a for-loop:"
   ]
  },
  {
   "cell_type": "code",
   "execution_count": 33,
   "metadata": {},
   "outputs": [
    {
     "name": "stdout",
     "output_type": "stream",
     "text": [
      "You : 4\n",
      "are : 5\n",
      "old : 4\n",
      "Father : 2\n",
      "William : 2\n",
      "the : 17\n",
      "young : 1\n",
      "man : 1\n",
      "said : 6\n",
      "And : 5\n",
      "your : 6\n",
      "hair : 1\n",
      "has : 1\n",
      "become : 1\n",
      "very : 2\n",
      "white : 1\n",
      "yet : 1\n",
      "you : 10\n",
      "incessantly : 1\n",
      "stand : 1\n",
      "on : 2\n",
      "Do : 2\n",
      "think : 2\n",
      "at : 2\n",
      "age : 1\n",
      "it : 5\n",
      "is : 3\n",
      "right : 1\n",
      "In : 3\n",
      "my : 7\n",
      "youth : 6\n",
      "replied : 1\n",
      "to : 6\n",
      "his : 4\n",
      "son : 1\n",
      "I : 10\n",
      "feared : 1\n",
      "might : 1\n",
      "injure : 1\n",
      "brain : 1\n",
      "But : 1\n",
      "now : 1\n",
      "that : 3\n",
      "perfectly : 1\n",
      "sure : 1\n",
      "have : 3\n",
      "none : 1\n",
      "Why : 1\n",
      "do : 3\n",
      "again : 2\n",
      "and : 4\n",
      "as : 4\n",
      "mentioned : 1\n",
      "before : 1\n",
      "grown : 1\n",
      "most : 1\n",
      "uncommonly : 1\n",
      "fat : 1\n",
      "Yet : 3\n",
      "turned : 1\n",
      "a : 2\n",
      "in : 1\n",
      "Pray : 2\n",
      "what : 1\n",
      "reason : 1\n",
      "of : 4\n",
      "sage : 1\n",
      "he : 1\n",
      "shook : 1\n",
      "grey : 1\n",
      "locks : 1\n",
      "kept : 1\n",
      "all : 2\n",
      "limbs : 1\n",
      "supple : 1\n",
      "By : 1\n",
      "use : 1\n",
      "this : 1\n",
      "shilling : 1\n",
      "Allow : 1\n",
      "me : 1\n",
      "sell : 1\n",
      "couple : 1\n",
      "jaws : 1\n",
      "too : 1\n",
      "weak : 1\n",
      "For : 1\n",
      "anything : 1\n",
      "tougher : 1\n",
      "than : 1\n",
      "suet : 1\n",
      "finished : 1\n",
      "goose : 1\n",
      "with : 2\n",
      "bones : 1\n",
      "how : 1\n",
      "did : 1\n",
      "manage : 1\n",
      "father : 2\n",
      "took : 1\n",
      "law : 1\n",
      "argued : 1\n",
      "each : 1\n",
      "case : 1\n",
      "wife : 1\n",
      "muscular : 1\n",
      "strength : 1\n",
      "which : 1\n",
      "gave : 1\n",
      "jaw : 1\n",
      "Has : 1\n",
      "lasted : 1\n",
      "rest : 1\n",
      "life : 1\n",
      "one : 1\n",
      "would : 1\n",
      "hardly : 1\n",
      "suppose : 1\n",
      "That : 1\n",
      "eye : 1\n",
      "was : 1\n",
      "steady : 1\n",
      "ever : 1\n",
      "balanced : 1\n",
      "an : 1\n",
      "eel : 1\n",
      "end : 1\n",
      "What : 1\n",
      "made : 1\n",
      "so : 1\n",
      "awfully : 1\n",
      "clever : 1\n",
      "answered : 1\n",
      "three : 1\n",
      "questions : 1\n",
      "enough : 1\n",
      "Said : 1\n",
      "give : 1\n",
      "yourself : 1\n",
      "airs : 1\n",
      "can : 1\n",
      "listen : 1\n",
      "day : 1\n",
      "such : 1\n",
      "stuff : 1\n",
      "Be : 1\n",
      "off : 1\n",
      "or : 1\n",
      "kick : 1\n",
      "down : 1\n",
      "stairs : 1\n"
     ]
    }
   ],
   "source": [
    "# printing counts for all words that \n",
    "# are actual words,\n",
    "# not punctuation\n",
    "for word in fd.keys():\n",
    "    if word.isalpha():\n",
    "        print(word, \":\", fd[word])"
   ]
  },
  {
   "cell_type": "markdown",
   "metadata": {},
   "source": [
    "You can also get all the values in a dictionary:"
   ]
  },
  {
   "cell_type": "code",
   "execution_count": 34,
   "metadata": {},
   "outputs": [
    {
     "data": {
      "text/plain": [
       "dict_values(['Hund', 'Katze', 'Guerteltier'])"
      ]
     },
     "execution_count": 34,
     "metadata": {},
     "output_type": "execute_result"
    }
   ],
   "source": [
    "mydict.values()"
   ]
  },
  {
   "cell_type": "code",
   "execution_count": 35,
   "metadata": {},
   "outputs": [
    {
     "name": "stdout",
     "output_type": "stream",
     "text": [
      "summed counts in the FreqDist: 354\n",
      "number of words in the poem: 354\n",
      "summed counts in the FreqDist, version 2: 354\n"
     ]
    }
   ],
   "source": [
    "# summing up all the values in the \n",
    "# FreqDist object is\n",
    "# the same as the length of the original poem\n",
    "print(\"summed counts in the FreqDist:\", sum(fd.values()))\n",
    "print(\"number of words in the poem:\", len(nltk.word_tokenize(data)))\n",
    "print(\"summed counts in the FreqDist, version 2:\", fd.N())"
   ]
  },
  {
   "cell_type": "markdown",
   "metadata": {},
   "source": [
    "**Try it for yourself.**\n",
    "\n",
    "* Above, you made a ```nltk.FreqDist``` object counting words in a passage of your choosing. Now iterate through the keys in that dictionary in order to print counts *only for the uppercase words* in that passage."
   ]
  },
  {
   "cell_type": "code",
   "execution_count": 47,
   "metadata": {},
   "outputs": [
    {
     "name": "stdout",
     "output_type": "stream",
     "text": [
      "Friday : 2\n",
      "Martha : 2\n",
      "Vineyard : 2\n",
      "Aguero : 2\n",
      "Mass : 1\n",
      "On : 1\n",
      "They : 1\n",
      "As : 1\n",
      "Eliomar : 1\n",
      "Thank : 1\n",
      "Spanish : 1\n",
      "Soon : 1\n",
      "Maria : 1\n",
      "Massachusetts : 1\n",
      "Cape : 1\n",
      "Cod : 1\n",
      "The : 1\n"
     ]
    }
   ],
   "source": [
    "marthas_vineyard = \"\"\"VINEYARD HAVEN, Mass. — On Friday morning, the dozens of migrants who landed on Martha’s Vineyard this week filed out of the church they’d been sleeping in for two nights to hugs from the local volunteers.\n",
    "\n",
    "They now had full bags and new cellphones. As they boarded the three white buses that would take them to the ferry, many cried. Eliomar Aguero, 30, put up a peace sign, smiling and thanking the dozens of volunteers waving him on. “Thank you all,” Aguero said in Spanish.\n",
    "\n",
    "Soon, he and his wife, Maria, would board a ferry. Massachusetts authorities announced Friday that the 50 migrants would be moved from Martha’s Vineyard to a military base in Cape Cod so they can find shelter and chart next steps. The move is voluntary for the migrants, the state said. \"\"\"\n",
    "\n",
    "mv_tokens = nltk.word_tokenize(marthas_vineyard)\n",
    "\n",
    "fd1 = nltk.FreqDist(mv_tokens)\n",
    "\n",
    "fd1.most_common()\n",
    "\n",
    "for word in fd1:\n",
    "    if word.istitle():\n",
    "        print(word, \":\", fd1[word])"
   ]
  },
  {
   "cell_type": "markdown",
   "metadata": {},
   "source": [
    "* Here is a small English/German dictionary as a Python dictionary. Iterate through the values in that dictionary and print only the German words with a length greater or equal to 7 characters."
   ]
  },
  {
   "cell_type": "code",
   "execution_count": 37,
   "metadata": {},
   "outputs": [],
   "source": [
    "translationdict = {\"dog\":\"Hund\", \"cat\": \"Katze\", \n",
    "                   \"dormouse\":\"Siebenschlaefer\", \n",
    "                   \"praying mantis\":\"Gottesanbeterin\",\n",
    "                  \"gopher\" : \"Taschenratte\"}\n",
    "# put code here...\n",
    "\n",
    "\n"
   ]
  },
  {
   "cell_type": "markdown",
   "metadata": {},
   "source": [
    "You can also get access to all key/value pairs in a dictionary, using the method ```items()```:"
   ]
  },
  {
   "cell_type": "code",
   "execution_count": 38,
   "metadata": {},
   "outputs": [
    {
     "data": {
      "text/plain": [
       "dict_items([('dog', 'Hund'), ('cat', 'Katze'), ('armadillo', 'Guerteltier')])"
      ]
     },
     "execution_count": 38,
     "metadata": {},
     "output_type": "execute_result"
    }
   ],
   "source": [
    "mydict.items()"
   ]
  },
  {
   "cell_type": "markdown",
   "metadata": {},
   "source": [
    "The items (key/value pairs) have a shape like this:\n",
    "\n",
    "```('dog', 'Hund')```\n",
    "\n",
    "This looks almost like a list, but with round brackets rather than straight, and you can in fact treat it like a list. In particular, you can access the first part of this pair (the key) with index 0, and the second part of the pair (the value) with index 1. \n",
    "\n",
    "(If you want to know more: This data structure is called a *tuple*. It behaves like a list, except that it is immutable, like a string: you cannot ```append()``` to it, and you cannot exchange individual items on a tuple.)"
   ]
  },
  {
   "cell_type": "code",
   "execution_count": 39,
   "metadata": {},
   "outputs": [
    {
     "name": "stdout",
     "output_type": "stream",
     "text": [
      "the first key is dog and the first value is Hund\n"
     ]
    }
   ],
   "source": [
    "firstpair = (\"dog\", \"Hund\")\n",
    "firstkey = firstpair[0]\n",
    "firstvalue = firstpair[1]\n",
    "print(\"the first key is\", firstkey, \"and the first value is\", firstvalue)"
   ]
  },
  {
   "cell_type": "markdown",
   "metadata": {},
   "source": [
    "You can iterate over the keys of a dictionary, the values of a dictionary, and the key/value pairs (items). Here is how to do the latter:"
   ]
  },
  {
   "cell_type": "code",
   "execution_count": 40,
   "metadata": {},
   "outputs": [
    {
     "name": "stdout",
     "output_type": "stream",
     "text": [
      "English dog translates to German Hund\n",
      "English cat translates to German Katze\n",
      "English armadillo translates to German Guerteltier\n"
     ]
    }
   ],
   "source": [
    "for keyvalue in mydict.items():\n",
    "    english = keyvalue[0]\n",
    "    german = keyvalue[1]\n",
    "    print('English', english, \"translates to German\", german)"
   ]
  },
  {
   "cell_type": "markdown",
   "metadata": {},
   "source": [
    "You can take a tuple or a list apart by assigning multiple variables to it at once:"
   ]
  },
  {
   "cell_type": "code",
   "execution_count": 41,
   "metadata": {},
   "outputs": [
    {
     "name": "stdout",
     "output_type": "stream",
     "text": [
      "We have assigned dog to 'englishword' and Hund to 'germanword'\n"
     ]
    }
   ],
   "source": [
    "firstpair = (\"dog\", \"Hund\")\n",
    "englishword, germanword = firstpair\n",
    "print(\"We have assigned\", englishword, \"to 'englishword' and\",\n",
    "     germanword, \"to 'germanword'\")"
   ]
  },
  {
   "cell_type": "markdown",
   "metadata": {},
   "source": [
    "So you can fill two containers (variables) at the same time by putting them on the left-hand side of the assignment =. That only works if on the right-hand side you have a list or tuple of length exactly two.\n",
    "\n",
    "(You can also assign three/four/... variables at the same time if on the right-hand side you have a list or tuple of length exactly three/four/...)"
   ]
  },
  {
   "cell_type": "code",
   "execution_count": 42,
   "metadata": {},
   "outputs": [
    {
     "name": "stdout",
     "output_type": "stream",
     "text": [
      "2\n"
     ]
    }
   ],
   "source": [
    "var1, var2, var3 = (1,2,3)\n",
    "print(var2)"
   ]
  },
  {
   "cell_type": "markdown",
   "metadata": {},
   "source": [
    "Don't miscount, or you get an error message, in particular a ValueError. "
   ]
  },
  {
   "cell_type": "code",
   "execution_count": 43,
   "metadata": {},
   "outputs": [],
   "source": [
    "# Uncomment (remove the hash from) the 'var1, var2' line\n",
    "# to get a ValueError with comment\n",
    "# \"too many values to unpack (expected 2)\"\n",
    "# var1, var2 = (1,2,3)"
   ]
  },
  {
   "cell_type": "markdown",
   "metadata": {},
   "source": [
    "Usually when doing assignments, assigning the right-hand side of the \"=\" to the left-hand side, there was only a single variable on the left-hand side. But if we know that the right-hand side of the \"=\" has exactly two components, we can put two variables on the left-hand side. The command above takes the tuple ('rhinoceros', 'Nashorn') apart into two items and assigns the first to the variable english and the second to the variable german.\n",
    "\n",
    "We can combine this with a for-loop when we iterate over key/value pairs:"
   ]
  },
  {
   "cell_type": "code",
   "execution_count": 44,
   "metadata": {},
   "outputs": [
    {
     "name": "stdout",
     "output_type": "stream",
     "text": [
      "Hund is German for dog\n",
      "Katze is German for cat\n",
      "Guerteltier is German for armadillo\n"
     ]
    }
   ],
   "source": [
    "for english, german in mydict.items():\n",
    "    print(german, \"is German for\", english)"
   ]
  },
  {
   "cell_type": "markdown",
   "metadata": {},
   "source": [
    "The central line here is:\n",
    "```for english, german in mydict.items():```\n",
    "\n",
    "This is the same idea as above -- we know that any member of mydict.items() consists of two parts (a key and a value), so we can assign it to two variables at once.\n",
    "\n"
   ]
  },
  {
   "cell_type": "markdown",
   "metadata": {},
   "source": [
    "**Try it for yourself**:\n",
    "\n",
    "* Iterate through the key/value pairs in the ```nltk.FreqDist``` dictionary you made above from a passage you chose. For all words that contain punctuation symbols, print out the counts.  "
   ]
  },
  {
   "cell_type": "code",
   "execution_count": 48,
   "metadata": {},
   "outputs": [
    {
     "name": "stdout",
     "output_type": "stream",
     "text": [
      ", : 11\n",
      ". : 9\n",
      "’ : 3\n",
      "— : 1\n",
      "“ : 1\n",
      "” : 1\n"
     ]
    }
   ],
   "source": [
    "import re\n",
    "\n",
    "marthas_vineyard = \"\"\"VINEYARD HAVEN, Mass. — On Friday morning, the dozens of migrants who landed on Martha’s Vineyard this week filed out of the church they’d been sleeping in for two nights to hugs from the local volunteers.\n",
    "\n",
    "They now had full bags and new cellphones. As they boarded the three white buses that would take them to the ferry, many cried. Eliomar Aguero, 30, put up a peace sign, smiling and thanking the dozens of volunteers waving him on. “Thank you all,” Aguero said in Spanish.\n",
    "\n",
    "Soon, he and his wife, Maria, would board a ferry. Massachusetts authorities announced Friday that the 50 migrants would be moved from Martha’s Vineyard to a military base in Cape Cod so they can find shelter and chart next steps. The move is voluntary for the migrants, the state said. \"\"\"\n",
    "\n",
    "mv_tokens = nltk.word_tokenize(marthas_vineyard)\n",
    "\n",
    "fd1 = nltk.FreqDist(mv_tokens)\n",
    "\n",
    "for word in fd1:\n",
    "    if re.search(r\"^\\W$\", word) is not None:\n",
    "        print(word, \":\", fd1[word])"
   ]
  },
  {
   "cell_type": "markdown",
   "metadata": {},
   "source": [
    "* Using again the translation dictionary from above with animal names in English and German, iterate through key/value pairs, and for pairs where the German word is at least 7 letters long, print both the German word and its English translation. "
   ]
  },
  {
   "cell_type": "code",
   "execution_count": 46,
   "metadata": {},
   "outputs": [
    {
     "name": "stdout",
     "output_type": "stream",
     "text": [
      "Siebenschlaefer is German for dormouse.\n",
      "Gottesanbeterin is German for praying mantis.\n",
      "Taschenratte is German for gopher.\n"
     ]
    }
   ],
   "source": [
    "translationdict = {\"dog\":\"Hund\", \"cat\": \"Katze\", \n",
    "                   \"dormouse\":\"Siebenschlaefer\", \n",
    "                   \"praying mantis\":\"Gottesanbeterin\",\n",
    "                  \"gopher\" : \"Taschenratte\"}\n",
    "# put your code here.\n",
    "\n",
    "for key, value in translationdict.items():\n",
    "    if len(value) >= 7:\n",
    "        print(value, \"is German for\", key + \".\")\n"
   ]
  }
 ],
 "metadata": {
  "kernelspec": {
   "display_name": "Python 3.10.6 64-bit",
   "language": "python",
   "name": "python3"
  },
  "language_info": {
   "codemirror_mode": {
    "name": "ipython",
    "version": 3
   },
   "file_extension": ".py",
   "mimetype": "text/x-python",
   "name": "python",
   "nbconvert_exporter": "python",
   "pygments_lexer": "ipython3",
   "version": "3.10.6"
  },
  "vscode": {
   "interpreter": {
    "hash": "aee8b7b246df8f9039afb4144a1f6fd8d2ca17a180786b69acc140d282b71a49"
   }
  }
 },
 "nbformat": 4,
 "nbformat_minor": 2
}
