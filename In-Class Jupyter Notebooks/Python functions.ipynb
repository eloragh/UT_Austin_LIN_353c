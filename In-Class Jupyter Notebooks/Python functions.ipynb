{
 "cells": [
  {
   "cell_type": "markdown",
   "metadata": {},
   "source": [
    "# Defining your own functions\n",
    "\n",
    "You have seen builtin functions, like type(), int(), str(), and functions from packages, like math.sqrt(). In Python, you can also define functions yourself. This is useful when you need to do the same thing (or something very similar) again and again. Suppose that you are in a country where temperature is given in Celsius, but you are more familiar with Fahrenheit. Here is how you can figure out that 20 degrees Celsius are 68 degrees Fahrenheit, and 30 degrees Celsius are 86 degrees Fahrenheit:"
   ]
  },
  {
   "cell_type": "code",
   "execution_count": 1,
   "metadata": {},
   "outputs": [
    {
     "name": "stdout",
     "output_type": "stream",
     "text": [
      "68.0\n"
     ]
    }
   ],
   "source": [
    "print( (20 * 9/5) + 32)"
   ]
  },
  {
   "cell_type": "code",
   "execution_count": 2,
   "metadata": {},
   "outputs": [
    {
     "name": "stdout",
     "output_type": "stream",
     "text": [
      "86.0\n"
     ]
    }
   ],
   "source": [
    "print( (30 * 9/5) + 32)"
   ]
  },
  {
   "cell_type": "markdown",
   "metadata": {},
   "source": [
    "If you need to convert temperatures very often, this gets tedious. Instead, you can define your own function by giving a name to a piece of code:"
   ]
  },
  {
   "cell_type": "code",
   "execution_count": 34,
   "metadata": {},
   "outputs": [],
   "source": [
    "def celsius_2_fahrenheit(temp):\n",
    "    fahrenheit = temp * 9/5 + 32\n",
    "    return fahrenheit"
   ]
  },
  {
   "cell_type": "code",
   "execution_count": 4,
   "metadata": {},
   "outputs": [],
   "source": [
    "# here is a variant without the variable \"fahrenheit\"\n",
    "def celsius_2_fahrenheit_variant(temp):\n",
    "    return (temp * 9/5) + 32"
   ]
  },
  {
   "cell_type": "markdown",
   "metadata": {},
   "source": [
    "After that, you can use ```celsius_2_fahrenheit``` like any built-in function:"
   ]
  },
  {
   "cell_type": "code",
   "execution_count": 5,
   "metadata": {},
   "outputs": [
    {
     "data": {
      "text/plain": [
       "50.0"
      ]
     },
     "execution_count": 5,
     "metadata": {},
     "output_type": "execute_result"
    }
   ],
   "source": [
    "celsius_2_fahrenheit(10)"
   ]
  },
  {
   "cell_type": "markdown",
   "metadata": {},
   "source": [
    "# Input and output\n",
    "\n",
    "A function has an input and an output. You know that from a builtin function like ```len()```: It takes as input an object, for example a list. You put the input between the parentheses. And it returns an output, the length of the object. You can, for example, store that output in a variable:"
   ]
  },
  {
   "cell_type": "code",
   "execution_count": 6,
   "metadata": {},
   "outputs": [
    {
     "name": "stdout",
     "output_type": "stream",
     "text": [
      "the output of len that I stored is 3\n"
     ]
    }
   ],
   "source": [
    "mylist = [\"a\", \"b\", \"c\"]\n",
    "somevariable = len(mylist)\n",
    "print(\"the output of len that I stored is\", somevariable)"
   ]
  },
  {
   "cell_type": "markdown",
   "metadata": {},
   "source": [
    "The same is true for functions that you define yourself. You define the inputs in parentheses after the function name. The function name is ```celsius_2_fahrenheit```, and in parentheses after that you see ```(temp)```. What is ```temp```? It is just a variable name. When you call a pre-defined function, you give it an actual input value. When you define your own function, you just prepare a container, a variable name, that will store the input. In this case, that container is ```temp```.\n",
    "\n",
    "The output of the function is what you see after the keyword ```return```: It is the value currently stored in ```fahrenheit```.\n",
    "\n",
    "So when we call our self-defined function with a different input, for example 100 (that is, 100 degrees celsius), the output that we get is 212:"
   ]
  },
  {
   "cell_type": "code",
   "execution_count": 7,
   "metadata": {},
   "outputs": [
    {
     "data": {
      "text/plain": [
       "212.0"
      ]
     },
     "execution_count": 7,
     "metadata": {},
     "output_type": "execute_result"
    }
   ],
   "source": [
    "celsius_2_fahrenheit(100)"
   ]
  },
  {
   "cell_type": "markdown",
   "metadata": {},
   "source": [
    "The variable ```temp``` in the function definition is used in much the same way as in function definitions in mathematics:\n",
    "\n",
    "f(x) = x+1\n",
    "\n",
    "There, you don't have to specify beforehand what x is. Rather, for each x, the function value is f(x) = x+1. In the same way, when you call your function saying celsius_2_fahrenheit(20), then at this time, Python stores the value 20 in the variable ```temp``` and executes the code of the function with ```temp``` set to 20.\n"
   ]
  },
  {
   "cell_type": "markdown",
   "metadata": {},
   "source": [
    "# The components of a function definition\n",
    "\n",
    "Let's take a look at all the bits and pieces of this function definition:"
   ]
  },
  {
   "cell_type": "code",
   "execution_count": 8,
   "metadata": {},
   "outputs": [],
   "source": [
    "def celsius_2_fahrenheit(temp):\n",
    "    fahrenheit = temp * 9/5 + 32\n",
    "    return fahrenheit"
   ]
  },
  {
   "cell_type": "markdown",
   "metadata": {},
   "source": [
    "* ```def``` is a reserved word. It tells Python that you are defining a function.\n",
    "\n",
    "* The name of the function is ```celsius_2_fahrenheit```. This is a variable that you define, just this time it is a container that contains Python code, not a number or a string. The names of functions are subject to the same restrictions as other Python variable names.\n",
    "\n",
    "* After the name of the function, you see the input to the function, also called its argument, in round brackets. This is a variable name: the container that we have prepared to take the actual input when the function is called.\n",
    "\n",
    "* After the argument there is a colon. \n",
    "* Then come some indented lines, which define what the function does."
   ]
  },
  {
   "cell_type": "code",
   "execution_count": 9,
   "metadata": {},
   "outputs": [
    {
     "name": "stdout",
     "output_type": "stream",
     "text": [
      "a\n",
      "bc\n"
     ]
    }
   ],
   "source": [
    "# compare to:\n",
    "for i in [\"a\", \"b\" \"c\"]:\n",
    "    print(i)\n",
    "    "
   ]
  },
  {
   "cell_type": "markdown",
   "metadata": {},
   "source": [
    "So we have an overall shape of \n",
    "\n",
    "```keyword something:\n",
    "    indented code```\n",
    "    \n",
    "which is the same as, for example, in for-loops and in if-conditions."
   ]
  },
  {
   "cell_type": "markdown",
   "metadata": {},
   "source": [
    "**Try it for yourself:**\n",
    "\n",
    "* Define a function that converts degrees Fahrenheit to degrees Celsius (for the  benefit of Europeans like me). \n",
    "\n",
    "* Define a function that takes a string as input, then strips all punctuation symbols from the beginning and end and lowercases. For example, when the input is \"Hello!\" the output should be \"hello\", and when the input is \"???WHAT???\", the output should be \"what\". "
   ]
  },
  {
   "cell_type": "code",
   "execution_count": 35,
   "metadata": {},
   "outputs": [
    {
     "name": "stdout",
     "output_type": "stream",
     "text": [
      "10.0\n",
      "what\n"
     ]
    }
   ],
   "source": [
    "from string import punctuation as punc\n",
    "\n",
    "def fahrenheit_to_celsius(temp):\n",
    "    return((temp - 32) * 5/9)\n",
    "\n",
    "def strip_string(string):\n",
    "    return string.strip(punc).lower()\n",
    "\n",
    "print(fahrenheit_to_celsius(50))\n",
    "print(strip_string(\"???WHAT???\"))"
   ]
  },
  {
   "cell_type": "markdown",
   "metadata": {},
   "source": [
    "## Returning lists\n",
    "\n",
    "The output, what you write after the keyword ```return```, can be a single value: a number, as in the Celsius-to-Fahrenheit example, or a string, as in the stripping-punctuation-and-lowercasing example. The output of a function can also be a list. Here is a function that takes a string as input, tokenizes it, lowercases, and removes punctuation:"
   ]
  },
  {
   "cell_type": "code",
   "execution_count": 10,
   "metadata": {},
   "outputs": [
    {
     "data": {
      "text/plain": [
       "['what', 'a', 'lovely', 'day']"
      ]
     },
     "execution_count": 10,
     "metadata": {},
     "output_type": "execute_result"
    }
   ],
   "source": [
    "import nltk\n",
    "import string\n",
    "\n",
    "def my_preprocess(inputstring):\n",
    "    words = nltk.word_tokenize(inputstring)\n",
    "    newwords = [w.lower() for w in words if w.strip(string.punctuation) != \"\"]\n",
    "    return newwords\n",
    "\n",
    "my_preprocess(\"What a lovely day!!\")"
   ]
  },
  {
   "cell_type": "markdown",
   "metadata": {},
   "source": [
    "**Try it for yourself:**\n",
    "\n",
    "* Define a function that takes as input a string, splits it on whitespace, removes every word that starts with \"http\", and returns the remaining list of words. So if the input is ```\"Go to https:\\\\abc.def.gh\"```, the output should be ```[\"Go\", \"to\"]```\n",
    "\n",
    "* Define a function that takes as input a string of numbers separated by whitespace, for example ```\"123 3.4  67.9\"```. It should return a list with the numbers that were in the string, in our case ```[123, 3.4, 67.9]```."
   ]
  },
  {
   "cell_type": "code",
   "execution_count": 45,
   "metadata": {},
   "outputs": [
    {
     "data": {
      "text/plain": [
       "['123', '3.4', '67.9']"
      ]
     },
     "execution_count": 45,
     "metadata": {},
     "output_type": "execute_result"
    }
   ],
   "source": [
    "import re\n",
    "\n",
    "def weird_function(string):\n",
    "    lst1 = string.split()\n",
    "    \n",
    "    for word in lst1:\n",
    "        if re.search(r\"^https\", word):\n",
    "            lst1.remove(word)\n",
    "    \n",
    "    return lst1\n",
    "\n",
    "weird_function(\"123 3.4  67.9\")"
   ]
  },
  {
   "cell_type": "markdown",
   "metadata": {},
   "source": [
    "# Functions with multiple arguments\n",
    "\n",
    "A function can have more than one piece of input. Here is an example. This function repeats a string a given number of times:"
   ]
  },
  {
   "cell_type": "code",
   "execution_count": 11,
   "metadata": {},
   "outputs": [
    {
     "data": {
      "text/plain": [
       "'hellohellohellohellohello'"
      ]
     },
     "execution_count": 11,
     "metadata": {},
     "output_type": "execute_result"
    }
   ],
   "source": [
    "def repeat_string(somestring, numtimes):\n",
    "    return somestring * numtimes\n",
    "\n",
    "repeat_string(\"hello\", 5)"
   ]
  }
 ],
 "metadata": {
  "kernelspec": {
   "display_name": "Python 3.10.6 64-bit",
   "language": "python",
   "name": "python3"
  },
  "language_info": {
   "codemirror_mode": {
    "name": "ipython",
    "version": 3
   },
   "file_extension": ".py",
   "mimetype": "text/x-python",
   "name": "python",
   "nbconvert_exporter": "python",
   "pygments_lexer": "ipython3",
   "version": "3.10.6"
  },
  "vscode": {
   "interpreter": {
    "hash": "aee8b7b246df8f9039afb4144a1f6fd8d2ca17a180786b69acc140d282b71a49"
   }
  }
 },
 "nbformat": 4,
 "nbformat_minor": 2
}
