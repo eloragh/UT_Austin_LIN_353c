{
 "cells": [
  {
   "cell_type": "markdown",
   "metadata": {},
   "source": [
    "# Counting words in a text\n",
    " \n",
    "Suppose we wanted to count how often each word occurs in the English Wikipedia page for Monty Python. Then a natural language description of the algorithm (the method) could look approximately like this:\n",
    "\n",
    "* Split the text into words.\n",
    "* Start a sheet of counts.\n",
    "* Start at the first word, and for each word, do the following:\n",
    "  * If the word is already on the counts sheet, add a dash next to it.\n",
    "  * If the word is not on the counts sheet, put it there, and put a single dash next to it.\n",
    "\n",
    "This algorithm uses:\n",
    "\n",
    "* Different data types:\n",
    "  strings (words), integers (counts), a list of words (the text, after splitting), and a mapping from words to counts, a data type that in Python is called a \"dictionary\"\n",
    "* Operations on numbers, in this case, adding\n",
    "* Operations on strings, in this case, splitting a text into words and comparing a word to others on the sheet\n",
    "* Conditions: \"If the word is already on the counts sheet...\"\n",
    "* Repetition: \"for each word, do the following\"\n",
    "\n",
    "Although this is a very simple algorithm, it uses almost all the most important data types and types of commands in programming languages like Python. This worksheet introduces three of them:\n",
    "\n",
    "* Conditions (\"if the word is already on the counts sheet...\")\n",
    "* Lists (for example, lists of words), and\n",
    "* Loops (\"for each word, do the following\").\n",
    "\n",
    "## Boolean expressions\n",
    "\n",
    "Boolean expressions are expressions whose value is either True or False. They play an important role in conditions. You have already encountered some of them when we were discussing strings: ```in```, ```startswith```, and ```endswith```. Here they are again: "
   ]
  },
  {
   "cell_type": "code",
   "execution_count": 1,
   "metadata": {},
   "outputs": [
    {
     "data": {
      "text/plain": [
       "True"
      ]
     },
     "execution_count": 1,
     "metadata": {},
     "output_type": "execute_result"
    }
   ],
   "source": [
    "\"eros\" in \"rhinoceros\""
   ]
  },
  {
   "cell_type": "code",
   "execution_count": 2,
   "metadata": {},
   "outputs": [
    {
     "data": {
      "text/plain": [
       "False"
      ]
     },
     "execution_count": 2,
     "metadata": {},
     "output_type": "execute_result"
    }
   ],
   "source": [
    "\"nose\" in \"rhinoceros\""
   ]
  },
  {
   "cell_type": "code",
   "execution_count": 3,
   "metadata": {},
   "outputs": [
    {
     "data": {
      "text/plain": [
       "True"
      ]
     },
     "execution_count": 3,
     "metadata": {},
     "output_type": "execute_result"
    }
   ],
   "source": [
    "\"truism\".endswith(\"ism\")"
   ]
  },
  {
   "cell_type": "code",
   "execution_count": 4,
   "metadata": {},
   "outputs": [
    {
     "data": {
      "text/plain": [
       "False"
      ]
     },
     "execution_count": 4,
     "metadata": {},
     "output_type": "execute_result"
    }
   ],
   "source": [
    "\"inconsequential\".startswith(\"pro\")"
   ]
  },
  {
   "cell_type": "markdown",
   "metadata": {},
   "source": [
    "Here are some Boolean expressions that compare numbers:"
   ]
  },
  {
   "cell_type": "code",
   "execution_count": 5,
   "metadata": {},
   "outputs": [
    {
     "data": {
      "text/plain": [
       "True"
      ]
     },
     "execution_count": 5,
     "metadata": {},
     "output_type": "execute_result"
    }
   ],
   "source": [
    "3.1 >= 2.9"
   ]
  },
  {
   "cell_type": "code",
   "execution_count": 6,
   "metadata": {},
   "outputs": [
    {
     "data": {
      "text/plain": [
       "False"
      ]
     },
     "execution_count": 6,
     "metadata": {},
     "output_type": "execute_result"
    }
   ],
   "source": [
    "3.1 < 2.9"
   ]
  },
  {
   "cell_type": "code",
   "execution_count": 7,
   "metadata": {},
   "outputs": [
    {
     "data": {
      "text/plain": [
       "True"
      ]
     },
     "execution_count": 7,
     "metadata": {},
     "output_type": "execute_result"
    }
   ],
   "source": [
    "3.2 - 0.1 == 3.1"
   ]
  },
  {
   "cell_type": "code",
   "execution_count": 8,
   "metadata": {},
   "outputs": [
    {
     "data": {
      "text/plain": [
       "True"
      ]
     },
     "execution_count": 8,
     "metadata": {},
     "output_type": "execute_result"
    }
   ],
   "source": [
    "3.2 != 3.1 "
   ]
  },
  {
   "cell_type": "markdown",
   "metadata": {},
   "source": [
    "We can compare expressions that yield a number using <, >, <=, and >=. \"Equals\" is expressed using ==, and \"does not equal\" is \"!=\". Note that it's \"==\" if we want to do a comparison. \"=\" assigns a value.\n",
    "\n",
    "The same operators work for strings as well. Try them out. What do you think they do?"
   ]
  },
  {
   "cell_type": "code",
   "execution_count": 9,
   "metadata": {},
   "outputs": [
    {
     "data": {
      "text/plain": [
       "True"
      ]
     },
     "execution_count": 9,
     "metadata": {},
     "output_type": "execute_result"
    }
   ],
   "source": [
    "\"rhinoceros\" != \"rhino\""
   ]
  },
  {
   "cell_type": "code",
   "execution_count": 10,
   "metadata": {},
   "outputs": [
    {
     "data": {
      "text/plain": [
       "False"
      ]
     },
     "execution_count": 10,
     "metadata": {},
     "output_type": "execute_result"
    }
   ],
   "source": [
    "\"rhinoceros\" == \"rhino\""
   ]
  },
  {
   "cell_type": "code",
   "execution_count": 11,
   "metadata": {},
   "outputs": [
    {
     "data": {
      "text/plain": [
       "True"
      ]
     },
     "execution_count": 11,
     "metadata": {},
     "output_type": "execute_result"
    }
   ],
   "source": [
    "#uses alphabetical order to decide what is greater or larger\n",
    "\n",
    "\"armadillo\" < \"rhinoceros\""
   ]
  },
  {
   "cell_type": "code",
   "execution_count": 12,
   "metadata": {},
   "outputs": [
    {
     "data": {
      "text/plain": [
       "False"
      ]
     },
     "execution_count": 12,
     "metadata": {},
     "output_type": "execute_result"
    }
   ],
   "source": [
    "#e comes before m so it is considered smaller\n",
    "#making this false\n",
    "\n",
    "\"elephant\" > \"mouse\""
   ]
  },
  {
   "cell_type": "markdown",
   "metadata": {},
   "source": [
    "The operators < and >, when used on strings, test for alphabetic, or rather lexicographic, order: \"elephant\" is before \"mouse\" in the lexicon. \n",
    "\n",
    "Check what lowercase and uppercase letters do: how will they be ordered? Test, for example, the order of \"elephant\" and \"Elephant\", of \"ant\" and \"Zebra\", of \"Ant\" and \"zebra\":"
   ]
  },
  {
   "cell_type": "code",
   "execution_count": 13,
   "metadata": {},
   "outputs": [
    {
     "data": {
      "text/plain": [
       "True"
      ]
     },
     "execution_count": 13,
     "metadata": {},
     "output_type": "execute_result"
    }
   ],
   "source": [
    "\"Zebra\" < \"ant\""
   ]
  },
  {
   "cell_type": "markdown",
   "metadata": {},
   "source": [
    "The type of such expressions is 'bool'. Remember, the function ```type()``` gives you the type of any Python expression:"
   ]
  },
  {
   "cell_type": "code",
   "execution_count": 14,
   "metadata": {},
   "outputs": [
    {
     "data": {
      "text/plain": [
       "bool"
      ]
     },
     "execution_count": 14,
     "metadata": {},
     "output_type": "execute_result"
    }
   ],
   "source": [
    "type(\"elephant\" > \"mouse\")"
   ]
  },
  {
   "cell_type": "markdown",
   "metadata": {},
   "source": [
    "**Try it for yourself:**\n",
    "Make Boolean expressions for the following, and see if they are true:\n",
    "* ```6 * 7``` is the same as 42\n",
    "* ```\"ant\"``` is before ```\"armadillo\"``` in the dictionary\n",
    "* ```\"ant\"``` is before ```\"Ant\"``` in the dictionary\n",
    "* ```\"123\"``` as a string is after ```\"Zebra\"``` in the dictionary"
   ]
  },
  {
   "cell_type": "code",
   "execution_count": 15,
   "metadata": {},
   "outputs": [
    {
     "name": "stdout",
     "output_type": "stream",
     "text": [
      "True\n",
      "True\n",
      "False\n",
      "False\n"
     ]
    }
   ],
   "source": [
    "# box for code\n",
    "print(6*7 == 42)\n",
    "print(\"ant\" < \"armadillo\")\n",
    "print(\"ant\" < \"Ant\")\n",
    "print(\"123\" > \"Zebra\")"
   ]
  },
  {
   "cell_type": "markdown",
   "metadata": {},
   "source": [
    "## Conditions\n",
    "\n",
    "In natural language, you express conditions using \"if\": \"If this word is not yet on our count sheet, put it there\". In Python, it is very similar:"
   ]
  },
  {
   "cell_type": "code",
   "execution_count": 16,
   "metadata": {},
   "outputs": [
    {
     "name": "stdout",
     "output_type": "stream",
     "text": [
      "yes, found it\n"
     ]
    }
   ],
   "source": [
    "if \"mad\" in \"armadillo\":\n",
    "    print(\"yes, found it\")"
   ]
  },
  {
   "cell_type": "markdown",
   "metadata": {},
   "source": [
    "As you can see, the `print(\"yes, found it\")` code was executed, you can see the result. If the Boolean expression inside the condition is False, then the indented code is not executed, like here:"
   ]
  },
  {
   "cell_type": "code",
   "execution_count": 17,
   "metadata": {},
   "outputs": [],
   "source": [
    "if \"crazy\" in \"armadillo\":\n",
    "    print(\"Can anyone hear me?\")"
   ]
  },
  {
   "cell_type": "markdown",
   "metadata": {},
   "source": [
    "As you can see, there is no output of \"Can anyone hear me?\". \n",
    "\n",
    "The formatting here is quite important to look at closely. We have:\n",
    "\n",
    "* \"if\"\n",
    "* then a Boolean expression\n",
    "* then a colon\n",
    "* then a linebreak\n",
    "* then, indented, what to do if the Boolean expression is True.\n",
    "\n",
    "Or, to put it another way:\n",
    "\n",
    "```if <Boolean>:\n",
    "    block```\n",
    "\n",
    "You will see the same notation again in other contexts.  \n",
    "\n",
    "The \"block\" can contain more than a single line, like here:"
   ]
  },
  {
   "cell_type": "code",
   "execution_count": 18,
   "metadata": {},
   "outputs": [
    {
     "name": "stdout",
     "output_type": "stream",
     "text": [
      "yes, found it\n",
      "position of the 'm': 2\n"
     ]
    }
   ],
   "source": [
    "if \"mad\" in \"armadillo\":\n",
    "    print(\"yes, found it\")\n",
    "    print(\"position of the 'm':\", \"armadillo\".index(\"m\"))"
   ]
  },
  {
   "cell_type": "markdown",
   "metadata": {},
   "source": [
    "The important point here is: There are *two* lines that should only be executed if the Boolean is True, both of them print-statements. Python groups them together, makes them into a *block*, by having the same level of indentation on the left: one tab-stop. \n",
    "\n",
    "Here is another example with a \"block\" of 2 statements that are only executed if the Boolean is True, followed by a line that is \"unindented\", and hence outside the block. So that last line is executed, no matter if the Boolean is true or not: It does not belong with the if-block."
   ]
  },
  {
   "cell_type": "code",
   "execution_count": 19,
   "metadata": {},
   "outputs": [
    {
     "name": "stdout",
     "output_type": "stream",
     "text": [
      "I am outside the indented block.\n"
     ]
    }
   ],
   "source": [
    "if \"crazy\" in \"armadillo\":\n",
    "    print(\"can anyone hear me?\")\n",
    "    print(\"and now?\")\n",
    "print(\"I am outside the indented block.\")"
   ]
  },
  {
   "cell_type": "markdown",
   "metadata": {},
   "source": [
    "As you can see, the statements in the if-block are not executed, because the Boolean is False, but as soon as we reach the unindented code, that does not depend on the \"if\" anymore. \n",
    "\n",
    "Python is quite particular about its whitespace on the left-hand side. The lines that together make a block all have to be indented exactly the same number of whitespaces. For example, un-comment the following piece of code (that is, remove the hash marks) to get an \"IndentationError\". This error happens because the second print-statement is indented one more space than the first print-statement. "
   ]
  },
  {
   "cell_type": "code",
   "execution_count": 20,
   "metadata": {},
   "outputs": [],
   "source": [
    "# if 3 < 4:\n",
    "#    print(\"this line is fine\")\n",
    "#     print(\"this is going to get us a nice error message\")"
   ]
  },
  {
   "cell_type": "markdown",
   "metadata": {},
   "source": [
    "Sometimes we have two different things that we want to do, depending on whether a Boolean expression is True or False. For example, say we want to guess at a word's part of speech (\"POS\") based on its suffix. If the words ends in \"able\", we'll print \"adjective\", otherwise we will just blindly guess \"noun\". Here is how to say this in Python. "
   ]
  },
  {
   "cell_type": "code",
   "execution_count": 21,
   "metadata": {},
   "outputs": [
    {
     "name": "stdout",
     "output_type": "stream",
     "text": [
      "adjective\n"
     ]
    }
   ],
   "source": [
    "word = \"lovable\" # or try: word = \"table\"\n",
    "if word.endswith(\"able\"):\n",
    "    print(\"adjective\")\n",
    "else:\n",
    "    print(\"noun\")"
   ]
  },
  {
   "cell_type": "markdown",
   "metadata": {},
   "source": [
    "That is, we can use \"if\"... \"else\" to tell Python two different pieces of code to execute, based on whether a Boolean is true or false. The general shape of if...else... commands is\n",
    "\n",
    "```\n",
    "if <Boolean>:\n",
    "    block\n",
    "else:\n",
    "    block```\n",
    "    \n",
    "So we start un-indented for the \"if\", then comes an indented block, then we un-indent for the \"else\", then there is another indented block. Watch the indentation levels! Python is very particular about them.\n",
    "\n",
    "If you want to use more than two cases, the command is ```if... elif... elif... else...``` \n",
    "\n",
    "Here is how to extend the part-of-speech guessing code a bit: We now guess \"noun\" for words ending in \"ion\" or \"ism\", \"verb\" for words ending in \"ed\", \"adjective\" if a word ends in \"able\", and if we have no better idea, we will just guess \"noun\"."
   ]
  },
  {
   "cell_type": "code",
   "execution_count": 22,
   "metadata": {},
   "outputs": [
    {
     "data": {
      "text/plain": [
       "'N'"
      ]
     },
     "execution_count": 22,
     "metadata": {},
     "output_type": "execute_result"
    }
   ],
   "source": [
    "word = \"schism\" # also try: \"wasted\", \"red\", \"undeniable\", \"table\"\n",
    "# Can you come up with other words that would make this code \n",
    "# produce the right result,\n",
    "# or a wrong result?\n",
    "\n",
    "if word.endswith(\"ion\"):\n",
    "    pos = \"N\"\n",
    "elif word.endswith(\"ism\"):\n",
    "    pos = \"N\"\n",
    "elif word.endswith(\"ed\"):\n",
    "    pos = \"V\"\n",
    "elif word.endswith(\"able\"):\n",
    "    pos = \"A\"\n",
    "else: \n",
    "    pos = \"N\"\n",
    "    \n",
    "pos"
   ]
  },
  {
   "cell_type": "markdown",
   "metadata": {},
   "source": [
    "**Try it for yourself**:\n",
    "\n",
    "* Write code that compares two numbers, stored in variables ```numval1``` and ```numval2```, and stores the greater of the two in the variable ```greaterval```. Use \"if\" to do this.\n",
    "* Write code that tries to identify nouns: It should inspect a variable ```word``` that contains a string. If that string starts with an uppercase letter, or if it ends in \"ity\" or \"hood\", it should print \"This is a noun\", otherwise \"This is not a noun\". "
   ]
  },
  {
   "cell_type": "code",
   "execution_count": 23,
   "metadata": {},
   "outputs": [
    {
     "name": "stdout",
     "output_type": "stream",
     "text": [
      "15\n"
     ]
    }
   ],
   "source": [
    "numval1 = 10\n",
    "\n",
    "numval2 = 15\n",
    "\n",
    "greaterval = 0\n",
    "\n",
    "if numval1 > numval2:\n",
    "    greaterval = numval1\n",
    "else:\n",
    "    greaterval = numval2\n",
    "\n",
    "print(greaterval)"
   ]
  },
  {
   "cell_type": "code",
   "execution_count": 24,
   "metadata": {},
   "outputs": [
    {
     "name": "stdout",
     "output_type": "stream",
     "text": [
      "This is a noun\n"
     ]
    }
   ],
   "source": [
    "word = \"Linguistics\"\n",
    "\n",
    "if (65 <= ord(word[0]) <= 90) or word.endswith(\"ity\") or word.endswith(\"hood\"):\n",
    "    print(\"This is a noun\")\n",
    "else:\n",
    "    print(\"This is not a noun\")"
   ]
  },
  {
   "cell_type": "markdown",
   "metadata": {},
   "source": [
    "### And, or, not\n",
    "Sometimes you need to combine multiple Boolean expression.  For example, in the part of speech tagging code above, we have two conditions where we set the part of speech to be \"N\" for noun. We can combine them by saying that if we find an ending of \"ion\" *or* \"ism\", we want to call it a noun:"
   ]
  },
  {
   "cell_type": "code",
   "execution_count": 25,
   "metadata": {},
   "outputs": [
    {
     "data": {
      "text/plain": [
       "'N'"
      ]
     },
     "execution_count": 25,
     "metadata": {},
     "output_type": "execute_result"
    }
   ],
   "source": [
    "word = \"schism\" \n",
    "\n",
    "if word.endswith(\"ion\") or word.endswith(\"ism\"):\n",
    "    pos = \"N\"\n",
    "elif word.endswith(\"ed\"):\n",
    "    pos = \"V\"\n",
    "elif word.endswith(\"able\"):\n",
    "    pos = \"A\"\n",
    "else: \n",
    "    pos = \"N\"\n",
    "    \n",
    "pos"
   ]
  },
  {
   "cell_type": "markdown",
   "metadata": {},
   "source": [
    "This was an example of \"or\".  There is also \"and\": For example, suppose you wanted to define medium-length words as words with at least 4 *and* at most 10 letters. Here is some code that says \"medium-length\" for medium-length words, and \"not medium length\" for others:"
   ]
  },
  {
   "cell_type": "code",
   "execution_count": 26,
   "metadata": {},
   "outputs": [
    {
     "name": "stdout",
     "output_type": "stream",
     "text": [
      "not medium-length\n"
     ]
    }
   ],
   "source": [
    "word = \"antidisestablishmentarianism\" # also try: \"Python\", \"to\"\n",
    "\n",
    "#word = \"Python\"\n",
    "\n",
    "if len(word) >= 4 and len(word) <= 10:\n",
    "    print(\"medium-length\")\n",
    "else:\n",
    "    print(\"not medium-length\")\n",
    "    "
   ]
  },
  {
   "cell_type": "markdown",
   "metadata": {},
   "source": [
    "The central point in the code above is: ```if len(word) >= 4 and len(word) <= 10```\n",
    "\n",
    "This combines two Boolean expressions. In general,     \n",
    "```<expression1> or <expression2>``` is true if at least one of expression1 and expression2 are true. ```<expression1> and <expression2>``` is true if both expressions are true. \n",
    "\n",
    "The reserved word \"not\" flips the value of a Boolean expression:"
   ]
  },
  {
   "cell_type": "code",
   "execution_count": 27,
   "metadata": {},
   "outputs": [
    {
     "data": {
      "text/plain": [
       "False"
      ]
     },
     "execution_count": 27,
     "metadata": {},
     "output_type": "execute_result"
    }
   ],
   "source": [
    "\"apple\" == \"orange\""
   ]
  },
  {
   "cell_type": "code",
   "execution_count": 28,
   "metadata": {},
   "outputs": [
    {
     "data": {
      "text/plain": [
       "True"
      ]
     },
     "execution_count": 28,
     "metadata": {},
     "output_type": "execute_result"
    }
   ],
   "source": [
    "not(\"apple\" == \"orange\")"
   ]
  },
  {
   "cell_type": "markdown",
   "metadata": {},
   "source": [
    "**Try it for yourself:** Write another version of the function that filters out function words. Instead of using ```if...elif..elif..else```, use a single \"if\" condition, but combine Boolean expressions using \"and\" or \"or\"."
   ]
  },
  {
   "cell_type": "code",
   "execution_count": null,
   "metadata": {},
   "outputs": [],
   "source": []
  },
  {
   "cell_type": "markdown",
   "metadata": {},
   "source": [
    "# Lists\n",
    "\n",
    "A list is a sequence of items, like a shopping list. In Python, you write them with straight brackets around them, and with commas between items:"
   ]
  },
  {
   "cell_type": "code",
   "execution_count": 29,
   "metadata": {},
   "outputs": [],
   "source": [
    "shopping_list = [\"eggs\", \"milk\", \"broccoli\"]"
   ]
  },
  {
   "cell_type": "markdown",
   "metadata": {},
   "source": [
    "A list has a length:"
   ]
  },
  {
   "cell_type": "code",
   "execution_count": 30,
   "metadata": {},
   "outputs": [
    {
     "data": {
      "text/plain": [
       "3"
      ]
     },
     "execution_count": 30,
     "metadata": {},
     "output_type": "execute_result"
    }
   ],
   "source": [
    "len(shopping_list)"
   ]
  },
  {
   "cell_type": "markdown",
   "metadata": {},
   "source": [
    "A list consists of a sequence of items, each of which has an index. We can access list members by their index, in a similar way to strings:"
   ]
  },
  {
   "cell_type": "code",
   "execution_count": 31,
   "metadata": {},
   "outputs": [
    {
     "data": {
      "text/plain": [
       "'eggs'"
      ]
     },
     "execution_count": 31,
     "metadata": {},
     "output_type": "execute_result"
    }
   ],
   "source": [
    "shopping_list[0]"
   ]
  },
  {
   "cell_type": "code",
   "execution_count": 32,
   "metadata": {},
   "outputs": [
    {
     "data": {
      "text/plain": [
       "'broccoli'"
      ]
     },
     "execution_count": 32,
     "metadata": {},
     "output_type": "execute_result"
    }
   ],
   "source": [
    "shopping_list[2]"
   ]
  },
  {
   "cell_type": "code",
   "execution_count": 33,
   "metadata": {},
   "outputs": [],
   "source": [
    "# shopping_list[10]"
   ]
  },
  {
   "cell_type": "markdown",
   "metadata": {},
   "source": [
    "\n",
    "## Lists and strings\n",
    "\n",
    "In fact, lists and strings have many operations in common. \n",
    "\n",
    "### Indices and slices\n",
    "\n",
    "You have seen above that you can use indices on lists. You can also use slices:"
   ]
  },
  {
   "cell_type": "code",
   "execution_count": 34,
   "metadata": {},
   "outputs": [
    {
     "data": {
      "text/plain": [
       "['acarus', 'caucus']"
      ]
     },
     "execution_count": 34,
     "metadata": {},
     "output_type": "execute_result"
    }
   ],
   "source": [
    "mylist = [\"acrimonious\", \"acarus\", \"caucus\"]\n",
    "mylist[1:3]"
   ]
  },
  {
   "cell_type": "code",
   "execution_count": 35,
   "metadata": {},
   "outputs": [
    {
     "data": {
      "text/plain": [
       "['acarus']"
      ]
     },
     "execution_count": 35,
     "metadata": {},
     "output_type": "execute_result"
    }
   ],
   "source": [
    "mylist[1:2]"
   ]
  },
  {
   "cell_type": "code",
   "execution_count": 36,
   "metadata": {},
   "outputs": [
    {
     "data": {
      "text/plain": [
       "['caucus']"
      ]
     },
     "execution_count": 36,
     "metadata": {},
     "output_type": "execute_result"
    }
   ],
   "source": [
    "mylist[2:]"
   ]
  },
  {
   "cell_type": "code",
   "execution_count": 37,
   "metadata": {},
   "outputs": [
    {
     "data": {
      "text/plain": [
       "'acrimonious'"
      ]
     },
     "execution_count": 37,
     "metadata": {},
     "output_type": "execute_result"
    }
   ],
   "source": [
    "mylist[0]"
   ]
  },
  {
   "cell_type": "code",
   "execution_count": 38,
   "metadata": {},
   "outputs": [
    {
     "data": {
      "text/plain": [
       "['acrimonious']"
      ]
     },
     "execution_count": 38,
     "metadata": {},
     "output_type": "execute_result"
    }
   ],
   "source": [
    "mylist[0:1]"
   ]
  },
  {
   "cell_type": "code",
   "execution_count": 39,
   "metadata": {},
   "outputs": [
    {
     "data": {
      "text/plain": [
       "'caucus'"
      ]
     },
     "execution_count": 39,
     "metadata": {},
     "output_type": "execute_result"
    }
   ],
   "source": [
    "mylist[-1]"
   ]
  },
  {
   "cell_type": "code",
   "execution_count": 40,
   "metadata": {},
   "outputs": [
    {
     "data": {
      "text/plain": [
       "['acarus', 'caucus']"
      ]
     },
     "execution_count": 40,
     "metadata": {},
     "output_type": "execute_result"
    }
   ],
   "source": [
    "mylist[-2:]"
   ]
  },
  {
   "cell_type": "markdown",
   "metadata": {},
   "source": [
    "**Try it for yourself:**\n",
    "Assume that\n",
    "```ismlist = [\"absurdism\", \"antiferromagnetism\", \"bipedalism\", \"bimetallism\"]```\n",
    "\n",
    "Can you access just the word \"bipedalism\" by using an index on mylist? Can you access just the sublist \n",
    "```[\"absurdism\", \"antiferromagnetism\"]```?"
   ]
  },
  {
   "cell_type": "code",
   "execution_count": 41,
   "metadata": {},
   "outputs": [
    {
     "name": "stdout",
     "output_type": "stream",
     "text": [
      "bipedalism\n",
      "['antiferromagnetism', 'bipedalism']\n"
     ]
    }
   ],
   "source": [
    "ismlist = [\"absurdism\", \"antiferromagnetism\", \"bipedalism\", \"bimetallism\"]\n",
    "\n",
    "print(ismlist[-2])\n",
    "\n",
    "print(ismlist[1:3])\n"
   ]
  },
  {
   "cell_type": "markdown",
   "metadata": {},
   "source": [
    "### Concatenation\n",
    "Using \"+\" on strings concatenates them, for example"
   ]
  },
  {
   "cell_type": "code",
   "execution_count": 42,
   "metadata": {},
   "outputs": [
    {
     "data": {
      "text/plain": [
       "'artifact'"
      ]
     },
     "execution_count": 42,
     "metadata": {},
     "output_type": "execute_result"
    }
   ],
   "source": [
    "\"arti\" + \"fact\""
   ]
  },
  {
   "cell_type": "markdown",
   "metadata": {},
   "source": [
    "Here is what happens when you use \"+\" on lists: It also does concatenation, just list concatenation."
   ]
  },
  {
   "cell_type": "code",
   "execution_count": 43,
   "metadata": {},
   "outputs": [
    {
     "data": {
      "text/plain": [
       "['acrimonious', 'acarus', 'caucus', 'decorous', 'arborous']"
      ]
     },
     "execution_count": 43,
     "metadata": {},
     "output_type": "execute_result"
    }
   ],
   "source": [
    "longerlist = mylist + [\"decorous\", \"arborous\"]\n",
    "\n",
    "longerlist"
   ]
  },
  {
   "cell_type": "markdown",
   "metadata": {},
   "source": [
    "### Length\n",
    "```len()``` works on lists  and on strings in the same way:"
   ]
  },
  {
   "cell_type": "code",
   "execution_count": 44,
   "metadata": {},
   "outputs": [
    {
     "name": "stdout",
     "output_type": "stream",
     "text": [
      "length of the string 'abcd': 4\n",
      "length of the list [1,2,3,4,5]: 5\n"
     ]
    }
   ],
   "source": [
    "print(\"length of the string 'abcd':\", len(\"abcd\"))\n",
    "print(\"length of the list [1,2,3,4,5]:\", len([1,2,3,4,5]))"
   ]
  },
  {
   "cell_type": "markdown",
   "metadata": {},
   "source": [
    "### in\n",
    "\n",
    "You have used ```in``` to check for substrings:"
   ]
  },
  {
   "cell_type": "code",
   "execution_count": 45,
   "metadata": {},
   "outputs": [
    {
     "data": {
      "text/plain": [
       "True"
      ]
     },
     "execution_count": 45,
     "metadata": {},
     "output_type": "execute_result"
    }
   ],
   "source": [
    "\"tall\" in \"bimetallism\""
   ]
  },
  {
   "cell_type": "markdown",
   "metadata": {},
   "source": [
    "You can also use in to check for items on a list:"
   ]
  },
  {
   "cell_type": "code",
   "execution_count": 46,
   "metadata": {},
   "outputs": [
    {
     "data": {
      "text/plain": [
       "False"
      ]
     },
     "execution_count": 46,
     "metadata": {},
     "output_type": "execute_result"
    }
   ],
   "source": [
    "\"eohippus\" in mylist"
   ]
  },
  {
   "cell_type": "code",
   "execution_count": 47,
   "metadata": {},
   "outputs": [
    {
     "data": {
      "text/plain": [
       "True"
      ]
     },
     "execution_count": 47,
     "metadata": {},
     "output_type": "execute_result"
    }
   ],
   "source": [
    "\"caucus\" in mylist"
   ]
  },
  {
   "cell_type": "markdown",
   "metadata": {},
   "source": [
    "## A list method that is not a string method: append\n",
    "\n",
    "Here is a function that works on lists but not on strings: You can append another item to the end of a list using the function ```append()```."
   ]
  },
  {
   "cell_type": "code",
   "execution_count": 48,
   "metadata": {},
   "outputs": [
    {
     "data": {
      "text/plain": [
       "['acrimonious', 'acarus', 'caucus', 'nexus']"
      ]
     },
     "execution_count": 48,
     "metadata": {},
     "output_type": "execute_result"
    }
   ],
   "source": [
    "mylist.append(\"nexus\")\n",
    "mylist"
   ]
  },
  {
   "cell_type": "markdown",
   "metadata": {},
   "source": [
    "There is an important difference between concatenation with \"+\", and \"append\": When we used concatenation above, it did not change `mylist`. We captured the result of the concatenation in `longerlist`, but `mylist` stayed the same. `append()` is different: It does change `mylist`."
   ]
  },
  {
   "cell_type": "markdown",
   "metadata": {},
   "source": [
    "## Splitting\n",
    "\n",
    "An important string method that we have mentioned before is ```split()```. It works on strings and splits them up into a list of substrings. If given no arguments, it splits on whitespace."
   ]
  },
  {
   "cell_type": "code",
   "execution_count": 49,
   "metadata": {},
   "outputs": [
    {
     "data": {
      "text/plain": [
       "['this', 'is', 'a', 'sentence']"
      ]
     },
     "execution_count": 49,
     "metadata": {},
     "output_type": "execute_result"
    }
   ],
   "source": [
    "\"this is a sentence\".split()"
   ]
  },
  {
   "cell_type": "markdown",
   "metadata": {},
   "source": [
    "## Lists with only one item, zero items\n",
    "\n",
    "A list with only one item is a list, too:"
   ]
  },
  {
   "cell_type": "code",
   "execution_count": 50,
   "metadata": {},
   "outputs": [
    {
     "data": {
      "text/plain": [
       "1"
      ]
     },
     "execution_count": 50,
     "metadata": {},
     "output_type": "execute_result"
    }
   ],
   "source": [
    "shortlist = [\"broccoli\"]\n",
    "len(shortlist)"
   ]
  },
  {
   "cell_type": "markdown",
   "metadata": {},
   "source": [
    "The list with \"broccoli\" on it is not the same as the string \"broccoli\":"
   ]
  },
  {
   "cell_type": "code",
   "execution_count": 51,
   "metadata": {},
   "outputs": [
    {
     "data": {
      "text/plain": [
       "False"
      ]
     },
     "execution_count": 51,
     "metadata": {},
     "output_type": "execute_result"
    }
   ],
   "source": [
    "['broccoli'] =='broccoli'"
   ]
  },
  {
   "cell_type": "code",
   "execution_count": 52,
   "metadata": {},
   "outputs": [
    {
     "name": "stdout",
     "output_type": "stream",
     "text": [
      "A list is a  <class 'list'> and a string is a  <class 'str'>\n"
     ]
    }
   ],
   "source": [
    "print(\"A list is a \", type([\"broccoli\"]), \"and a string is a \", type(\"broccoli\"))"
   ]
  },
  {
   "cell_type": "markdown",
   "metadata": {},
   "source": [
    "You can even make a list with no items on it -- it will turn out to be strangely useful:"
   ]
  },
  {
   "cell_type": "code",
   "execution_count": 53,
   "metadata": {},
   "outputs": [
    {
     "data": {
      "text/plain": [
       "0"
      ]
     },
     "execution_count": 53,
     "metadata": {},
     "output_type": "execute_result"
    }
   ],
   "source": [
    "veryshortlist = [ ]\n",
    "len(veryshortlist)"
   ]
  },
  {
   "cell_type": "markdown",
   "metadata": {},
   "source": [
    "**Try it for yourself**:\n",
    "\n",
    "* Access the item \"nexus\" from `mylist` using indices. Also access the list slice that only contains the item \"nexus\". Watch out: the first time, you get a string, and the second time, a list. \n",
    "\n",
    "\n",
    "* Use Python to determine how many words there are in the following first lines of a poem by Lewis Carroll: First use `split()` to make a list, then determine the length of the list. \n",
    "\n",
    "    \"\"\"They told me you had been to her\n",
    "    \n",
    "    And mentioned me to him;\n",
    "   \n",
    "    She gave me a good character,\n",
    "    \n",
    "    But said I could not swim. \"\"\""
   ]
  },
  {
   "cell_type": "code",
   "execution_count": 54,
   "metadata": {},
   "outputs": [
    {
     "data": {
      "text/plain": [
       "'nexus'"
      ]
     },
     "execution_count": 54,
     "metadata": {},
     "output_type": "execute_result"
    }
   ],
   "source": [
    "mylist[-1]"
   ]
  },
  {
   "cell_type": "code",
   "execution_count": 72,
   "metadata": {},
   "outputs": [
    {
     "data": {
      "text/plain": [
       "25"
      ]
     },
     "execution_count": 72,
     "metadata": {},
     "output_type": "execute_result"
    }
   ],
   "source": [
    "l_carroll =  \"\"\"They told me you had been to her\n",
    "    \n",
    "    And mentioned me to him;\n",
    "   \n",
    "    She gave me a good character,\n",
    "    \n",
    "    But said I could not swim. \"\"\"\n",
    "\n",
    "lc = l_carroll.split()\n",
    "\n",
    "len(lc)\n"
   ]
  },
  {
   "cell_type": "markdown",
   "metadata": {},
   "source": [
    "# Loops\n",
    "\n",
    "Up to now, we have only accessed individual items on a list by using their indices. But one of the most natural things to do with a list is to repeat some action for each item on the list, for example: \n",
    "\n",
    "“For each word in the given list of words: print it”.\n",
    "\n",
    "Here is how to say this in Python:"
   ]
  },
  {
   "cell_type": "code",
   "execution_count": 56,
   "metadata": {},
   "outputs": [
    {
     "name": "stdout",
     "output_type": "stream",
     "text": [
      "ngram\n",
      "isogram\n",
      "cladogram\n",
      "pangram\n"
     ]
    }
   ],
   "source": [
    "my_list = [ \"ngram\", \"isogram\", \"cladogram\", \"pangram\"]\n",
    "for word in my_list:\n",
    "    print( word )"
   ]
  },
  {
   "cell_type": "markdown",
   "metadata": {},
   "source": [
    "Here is what this code does: \n",
    "First, a list is established that we want to work with.\n",
    "\n",
    "The for-loop has this form: `for`, then a new variable, then `in`, then your list name.\n",
    "\n",
    "Python fills this new variable, here `word`, for you. You never explicitly store anything in it. But Python goes through the list `my_list`. It first stores the first list entry, \"ngram\", in `word`, then executes `print(word)`. It then stores the second list entry, \"isogram\", in `word`, then executes `print(word)`. So for this particular value of `my_list`, the code above is equivalent to:"
   ]
  },
  {
   "cell_type": "code",
   "execution_count": 57,
   "metadata": {},
   "outputs": [
    {
     "name": "stdout",
     "output_type": "stream",
     "text": [
      "ngram\n",
      "isogram\n",
      "cladogram\n",
      "pangram\n"
     ]
    }
   ],
   "source": [
    "word = \"ngram\"\n",
    "print(word)\n",
    "word = \"isogram\"\n",
    "print(word)\n",
    "word = \"cladogram\"\n",
    "print(word)\n",
    "word = \"pangram\"\n",
    "print(word)"
   ]
  },
  {
   "cell_type": "markdown",
   "metadata": {},
   "source": [
    "Now let's look more closely at the shape of the for-loop-command. There are several things to note here. \n",
    "* First, the reserved word that signals repetition is \"for\".\n",
    "* Second, the overall shape of the \"for\" loop is very similar to that of a conditon: It uses a colon at the end of the line, and an indented block.\n",
    "\n",
    "```for <variable> in <something>:\n",
    "    block```\n",
    "\n",
    "* Third, “word” is a variable. You could have chosen a different variable name, of course, for example: "
   ]
  },
  {
   "cell_type": "code",
   "execution_count": 58,
   "metadata": {},
   "outputs": [
    {
     "name": "stdout",
     "output_type": "stream",
     "text": [
      "ngram\n",
      "isogram\n",
      "cladogram\n",
      "pangram\n"
     ]
    }
   ],
   "source": [
    "for abcd123 in my_list:\n",
    "    print( abcd123 )"
   ]
  },
  {
   "cell_type": "markdown",
   "metadata": {},
   "source": [
    "The variable in the loop is like the variable in a function definition: You don't need to specify its contents beforehand. In fact, whatever was in ```abcd123``` before the loop gets erased:"
   ]
  },
  {
   "cell_type": "code",
   "execution_count": 59,
   "metadata": {},
   "outputs": [
    {
     "name": "stdout",
     "output_type": "stream",
     "text": [
      "list member ngram\n",
      "list member isogram\n",
      "list member cladogram\n",
      "list member pangram\n",
      "at this point, abcd123 is pangram\n"
     ]
    }
   ],
   "source": [
    "abcd123 = \"hello\"\n",
    "for abcd123 in [\"ngram\", \"isogram\", \"cladogram\", \"pangram\"]:\n",
    "    print( \"list member\", abcd123 )\n",
    "print(\"at this point, abcd123 is\", abcd123)"
   ]
  },
  {
   "cell_type": "markdown",
   "metadata": {},
   "source": [
    "Summing up, the standard way to use a for-loop is:\n",
    "* You have a list ```somelist```, and you want to run some code for each item on the list in turn\n",
    "* Then you make a for-loop saying \n",
    "\n",
    "```for some_new_variable_name in somelist:\n",
    "    do whatever you want done to each list item, treating some_new_variable_name as containing the item in question```\n",
    "\n",
    "\n",
    "Typically you will choose as the loop variable one that you haven't used before. In the loop, Python fills it with each item on the list in turn. In the example above, it first puts \"ngram\" in abcd123. This, then, is printed within the block. Then it puts \"isogram\" into abcd123, and the block is executed with this value of abcd123. In the third execution of the loop, abcd123 is \"cladogram\", and the fourth time, it is \"pangram\". Then the list is exhausted, and the loop is done.\n",
    "\n",
    "Here is another example of a for-loop."
   ]
  },
  {
   "cell_type": "code",
   "execution_count": 60,
   "metadata": {},
   "outputs": [
    {
     "data": {
      "text/plain": [
       "80852"
      ]
     },
     "execution_count": 60,
     "metadata": {},
     "output_type": "execute_result"
    }
   ],
   "source": [
    "numberlist = [345, 52, 1034, 79421]\n",
    "mysum = 0\n",
    "for number in numberlist:\n",
    "    mysum = mysum + number\n",
    "\n",
    "mysum"
   ]
  },
  {
   "cell_type": "markdown",
   "metadata": {},
   "source": [
    "This code does the same as sum(numberlist). It illustrates a general pattern that you will see very often: \n",
    "* You initialize a counter (here: to zero), \n",
    "* then you iterate over the list, and change the counter. \n",
    "\n",
    "This is an example of a \"programming idiom\", a standard way of solving problems that you can use across a lot of tasks. Let's call this one the \"aggregate data over list\" idiom. \n",
    "\n",
    "Here is another example of this idiom. It counts the \"long words\" in a given sentence. Note that this code example puts a condition, `if len(word) >= 10`, inside a for-loop. In a for-loop, the code to be repeated needs to be indented. In a condition, the code to be executed conditionally needs to be indented. If you put the two together, you get doubly indented code."
   ]
  },
  {
   "cell_type": "code",
   "execution_count": 61,
   "metadata": {},
   "outputs": [
    {
     "data": {
      "text/plain": [
       "2"
      ]
     },
     "execution_count": 61,
     "metadata": {},
     "output_type": "execute_result"
    }
   ],
   "source": [
    "mysent = \"Reliefpfeiler is the longest German palindrome\"\n",
    "mywords = mysent.split()\n",
    "longwords = 0\n",
    "for word in mywords:\n",
    "    if len(word) >=10:\n",
    "        longwords = longwords + 1\n",
    "longwords"
   ]
  },
  {
   "cell_type": "markdown",
   "metadata": {},
   "source": [
    "\n",
    "***Try it for yourself:***\n",
    "\n",
    "* Here is a list of words:\n",
    "    \n",
    "    ```[ \"candygram\", \"preprogram\", \"picogram\"]```\n",
    "    \n",
    "    How many a's do the words on this list contain, taken together?\n",
    "    \n",
    "    For this problem, remember a string function that we used a few worksheets ago: ```\"candygram.count(\"a\")``` counts the a's in \"candygram\".\n",
    "\n",
    "* Let's use again the poem lines we used before:\n",
    "\n",
    "    \"\"\"They told me you had been to her\n",
    "    And mentioned me to him;\n",
    "    She gave me a good character,\n",
    "    But said I could not swim. \"\"\"\n",
    "\n",
    "    Can you count how often the word \"me\" occurs in this text? To solve this, first split the poem into words, then iterate over the words. If the current word is \"me\", then count it. "
   ]
  },
  {
   "cell_type": "code",
   "execution_count": 75,
   "metadata": {},
   "outputs": [
    {
     "name": "stdout",
     "output_type": "stream",
     "text": [
      "{'candygram': 2, 'preprogram': 1, 'picogram': 1}\n",
      "4\n"
     ]
    }
   ],
   "source": [
    "listOfWords = [ \"candygram\", \"preprogram\", \"picogram\"]\n",
    "\n",
    "dict = {}\n",
    "\n",
    "for word in listOfWords:\n",
    "    dict[word] = word.count(\"a\")\n",
    "\n",
    "print(dict)\n",
    "print(sum(dict.values()))"
   ]
  },
  {
   "cell_type": "code",
   "execution_count": 63,
   "metadata": {},
   "outputs": [
    {
     "data": {
      "text/plain": [
       "3"
      ]
     },
     "execution_count": 63,
     "metadata": {},
     "output_type": "execute_result"
    }
   ],
   "source": [
    "poem = \"\"\"They told me you had been to her\n",
    "    And mentioned me to him;\n",
    "    She gave me a good character,\n",
    "    But said I could not swim. \"\"\"\n",
    "\n",
    "poem_list = poem.split(\" \")\n",
    "\n",
    "poem_list.count(\"me\")"
   ]
  },
  {
   "cell_type": "markdown",
   "metadata": {},
   "source": [
    "Here is another variant of the same programming idiom. Like above, we initialize a container to be empty, then fill it while iterating over a list. Only this time the container is not a numeric value, but a list. With this variant of the idiom, we can for example collect all uppercase words from a given text. The following text is from the Wikipedia page on  Python."
   ]
  },
  {
   "cell_type": "code",
   "execution_count": 64,
   "metadata": {},
   "outputs": [
    {
     "data": {
      "text/plain": [
       "['The',\n",
       " 'Python',\n",
       " 'Guido',\n",
       " 'Rossum',\n",
       " 'Monty',\n",
       " 'Python',\n",
       " 'Additionally,',\n",
       " 'April',\n",
       " 'Day',\n",
       " 'Rossum',\n",
       " 'Larry',\n",
       " 'Wall',\n",
       " 'Python',\n",
       " 'Perl',\n",
       " '\"Parrot\"',\n",
       " 'Dead',\n",
       " 'Parrot',\n",
       " 'Sketch.',\n",
       " 'The',\n",
       " '\"Parrot\"',\n",
       " 'Perl',\n",
       " 'Python.',\n",
       " 'Also,',\n",
       " 'Jet',\n",
       " 'Propulsion',\n",
       " 'Laboratory',\n",
       " 'Python,',\n",
       " '\"Monty\".',\n",
       " 'There',\n",
       " 'Bicycle',\n",
       " 'Repair',\n",
       " 'Man']"
      ]
     },
     "execution_count": 64,
     "metadata": {},
     "output_type": "execute_result"
    }
   ],
   "source": [
    "mytext = \"\"\"The Python programming language by Guido van Rossum is named after the troupe, \n",
    "and Monty Python references are often found in sample code created for that language. \n",
    "Additionally, a 2001 April Fool's Day joke by van Rossum and Larry Wall involving the \n",
    "merger of Python with Perl was dubbed \"Parrot\" after the Dead Parrot Sketch. \n",
    "The name \"Parrot\" was later used for a project to develop a virtual machine for running \n",
    "bytecode for interpreted languages such as Perl and Python. \n",
    "Also, the Jet Propulsion Laboratory wrote some spacecraft navigation software in Python, \n",
    "which they dubbed \"Monty\". There is also a python refactoring tool called \n",
    "bicyclerepair ( [1] ), named after Bicycle Repair Man sketch.\"\"\"\n",
    "\n",
    "words = mytext.split()\n",
    "\n",
    "uppercase_words = [ ]\n",
    "for word in words:\n",
    "    if word.istitle():\n",
    "        uppercase_words.append(word)\n",
    "\n",
    "uppercase_words"
   ]
  },
  {
   "cell_type": "markdown",
   "metadata": {},
   "source": [
    "This code first splits the text into words. It then initializes a list uppercase_words, in which we want to collect results. Initially, that list is zero. We then iterate through all words of our text and check if they start with an uppercase letter, that is, if word[0] is a string consisting entirely of uppercase letters (see http://docs.python.org/3/library/stdtypes.html#sequence-types-str-unicode-list-tuple-bytearray-buffer-xrange for the use of isupper()).  If that is the case, we append word to our collector list uppercase_words.\n",
    "\n",
    "**Try it for yourself:**\n",
    "Collect all words that end in \"t\" in the same text mytext that we just used."
   ]
  },
  {
   "cell_type": "code",
   "execution_count": 73,
   "metadata": {},
   "outputs": [
    {
     "data": {
      "text/plain": [
       "['that', 'Parrot', 'project', 'Jet', 'spacecraft']"
      ]
     },
     "execution_count": 73,
     "metadata": {},
     "output_type": "execute_result"
    }
   ],
   "source": [
    "t_list = []\n",
    "\n",
    "for word in words:\n",
    "    if word.endswith(\"t\"):\n",
    "        t_list.append(word)\n",
    "\n",
    "t_list"
   ]
  },
  {
   "cell_type": "markdown",
   "metadata": {},
   "source": [
    "Similarly, here is some code that goes through the same text, lowercases each word and stores the result in a result list:"
   ]
  },
  {
   "cell_type": "code",
   "execution_count": 65,
   "metadata": {},
   "outputs": [
    {
     "data": {
      "text/plain": [
       "['the',\n",
       " 'python',\n",
       " 'programming',\n",
       " 'language',\n",
       " 'by',\n",
       " 'guido',\n",
       " 'van',\n",
       " 'rossum',\n",
       " 'is',\n",
       " 'named']"
      ]
     },
     "execution_count": 65,
     "metadata": {},
     "output_type": "execute_result"
    }
   ],
   "source": [
    "mytext = \"\"\"The Python programming language by Guido van Rossum is named after the troupe, \n",
    "and Monty Python references are often found in sample code created for that language. \n",
    "Additionally, a 2001 April Fool's Day joke by van Rossum and Larry Wall involving the \n",
    "merger of Python with Perl was dubbed \"Parrot\" after the Dead Parrot Sketch. \n",
    "The name \"Parrot\" was later used for a project to develop a virtual machine for running \n",
    "bytecode for interpreted languages such as Perl and Python. \n",
    "Also, the Jet Propulsion Laboratory wrote some spacecraft navigation software in Python, \n",
    "which they dubbed \"Monty\". There is also a python refactoring tool called \n",
    "bicyclerepair ( [1] ), named after Bicycle Repair Man sketch.\"\"\"\n",
    "\n",
    "words = mytext.split()\n",
    "\n",
    "result_list = [ ]\n",
    "for word in words:\n",
    "    lowered = word.lower()\n",
    "    result_list.append(lowered)\n",
    "        \n",
    "\n",
    "result_list[:10]"
   ]
  },
  {
   "cell_type": "markdown",
   "metadata": {},
   "source": [
    "# Ranges\n",
    "\n",
    "Suppose you wanted to have a list of the form ```[0, 1, 2, 3, 4]```, that is, a series of consecutive numbers. Then you can do that as before:"
   ]
  },
  {
   "cell_type": "markdown",
   "metadata": {},
   "source": [
    "my_list = [0,1,2,3,4]"
   ]
  },
  {
   "cell_type": "markdown",
   "metadata": {},
   "source": [
    "But since this is a kind of data structure that is needed relatively often, Python has a shortcut for this:"
   ]
  },
  {
   "cell_type": "code",
   "execution_count": 66,
   "metadata": {},
   "outputs": [
    {
     "data": {
      "text/plain": [
       "[0, 1, 2, 3, 4]"
      ]
     },
     "execution_count": 66,
     "metadata": {},
     "output_type": "execute_result"
    }
   ],
   "source": [
    "my_range = range(5)\n",
    "list(my_range)"
   ]
  },
  {
   "cell_type": "markdown",
   "metadata": {},
   "source": [
    "```range(n)``` yields a data type called a *range* (something similar to a list) that starts at 0 and ends at n-1 (*not n!*). This is like with list slices: Remember that ```my_list[1:4]``` gave you the part of the list that started at index 1 and ended at index 3.\n",
    "\n",
    "You can also use ```range() ```with two parameters instead of one. ```range(j, k)``` yields the numbers from j to k-1:"
   ]
  },
  {
   "cell_type": "code",
   "execution_count": 67,
   "metadata": {},
   "outputs": [
    {
     "data": {
      "text/plain": [
       "[2, 3, 4]"
      ]
     },
     "execution_count": 67,
     "metadata": {},
     "output_type": "execute_result"
    }
   ],
   "source": [
    "my_range = range(2,5)\n",
    "list(my_range)"
   ]
  },
  {
   "cell_type": "markdown",
   "metadata": {},
   "source": [
    "You can also do this:"
   ]
  },
  {
   "cell_type": "code",
   "execution_count": 68,
   "metadata": {},
   "outputs": [
    {
     "data": {
      "text/plain": [
       "[20, 22, 24, 26, 28]"
      ]
     },
     "execution_count": 68,
     "metadata": {},
     "output_type": "execute_result"
    }
   ],
   "source": [
    "list(range(20, 30, 2))"
   ]
  },
  {
   "cell_type": "markdown",
   "metadata": {},
   "source": [
    "Here is how to use ```range()``` in a loop to count to ten:"
   ]
  },
  {
   "cell_type": "code",
   "execution_count": 69,
   "metadata": {},
   "outputs": [
    {
     "name": "stdout",
     "output_type": "stream",
     "text": [
      "1\n",
      "2\n",
      "3\n",
      "4\n",
      "5\n",
      "6\n",
      "7\n",
      "8\n",
      "9\n",
      "10\n"
     ]
    }
   ],
   "source": [
    "for num in range(1, 11):\n",
    "    print( num )"
   ]
  },
  {
   "cell_type": "markdown",
   "metadata": {},
   "source": [
    "**Try it for yourself:**\n",
    "\n",
    "* How can you use range() to sum up the numbers from 1 to 20?"
   ]
  },
  {
   "cell_type": "code",
   "execution_count": 74,
   "metadata": {},
   "outputs": [
    {
     "data": {
      "text/plain": [
       "190"
      ]
     },
     "execution_count": 74,
     "metadata": {},
     "output_type": "execute_result"
    }
   ],
   "source": [
    "mySum = 0\n",
    "\n",
    "for i in range(20):\n",
    "    mySum += i\n",
    "\n",
    "mySum"
   ]
  }
 ],
 "metadata": {
  "kernelspec": {
   "display_name": "Python 3.10.6 64-bit",
   "language": "python",
   "name": "python3"
  },
  "language_info": {
   "codemirror_mode": {
    "name": "ipython",
    "version": 3
   },
   "file_extension": ".py",
   "mimetype": "text/x-python",
   "name": "python",
   "nbconvert_exporter": "python",
   "pygments_lexer": "ipython3",
   "version": "3.10.6"
  },
  "vscode": {
   "interpreter": {
    "hash": "aee8b7b246df8f9039afb4144a1f6fd8d2ca17a180786b69acc140d282b71a49"
   }
  }
 },
 "nbformat": 4,
 "nbformat_minor": 2
}
