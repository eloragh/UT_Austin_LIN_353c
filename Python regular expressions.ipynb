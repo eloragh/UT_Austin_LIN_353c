{
 "cells": [
  {
   "cell_type": "markdown",
   "metadata": {},
   "source": [
    "# Describing text patterns with regular expressions\n",
    "\n",
    "Regular expressions let you search for patterns in text, or replace patterns in text:\n",
    "\n",
    "* Find words that end in \"ion\", and remove that ending\n",
    "* Find duplicate letters in tweets, like \"soo\", \"sooo\", \"sooooo\"\n",
    "* Find all smileys: :)  ;-)  :(  :-(  ;-) :-o :-{ \n",
    "* Find and remove \"@someone\" tags in tweets\n",
    "\n",
    "In Python, you can use the package ``re`` to work with regular expressions. The function ``search`` finds character sequences that match a pattern, and ``sub`` replaces character sequences based on a regular expression pattern. \n",
    "\n",
    "## Patterns that are simply strings\n",
    "\n",
    "In the simplest case, we match an exact sequence of characters. We use some tweets from the NLTK ``twitter_sample`` corpus as examples. (The Python formulation is a bit lengthy: We are not using loops because we're only starting on loops later in the class.)"
   ]
  },
  {
   "cell_type": "code",
   "execution_count": 1,
   "metadata": {
    "scrolled": true
   },
   "outputs": [
    {
     "name": "stdout",
     "output_type": "stream",
     "text": [
      "1 #FollowFriday @France_Inte @PKuchly57 @Milipol_Paris for being top engaged members in my community this week :) \n",
      "\n",
      "2 @Lamb2ja Hey James! How odd :/ Please call our Contact Centre on 02392441234 and we will be able to assist you :) Many thanks! \n",
      "\n",
      "3 @DespiteOfficial we had a listen last night :) As You Bleed is an amazing track. When are you in Scotland?! \n",
      "\n",
      "4 @97sides CONGRATS :) \n",
      "\n",
      "5 yeaaaah yippppy!!!  my accnt verified rqst has succeed got a blue tick mark on my fb profile :) in 15 days \n",
      "\n",
      "6 @s0ulfl0wr When's your birthday ? :( \n",
      "\n",
      "7 @brittleyouth @Tom_J_Allen @AndrewFairbairn @batemanesque @Hegelbon @jameswheeler that was the worst part and I still feel bad about it :( \n",
      "\n",
      "8 audraesar: All these sushi pics on my tl are driving me craaaazzyy :( \n",
      "\n",
      "9 Really want this :( http://t.co/36tSy81iMi \n",
      "\n",
      "10 Popped like a helium balloon..  :-( \n",
      "\n",
      "11 RT @BBCPolitics: David Cameron says child benefit is \"key\" for UK families http://t.co/jsd8Jb1lYA #bbcqt http://t.co/c13CsAKr4Q \n",
      "\n",
      "12 RT @HuffPostUK: The Tory spin message about David Cameron's performance is a bit obvious #bbcqt http://t.co/yihDlG5NVo http://t.co/KsqFCqwS… \n",
      "\n",
      "13 I see @bbcnickrobinson is doing his best to spin this for the Tories. Lame. Predictable and lame. #bbcqt \n",
      "\n",
      "14 @DanielMancip yes I'm not a nationalist ... I don't vote SNP, won't vote SNP - you however as a unionist are a nationalist \n",
      "\n",
      "15 RT @christopherhope: I will ask David Cameron if he has the Liam Byrne note in his pocket tomorrow. Apparently he takes it 'everywhere' #bb… \n",
      "\n"
     ]
    }
   ],
   "source": [
    "# regular expressions package\n",
    "import re\n",
    "# tweet corpus from NLTK\n",
    "from nltk.corpus import twitter_samples\n",
    "\n",
    "# The tweets are sorted into positive, negative, and other,\n",
    "# where many tweets seem to be about Brexit.\n",
    "postweets = twitter_samples.strings(\"positive_tweets.json\")\n",
    "negtweets = twitter_samples.strings(\"negative_tweets.json\")\n",
    "othertweets = twitter_samples.strings(\"tweets.20150430-223406.json\")\n",
    "\n",
    "# and grab some sample tweets\n",
    "tweet1 = postweets[0]\n",
    "tweet2 = postweets[1]\n",
    "tweet3 = postweets[2]\n",
    "tweet4 = postweets[3]\n",
    "tweet5 = postweets[4]\n",
    "tweet6 = negtweets[50]\n",
    "tweet7 = negtweets[51]\n",
    "tweet8 = negtweets[52]\n",
    "tweet9 = negtweets[53]\n",
    "tweet10 = negtweets[54]\n",
    "tweet11 = othertweets[100]\n",
    "tweet12 = othertweets[101]\n",
    "tweet13 = othertweets[102]\n",
    "tweet14 = othertweets[103]\n",
    "tweet15 = othertweets[104]\n",
    "\n",
    "print(\"1\", tweet1, \"\\n\")\n",
    "print(\"2\", tweet2, \"\\n\")\n",
    "print(\"3\", tweet3, \"\\n\")\n",
    "print(\"4\", tweet4, \"\\n\")\n",
    "print(\"5\", tweet5, \"\\n\")\n",
    "print(\"6\", tweet6, \"\\n\")\n",
    "print(\"7\", tweet7, \"\\n\")\n",
    "print(\"8\", tweet8, \"\\n\")\n",
    "print(\"9\", tweet9, \"\\n\")\n",
    "print(\"10\", tweet10, \"\\n\")\n",
    "print(\"11\", tweet11, \"\\n\")\n",
    "print(\"12\", tweet12, \"\\n\")\n",
    "print(\"13\", tweet13, \"\\n\")\n",
    "print(\"14\", tweet14, \"\\n\")\n",
    "print(\"15\", tweet15, \"\\n\")\n",
    "\n"
   ]
  },
  {
   "cell_type": "code",
   "execution_count": 2,
   "metadata": {},
   "outputs": [
    {
     "data": {
      "text/plain": [
       "<re.Match object; span=(14, 15), match='@'>"
      ]
     },
     "execution_count": 2,
     "metadata": {},
     "output_type": "execute_result"
    }
   ],
   "source": [
    "# Simplest regular expression: direct match.\n",
    "# Let's check some tweets for if they contain an @\n",
    "# (tagging someone)\n",
    "\n",
    "re.search(\"@\", tweet1)"
   ]
  },
  {
   "cell_type": "markdown",
   "metadata": {},
   "source": [
    "We got an answer, something that is a \"match object\". What was matched is a '@', at indices 14-15 in the text. (Count the indices starting from zero in tweet 1, and you'll see that it's true.)\n",
    "\n",
    "Let's try another one:"
   ]
  },
  {
   "cell_type": "code",
   "execution_count": 3,
   "metadata": {},
   "outputs": [],
   "source": [
    "re.search(\"@\", tweet5)"
   ]
  },
  {
   "cell_type": "markdown",
   "metadata": {},
   "source": [
    "That seems not to have produced any output. Let's try this a bit differently, and print whatever output we get from ``re.search()``:"
   ]
  },
  {
   "cell_type": "code",
   "execution_count": 4,
   "metadata": {},
   "outputs": [
    {
     "name": "stdout",
     "output_type": "stream",
     "text": [
      "None\n"
     ]
    }
   ],
   "source": [
    "print(re.search(\"@\", tweet5))"
   ]
  },
  {
   "cell_type": "markdown",
   "metadata": {},
   "source": [
    "Now you can see that when there is no match, the ``re.search`` function returns a special Python object, ``None``. This is not a string, but its own kind of object.\n",
    "\n",
    "**Try it for yourself:** Pick 2 different tweets, and use ``re.search`` to check whether they contain the string \"Cameron\". (As you can see above, David Cameron is mentioned in many apparently Brexit-related tweets in the NLTK dataset.)"
   ]
  },
  {
   "cell_type": "code",
   "execution_count": 5,
   "metadata": {},
   "outputs": [],
   "source": [
    "# your code here"
   ]
  },
  {
   "cell_type": "markdown",
   "metadata": {},
   "source": [
    "Regular expressions match character sequences, not words, so if we check which tweets match the regular expression \"on\", tweet10 will be a match (try it!) because it contains \"balloon\". "
   ]
  },
  {
   "cell_type": "code",
   "execution_count": null,
   "metadata": {},
   "outputs": [],
   "source": []
  },
  {
   "cell_type": "markdown",
   "metadata": {},
   "source": [
    "## Straight brackets: any one of these characters\n",
    "\n",
    "Say we want to find all occurrences of the word \"the\", whether it is \"the\" or \"The\" or \"THE\". We can do this to find either \"the\" or \"The\":"
   ]
  },
  {
   "cell_type": "code",
   "execution_count": 6,
   "metadata": {},
   "outputs": [
    {
     "name": "stdout",
     "output_type": "stream",
     "text": [
      "tweet 7 <re.Match object; span=(91, 94), match='the'>\n",
      "tweet 12 <re.Match object; span=(16, 19), match='The'>\n"
     ]
    }
   ],
   "source": [
    "print(\"tweet 7\", re.search(\"[Tt]he\", tweet7))\n",
    "\n",
    "print(\"tweet 12\", re.search(\"[Tt]he\", tweet12))"
   ]
  },
  {
   "cell_type": "markdown",
   "metadata": {},
   "source": [
    "[Tt] matches a single letter which can be either T or t. If we also want to match THE, we can match an upper- or lowercase t, followed by an upper- or lowercase h, followed by an upper- or lowercase e:"
   ]
  },
  {
   "cell_type": "code",
   "execution_count": 7,
   "metadata": {},
   "outputs": [
    {
     "name": "stdout",
     "output_type": "stream",
     "text": [
      "tweet 12 <re.Match object; span=(16, 19), match='The'>\n"
     ]
    }
   ],
   "source": [
    "print(\"tweet 12\", re.search(\"[Tt][Hh][Ee]\", tweet12))"
   ]
  },
  {
   "cell_type": "markdown",
   "metadata": {},
   "source": [
    "We can also put more choices into the straight brackets. [aeiou] matches a single lowercase vowel, and [0123456789] matches a single digit. Since \"match any digit\" is something that is often needed, there is an abbreviation: [0-9] also matches any single digit. Similarly, [A-Z] matches a single uppercase letter, [a-z] a single lowercase letter, and [A-Za-z] any letter of the alphabet, uppercase or lowercase. \n",
    "\n",
    "**Try it for yourself:** What regular expression would you use to check whether a tweet contains at least two consecutive digits? Try it on tweet\n",
    "2 (which should match), and tweet 6 (which should not match)."
   ]
  },
  {
   "cell_type": "code",
   "execution_count": 8,
   "metadata": {},
   "outputs": [],
   "source": [
    "# your code here"
   ]
  },
  {
   "cell_type": "markdown",
   "metadata": {},
   "source": [
    "Similarly, you could check whether a tweet contains an all-caps word by checking whether it contains two consecutive uppercase letters. What regular expression would you use? Try it on tweet 4, where it should match, and tweet 13, where it shouldn't match. (It should also match on tweet 11, but the word there is not all uppercase, it's \"@BBCPolitics\". We'll see later how to fix this.)"
   ]
  },
  {
   "cell_type": "code",
   "execution_count": 9,
   "metadata": {},
   "outputs": [],
   "source": [
    "# your code here"
   ]
  },
  {
   "cell_type": "markdown",
   "metadata": {},
   "source": [
    "You can also negate a bracket expression by putting a ^ (caret) directly after the opening bracket:\n",
    "\n",
    "[^aeiou] matches any character that is not a lowercase vowel -- including a number, or a comma, or even a space. [^A-Za-z] matches anything but a letter.\n",
    "\n",
    "\n",
    "## Another way of matching a single letter\n",
    "You can also match a single letter like this:\n",
    "\n",
    "    \\d matches a single digit, equivalent to [0-9]\n",
    "    \\D matches a single character that is not a digit, equivalent to [^0-9]\n",
    "    \\s matches a whitespace, equivalent to [\\t\\n\\r\\f\\v]\n",
    "    \\S matches a non-whitespace\n",
    "    \\w matches an alphanumeric character, equivalent o [A-Za-z0-9_]\n",
    "    \\W matches a non-alphanumeric character\n",
    "\n",
    "**Try it for yourself**: Can you make a pattern that looks for two uppercase characters in a row, followed by a space? This should still match tweet 4, but should not match tweet 11 anymore."
   ]
  },
  {
   "cell_type": "code",
   "execution_count": 10,
   "metadata": {},
   "outputs": [],
   "source": [
    "# your code here"
   ]
  },
  {
   "cell_type": "markdown",
   "metadata": {},
   "source": [
    "## Matching a smiley: :-) or :-(\n",
    "\n",
    "Let's say we want to find occurrences of either :-) or :-(. We can use straight brackets for this. But we have to be careful: Parentheses, like straight brackets, have a special meaning in regular expressions. To look for a literal opening parenthesis, we have to preface it with a ``\\``. So to look for a single character that is either an opening or closing parenthesis, we say: opening straight bracket, literal (backslash) opening parenthesis, literal (backslash) closing parenthesis, closing straight bracket. Here is a pattern that matches either a smiling face or frowning face:"
   ]
  },
  {
   "cell_type": "code",
   "execution_count": 11,
   "metadata": {},
   "outputs": [
    {
     "data": {
      "text/plain": [
       "<re.Match object; span=(32, 35), match=':-('>"
      ]
     },
     "execution_count": 11,
     "metadata": {},
     "output_type": "execute_result"
    }
   ],
   "source": [
    "re.search(\":-[\\(\\)]\", tweet10)"
   ]
  },
  {
   "cell_type": "markdown",
   "metadata": {},
   "source": [
    "## Optionality: the question mark\n",
    "\n",
    "Smileys are sometimes written with a nose, sometimes without. We would want to say: match a colon for the eyes, then an optional nose, then a parenthesis for the mouth. You can mark an optional component in a pattern by a question mark after it, so \n",
    "\n",
    "    :-?\\(\n",
    "    \n",
    "will match a frowny face with either a nose or no nose. We test this, for simplicity only with frowning mouth, not a smile as above: "
   ]
  },
  {
   "cell_type": "code",
   "execution_count": 12,
   "metadata": {},
   "outputs": [
    {
     "name": "stdout",
     "output_type": "stream",
     "text": [
      "Tweet 9 <re.Match object; span=(17, 19), match=':('>\n",
      "Tweet 10 <re.Match object; span=(32, 35), match=':-('>\n"
     ]
    }
   ],
   "source": [
    "print(\"Tweet 9\", re.search(\":-?\\(\", tweet9))\n",
    "print(\"Tweet 10\", re.search(\":-?\\(\", tweet10))\n"
   ]
  },
  {
   "cell_type": "markdown",
   "metadata": {},
   "source": [
    "## The Kleene star\n",
    "\n",
    "A star after a character or other component means: zero or more. For example, we can match zero or more whitespaces by saying\n",
    "    \\s*\n",
    "This star is called a \"Kleene star\". To match one or more whitespaces, you can say \n",
    "    \\s\\s*\n",
    "or, as a shortcut\n",
    "    \\s+\n",
    "where the + means \"one or more occurrences.\"\n",
    "\n",
    "**Try it for yourself:** \n",
    "\n",
    "* Match one or more whitespaces, then one or more digits, then one or more whitespaces. Try this on tweet 2 (where it should match) and tweet 1 (where it shouldn't match.)\n",
    "\n",
    "* In tweets, we often have repeated letters, like \"craaaazzyy\" in tweet 8. Can you write a regular expression that matches \"cr\", followed by one or more a's, then one or more z's, then one or more y's? Check it on tweet 8. "
   ]
  },
  {
   "cell_type": "code",
   "execution_count": null,
   "metadata": {},
   "outputs": [],
   "source": []
  },
  {
   "cell_type": "markdown",
   "metadata": {},
   "source": [
    " \n",
    "## Wildcard\n",
    "\n",
    "The period \".\" matches any single character: letter, digit, punctuation, whitespace, and anything else also. For example, \"m..c\" will match an occurrence of \"m\", then 2 characters whatever they may be, then \"c\".\n",
    "If you want to match a literal period, you have to put a backslash (\"\\\\\") before it. \n",
    "\n",
    "## Grouping with parentheses\n",
    "\n",
    "You can group parts of a regular expression together with parentheses. For example,\n",
    "    banana+\n",
    "matches the words \"banana\", \"bananaa\", \"bananaaaaa\", because the element that is repeated once or more is the \"a\". But\n",
    "    bana(na)+\n",
    "matches \"banana\", \"bananana\", \"banananana\", and so on: Because of the parentheses, we are repeating the \"na\", not just the \"a\". \n",
    "\n",
    "\n",
    "## Anchors\n",
    "\n",
    "Anchors don't match any characters, they mark special places in a string: at the beginning and end of the string, and at the boundaries of words (now, finally, we get to a regular expression character that is not ignorant to what words are!).\n",
    "\n",
    "\n",
    "\"^\" matches at the beginning of a string. So\n",
    "\n",
    "    \"^123\"\n",
    "\n",
    "will only match strings that begin with \"123\". So it matches\n",
    "\"123456\" but not \"456 123\".\n",
    "\n",
    "**Try it for yourself:** Make a regular expression pattern that looks for retweets, marked by the letters \"RT\" at the beginning of the tweet. Check your pattern on tweet 11, where it should match, and on tweet 10, where it should not. "
   ]
  },
  {
   "cell_type": "code",
   "execution_count": null,
   "metadata": {},
   "outputs": [],
   "source": []
  },
  {
   "cell_type": "markdown",
   "metadata": {},
   "source": [
    "\"$\" matches at the end of a string. So\n",
    "\n",
    "    \"123$\"\n",
    "\n",
    "will match strings that end with \"123\". \n",
    "\n",
    "There are two more anchors, as promised:\n",
    "\n",
    "    \\b matches a word boundary\n",
    "    \\B matches anywhere but at a word boundary\n",
    "\n",
    "*A word of caution: Some combination of backslash plus letter have special interpretations in strings, for example \\n is newline. \\b is backspace (delete a character to the left). We don't want Python to interpret \"\\b\" in a regular expression as backspace. The way to say that is to put an r for \"raw\" before  your string. (Looks weird, but is correct.) Like this: r\"\\bsing\\b\". This will match the word \"sing\" but not \"singing\" and also not \"cursing\".*\n",
    "\n",
    "    re.search(r\"\\bsing\\b\", tweet1)\n",
    "\n",
    "**Try it for yourself:**\n",
    "\n",
    "* Now we can fix our problem from before: We can look for all-caps words by matching a word boundary, followed by one or more capital letters, followed by a word boundary. Make this expression, and test it on tweet 4, where it should match, and on tweet 11, where it should not match. Also try it on tweet 7: Why do you think it matches there?\n",
    "\n",
    "* Make a regular expression pattern that matches tags: a word boundary, then an @, followed by one or more alphanumeric characters, then a word boundary."
   ]
  },
  {
   "cell_type": "code",
   "execution_count": null,
   "metadata": {},
   "outputs": [],
   "source": []
  },
  {
   "cell_type": "markdown",
   "metadata": {},
   "source": [
    "## Or\n",
    "\n",
    "A single verticle line \"|\" means \"or\". So\n",
    "\n",
    "    a|b\n",
    "\n",
    "matches a single \"a\" or \"b\", same as [ab]. But the vertical line can do things that straight-bracket expressions cannot do, like this:\n",
    "\n",
    "    mov(es|ing|e|ed)\n",
    "\n",
    "This pattern matches \"moves\", \"moving\", \"move\", and \"moved\".\n",
    "\n",
    "\n",
    "## Substitution\n",
    "\n",
    "The Python ``re`` package has a number of functions that use regular expressions, besides ``re.search()``, which we have used above. Here is the documentation of the Python ``re`` package: https://docs.python.org/3.8/library/re.html\n",
    "\n",
    "One function that is particularly useful is ``re.sub()``, which does substitution based on regular expressions: Find particular text patterns, and replace them by something else. \n",
    "\n",
    "In its most simple form, ``re.sub()`` replaces literal character sequences by other character sequences. Here is one that searches for occurrences of the letter \"b\", and replaces it by \"B\", in the string \"banana\":"
   ]
  },
  {
   "cell_type": "code",
   "execution_count": 13,
   "metadata": {},
   "outputs": [
    {
     "data": {
      "text/plain": [
       "'Banana'"
      ]
     },
     "execution_count": 13,
     "metadata": {},
     "output_type": "execute_result"
    }
   ],
   "source": [
    "re.sub(\"b\", \"B\", \"banana\")"
   ]
  },
  {
   "cell_type": "markdown",
   "metadata": {},
   "source": [
    "The first argument is the pattern to search for, the second argument is the replacement, and the last argument, as in ``re.search()``, is the text on which the function works.\n",
    "\n",
    "When there are multiple matches, they all get replaced, as in this example:"
   ]
  },
  {
   "cell_type": "code",
   "execution_count": 14,
   "metadata": {},
   "outputs": [
    {
     "data": {
      "text/plain": [
       "'bimima'"
      ]
     },
     "execution_count": 14,
     "metadata": {},
     "output_type": "execute_result"
    }
   ],
   "source": [
    "re.sub(\"an\", \"im\", \"banana\")"
   ]
  },
  {
   "cell_type": "markdown",
   "metadata": {},
   "source": [
    "Here is how you can use a regular expression pattern in the first argument: The following command replaces a sequence of digits by an X:"
   ]
  },
  {
   "cell_type": "code",
   "execution_count": 15,
   "metadata": {},
   "outputs": [
    {
     "data": {
      "text/plain": [
       "'the number is X'"
      ]
     },
     "execution_count": 15,
     "metadata": {},
     "output_type": "execute_result"
    }
   ],
   "source": [
    "re.sub(\"[0-9]+\", \"X\", \"the number is 123456\")"
   ]
  },
  {
   "cell_type": "markdown",
   "metadata": {},
   "source": [
    "Sometimes you want to specify not just the term to be replaced, but the context in which you replace it. Say you want to replace an \"a\" by a \"b\", but only if it is preceded by two characters that are x's or y's. Then this is not going to get us what we want: "
   ]
  },
  {
   "cell_type": "code",
   "execution_count": 16,
   "metadata": {},
   "outputs": [
    {
     "data": {
      "text/plain": [
       "'b'"
      ]
     },
     "execution_count": 16,
     "metadata": {},
     "output_type": "execute_result"
    }
   ],
   "source": [
    "re.sub(\"[xy][xy]a\", \"b\", \"xxa\")"
   ]
  },
  {
   "cell_type": "markdown",
   "metadata": {},
   "source": [
    "We have replaced the whole expression by \"b\", instead of just replacing the \"a\".\n",
    "\n",
    "What we need to say instead is: The pattern consists of two parts. The first part, ``[xy][xy]``, should be copied over unchanged. The second part, consisting of an \"a\", should be replaced by a b. \n",
    "\n",
    "We use round brackets to partition the pattern. We use numbers to refer back to the partitions: \"\\\\1\" refers back to the first partition (which is the partition that has its opening bracket the furthest to the left), and \"\\\\2\" refers back to the second partition. We fix the regular expression to get this:"
   ]
  },
  {
   "cell_type": "code",
   "execution_count": 17,
   "metadata": {},
   "outputs": [
    {
     "data": {
      "text/plain": [
       "'xxb'"
      ]
     },
     "execution_count": 17,
     "metadata": {},
     "output_type": "execute_result"
    }
   ],
   "source": [
    "re.sub(\"([xy][xy])(a)\", r\"\\1b\", \"xxa\")"
   ]
  },
  {
   "cell_type": "markdown",
   "metadata": {},
   "source": [
    "So here the second argument (which has an \"r\" for \"raw\" again in front of the string) says: Copy the first partition, then put a b. \n",
    "\n",
    "Here is another example: Let's replace a whitespace by a dash, but only if there are at least three numbers before it, and four after it -- that is, you want to replace phone numbers 456 7890 by 456-7890.  We again use partitions, marked by round brackets, to say we want to keep the first group of numbers, replace the whitespace by a dash, and keep the third group, which is again a group of numbers:"
   ]
  },
  {
   "cell_type": "code",
   "execution_count": 18,
   "metadata": {},
   "outputs": [
    {
     "data": {
      "text/plain": [
       "'456-7890'"
      ]
     },
     "execution_count": 18,
     "metadata": {},
     "output_type": "execute_result"
    }
   ],
   "source": [
    "re.sub(r\"(\\d\\d\\d)(\\s)(\\d\\d\\d\\d)\", r\"\\1-\\3\", \"456 7890\")"
   ]
  },
  {
   "cell_type": "markdown",
   "metadata": {},
   "source": [
    "\n",
    "\n",
    "**Try it for yourself:** Let's replace person names by ``<NAMEDENTITY>``. This is actually useful, as often we don't care who the people are who the text talks about, and we don't want their names in our vocabulary. So make a regular expression pattern that matches a word boundary, followed by a capital letter, followed by one or more lowercase letters, then a word boundary. Replace that by ``<NAMEDENTITY>``.  Try it on tweet 11 (where it gives you a nice result), and on tweet 2 (where it proves to be a bit overeager.) "
   ]
  },
  {
   "cell_type": "code",
   "execution_count": null,
   "metadata": {},
   "outputs": [],
   "source": []
  },
  {
   "cell_type": "code",
   "execution_count": null,
   "metadata": {},
   "outputs": [],
   "source": []
  }
 ],
 "metadata": {
  "kernelspec": {
   "display_name": "Python 3",
   "language": "python",
   "name": "python3"
  },
  "language_info": {
   "codemirror_mode": {
    "name": "ipython",
    "version": 3
   },
   "file_extension": ".py",
   "mimetype": "text/x-python",
   "name": "python",
   "nbconvert_exporter": "python",
   "pygments_lexer": "ipython3",
   "version": "3.7.4"
  }
 },
 "nbformat": 4,
 "nbformat_minor": 2
}
